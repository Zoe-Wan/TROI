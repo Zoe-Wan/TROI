{
 "cells": [
  {
   "cell_type": "markdown",
   "id": "b0f0f4f3",
   "metadata": {},
   "source": [
    "# Import packages & functions"
   ]
  },
  {
   "cell_type": "code",
   "execution_count": 1,
   "id": "5bad764b-45c1-45ce-a716-8d055e09821a",
   "metadata": {
    "tags": []
   },
   "outputs": [],
   "source": [
    "import os\n",
    "import sys\n",
    "import json\n",
    "import argparse\n",
    "import numpy as np\n",
    "import math\n",
    "from einops import rearrange\n",
    "import time\n",
    "import random\n",
    "import string\n",
    "import h5py\n",
    "from tqdm import tqdm\n",
    "import webdataset as wds\n",
    "import gc\n",
    "\n",
    "import matplotlib.pyplot as plt\n",
    "import torch\n",
    "import torch.nn as nn\n",
    "from torchvision import transforms\n",
    "from accelerate import Accelerator\n",
    "\n",
    "# SDXL unCLIP requires code from https://github.com/Stability-AI/generative-models/tree/main\n",
    "sys.path.append('generative_models/')\n",
    "import sgm\n",
    "from generative_models.sgm.modules.encoders.modules import FrozenOpenCLIPImageEmbedder # bigG embedder\n",
    "\n",
    "# tf32 data type is faster than standard float32\n",
    "torch.backends.cuda.matmul.allow_tf32 = True\n",
    "\n",
    "# custom functions #\n",
    "import utils"
   ]
  },
  {
   "cell_type": "code",
   "execution_count": 2,
   "id": "cc5d2e32-6027-4a19-bef4-5ca068db35bb",
   "metadata": {
    "tags": []
   },
   "outputs": [
    {
     "name": "stdout",
     "output_type": "stream",
     "text": [
      "LOCAL RANK  0\n"
     ]
    }
   ],
   "source": [
    "### Multi-GPU config ###\n",
    "local_rank = os.getenv('RANK')\n",
    "if local_rank is None: \n",
    "    local_rank = 0\n",
    "else:\n",
    "    local_rank = int(local_rank)\n",
    "print(\"LOCAL RANK \", local_rank)  \n",
    "\n",
    "data_type = torch.float32 # change depending on your mixed_precision\n",
    "num_devices = torch.cuda.device_count()\n",
    "if num_devices==0: num_devices = 1\n",
    "\n",
    "# First use \"accelerate config\" in terminal and setup using deepspeed stage 2 with CPU offloading!\n",
    "accelerator = Accelerator(split_batches=False, mixed_precision=\"fp16\")\n",
    "if utils.is_interactive(): # set batch size here if using interactive notebook instead of submitting job\n",
    "    global_batch_size = batch_size = 8\n",
    "else:\n",
    "    global_batch_size = os.environ[\"GLOBAL_BATCH_SIZE\"]\n",
    "    batch_size = int(os.environ[\"GLOBAL_BATCH_SIZE\"]) // num_devices"
   ]
  },
  {
   "cell_type": "code",
   "execution_count": 3,
   "id": "b767ab6f-d4a9-47a5-b3bf-f56bf6760c0c",
   "metadata": {
    "tags": []
   },
   "outputs": [
    {
     "name": "stdout",
     "output_type": "stream",
     "text": [
      "PID of this process = 10660\n",
      "device: cuda\n",
      "Distributed environment: NO\n",
      "Num processes: 1\n",
      "Process index: 0\n",
      "Local process index: 0\n",
      "Device: cuda\n",
      "\n",
      "Mixed precision type: fp16\n",
      "\n",
      "distributed = False num_devices = 1 local rank = 0 world size = 1 data_type = torch.float32\n"
     ]
    }
   ],
   "source": [
    "print(\"PID of this process =\",os.getpid())\n",
    "device = accelerator.device\n",
    "print(\"device:\",device)\n",
    "world_size = accelerator.state.num_processes\n",
    "distributed = not accelerator.state.distributed_type == 'NO'\n",
    "num_devices = torch.cuda.device_count()\n",
    "if num_devices==0 or not distributed: num_devices = 1\n",
    "num_workers = num_devices\n",
    "print(accelerator.state)\n",
    "\n",
    "print(\"distributed =\",distributed, \"num_devices =\", num_devices, \"local rank =\", local_rank, \"world size =\", world_size, \"data_type =\", data_type)\n",
    "print = accelerator.print # only print if local_rank=0"
   ]
  },
  {
   "cell_type": "markdown",
   "id": "9018b82b-c054-4463-9527-4b0c2a75bda6",
   "metadata": {
    "tags": []
   },
   "source": [
    "# Configurations"
   ]
  },
  {
   "cell_type": "code",
   "execution_count": 4,
   "id": "2b61fec7-72a0-4b67-86da-1375f1d9fbd3",
   "metadata": {
    "tags": []
   },
   "outputs": [
    {
     "name": "stdout",
     "output_type": "stream",
     "text": [
      "model_name: multisubject_subj2_session1_1916\n",
      "--data_path=/root/autodl-tmp/NSD/mindeyev2_dataset                     --cache_dir=/root/autodl-tmp/clip                     --model_name=multisubject_subj2_session1_1916                     --no-multi_subject --subj=2 --batch_size=8 --num_sessions=1                     --hidden_dim=4096 --clip_scale=1                     --no-blurry_recon --blur_scale=.5                      --seq_past=0 --seq_future=0                     --use_prior --prior_scale=30                     --n_blocks=4 --max_lr=3e-4 --mixup_pct=0.33 --num_epochs=150 --no-use_image_aug                     --ckpt_interval=1 --ckpt_saving --wandb_log                    --multisubject_ckpt=/root/autodl-tmp/fMRI/train_logs/final_multisubject_subj02\n"
     ]
    }
   ],
   "source": [
    "# if running this interactively, can specify jupyter_args here for argparser to use\n",
    "if utils.is_interactive():\n",
    "    model_name = \"multisubject_subj2_session1_1916\"\n",
    "    print(\"model_name:\", model_name)\n",
    "    \n",
    "    # global_batch_size and batch_size should already be defined in the 2nd cell block\n",
    "    jupyter_args = f\"--data_path=/root/autodl-tmp/NSD/mindeyev2_dataset \\\n",
    "                    --cache_dir=/root/autodl-tmp/clip \\\n",
    "                    --model_name={model_name} \\\n",
    "                    --no-multi_subject --subj=2 --batch_size={batch_size} --num_sessions=1 \\\n",
    "                    --hidden_dim=4096 --clip_scale=1 \\\n",
    "                    --no-blurry_recon --blur_scale=.5  \\\n",
    "                    --seq_past=0 --seq_future=0 \\\n",
    "                    --use_prior --prior_scale=30 \\\n",
    "                    --n_blocks=4 --max_lr=3e-4 --mixup_pct=0.33 --num_epochs=150 --no-use_image_aug \\\n",
    "                    --ckpt_interval=1 --ckpt_saving --wandb_log\\\n",
    "                    --multisubject_ckpt=/root/autodl-tmp/fMRI/train_logs/final_multisubject_subj02\"\n",
    "\n",
    "    print(jupyter_args)\n",
    "    jupyter_args = jupyter_args.split()\n",
    "    \n",
    "    from IPython.display import clear_output # function to clear print outputs in cell\n",
    "    %load_ext autoreload \n",
    "    # this allows you to change functions in models.py or utils.py and have this notebook automatically update with your revisions\n",
    "    %autoreload 2 "
   ]
  },
  {
   "cell_type": "code",
   "execution_count": 5,
   "id": "2028bdf0-2f41-46d9-b6e7-86b870dbf16c",
   "metadata": {
    "tags": []
   },
   "outputs": [
    {
     "name": "stdout",
     "output_type": "stream",
     "text": [
      "subj_list [2] num_sessions 1\n"
     ]
    }
   ],
   "source": [
    "parser = argparse.ArgumentParser(description=\"Model Training Configuration\")\n",
    "parser.add_argument(\n",
    "    \"--model_name\", type=str, default=\"testing\",\n",
    "    help=\"name of model, used for ckpt saving and wandb logging (if enabled)\",\n",
    ")\n",
    "parser.add_argument(\n",
    "    \"--data_path\", type=str, default=os.getcwd(),\n",
    "    help=\"Path to where NSD data is stored / where to download it to\",\n",
    ")\n",
    "parser.add_argument(\n",
    "    \"--cache_dir\", type=str, default=os.getcwd(),\n",
    "    help=\"Path to where misc. files downloaded from huggingface are stored. Defaults to current src directory.\",\n",
    ")\n",
    "parser.add_argument(\n",
    "    \"--subj\",type=int, default=1, choices=[1,2,3,4,5,6,7,8],\n",
    "    help=\"Validate on which subject?\",\n",
    ")\n",
    "parser.add_argument(\n",
    "    \"--multisubject_ckpt\", type=str, default=None,\n",
    "    help=\"Path to pre-trained multisubject model to finetune a single subject from. multisubject must be False.\",\n",
    ")\n",
    "parser.add_argument(\n",
    "    \"--num_sessions\", type=int, default=1,\n",
    "    help=\"Number of training sessions to include\",\n",
    ")\n",
    "parser.add_argument(\n",
    "    \"--use_prior\",action=argparse.BooleanOptionalAction,default=True,\n",
    "    help=\"whether to train diffusion prior (True) or just rely on retrieval part of the pipeline (False)\",\n",
    ")\n",
    "parser.add_argument(\n",
    "    \"--visualize_prior\",action=argparse.BooleanOptionalAction,default=False,\n",
    "    help=\"output visualizations from unCLIP every ckpt_interval (requires much more memory!)\",\n",
    ")\n",
    "parser.add_argument(\n",
    "    \"--batch_size\", type=int, default=16,\n",
    "    help=\"Batch size can be increased by 10x if only training retreival submodule and not diffusion prior\",\n",
    ")\n",
    "parser.add_argument(\n",
    "    \"--wandb_log\",action=argparse.BooleanOptionalAction,default=False,\n",
    "    help=\"whether to log to wandb\",\n",
    ")\n",
    "parser.add_argument(\n",
    "    \"--resume_from_ckpt\",action=argparse.BooleanOptionalAction,default=False,\n",
    "    help=\"if not using wandb and want to resume from a ckpt\",\n",
    ")\n",
    "parser.add_argument(\n",
    "    \"--wandb_project\",type=str,default=\"stability\",\n",
    "    help=\"wandb project name\",\n",
    ")\n",
    "parser.add_argument(\n",
    "    \"--mixup_pct\",type=float,default=.33,\n",
    "    help=\"proportion of way through training when to switch from BiMixCo to SoftCLIP\",\n",
    ")\n",
    "parser.add_argument(\n",
    "    \"--blurry_recon\",action=argparse.BooleanOptionalAction,default=True,\n",
    "    help=\"whether to output blurry reconstructions\",\n",
    ")\n",
    "parser.add_argument(\n",
    "    \"--blur_scale\",type=float,default=.5,\n",
    "    help=\"multiply loss from blurry recons by this number\",\n",
    ")\n",
    "parser.add_argument(\n",
    "    \"--clip_scale\",type=float,default=1.,\n",
    "    help=\"multiply contrastive loss by this number\",\n",
    ")\n",
    "parser.add_argument(\n",
    "    \"--prior_scale\",type=float,default=30,\n",
    "    help=\"multiply diffusion prior loss by this\",\n",
    ")\n",
    "parser.add_argument(\n",
    "    \"--use_image_aug\",action=argparse.BooleanOptionalAction,default=False,\n",
    "    help=\"whether to use image augmentation\",\n",
    ")\n",
    "parser.add_argument(\n",
    "    \"--num_epochs\",type=int,default=150,\n",
    "    help=\"number of epochs of training\",\n",
    ")\n",
    "parser.add_argument(\n",
    "    \"--multi_subject\",action=argparse.BooleanOptionalAction,default=False,\n",
    ")\n",
    "parser.add_argument(\n",
    "    \"--new_test\",action=argparse.BooleanOptionalAction,default=True,\n",
    ")\n",
    "parser.add_argument(\n",
    "    \"--n_blocks\",type=int,default=4,\n",
    ")\n",
    "parser.add_argument(\n",
    "    \"--hidden_dim\",type=int,default=1024,\n",
    ")\n",
    "parser.add_argument(\n",
    "    \"--seq_past\",type=int,default=0,\n",
    ")\n",
    "parser.add_argument(\n",
    "    \"--seq_future\",type=int,default=0,\n",
    ")\n",
    "parser.add_argument(\n",
    "    \"--lr_scheduler_type\",type=str,default='cycle',choices=['cycle','linear'],\n",
    ")\n",
    "parser.add_argument(\n",
    "    \"--ckpt_saving\",action=argparse.BooleanOptionalAction,default=True,\n",
    ")\n",
    "parser.add_argument(\n",
    "    \"--ckpt_interval\",type=int,default=5,\n",
    "    help=\"save backup ckpt and reconstruct every x epochs\",\n",
    ")\n",
    "parser.add_argument(\n",
    "    \"--seed\",type=int,default=42,\n",
    ")\n",
    "parser.add_argument(\n",
    "    \"--max_lr\",type=float,default=3e-4,\n",
    ")\n",
    "\n",
    "if utils.is_interactive():\n",
    "    args = parser.parse_args(jupyter_args)\n",
    "else:\n",
    "    args = parser.parse_args()\n",
    "\n",
    "# create global variables without the args prefix\n",
    "for attribute_name in vars(args).keys():\n",
    "    globals()[attribute_name] = getattr(args, attribute_name)\n",
    "    \n",
    "# seed all random functions\n",
    "utils.seed_everything(seed)\n",
    "\n",
    "\n",
    "outdir = os.path.abspath(f'/root/autodl-tmp/fMRI/train_logs/{model_name}')\n",
    "if not os.path.exists(outdir) and ckpt_saving:\n",
    "    os.makedirs(outdir,exist_ok=True)\n",
    "    \n",
    "if use_image_aug or blurry_recon:\n",
    "    import kornia\n",
    "    from kornia.augmentation.container import AugmentationSequential\n",
    "if use_image_aug:\n",
    "    img_augment = AugmentationSequential(\n",
    "        kornia.augmentation.ColorJitter(brightness=0.4, contrast=0.4, saturation=0.4, hue=0.1, p=0.3),\n",
    "        same_on_batch=False,\n",
    "        data_keys=[\"input\"],\n",
    "    )\n",
    "    \n",
    "if multi_subject:\n",
    "    subj_list = np.arange(1,9)\n",
    "    subj_list = subj_list[subj_list != subj]\n",
    "else:\n",
    "    subj_list = [subj]\n",
    "\n",
    "print(\"subj_list\", subj_list, \"num_sessions\", num_sessions)"
   ]
  },
  {
   "cell_type": "markdown",
   "id": "42d13c25-1369-4c49-81d4-83d713586096",
   "metadata": {
    "tags": []
   },
   "source": [
    "# Prep data, models, and dataloaders"
   ]
  },
  {
   "cell_type": "markdown",
   "id": "1c023f24-5233-4a15-a2f5-78487b3a8546",
   "metadata": {},
   "source": [
    "### Creating wds dataloader, preload betas and all 73k possible images"
   ]
  },
  {
   "cell_type": "code",
   "execution_count": 6,
   "id": "aefe7c27-ab39-4b2c-90f4-480f4087b7ab",
   "metadata": {
    "tags": []
   },
   "outputs": [
    {
     "name": "stdout",
     "output_type": "stream",
     "text": [
      "dividing batch size by subj_list, which will then be concatenated across subj during training...\n",
      "batch_size = 8 num_iterations_per_epoch = 93 num_samples_per_epoch = 750\n"
     ]
    }
   ],
   "source": [
    "def my_split_by_node(urls): return urls\n",
    "num_voxels_list = []\n",
    "\n",
    "if multi_subject:\n",
    "    nsessions_allsubj=np.array([40, 40, 32, 30, 40, 32, 40, 30])\n",
    "    num_samples_per_epoch = (750*40) // num_devices \n",
    "else:\n",
    "    num_samples_per_epoch = (750*num_sessions) // num_devices \n",
    "\n",
    "print(\"dividing batch size by subj_list, which will then be concatenated across subj during training...\") \n",
    "batch_size = batch_size // len(subj_list)\n",
    "\n",
    "num_iterations_per_epoch = num_samples_per_epoch // (batch_size*len(subj_list))\n",
    "\n",
    "print(\"batch_size =\", batch_size, \"num_iterations_per_epoch =\",num_iterations_per_epoch, \"num_samples_per_epoch =\",num_samples_per_epoch)"
   ]
  },
  {
   "cell_type": "code",
   "execution_count": 7,
   "id": "81084834-035f-4465-ad59-59e6b806a2f5",
   "metadata": {
    "tags": []
   },
   "outputs": [
    {
     "name": "stdout",
     "output_type": "stream",
     "text": [
      "Training with 1 sessions\n",
      "/root/autodl-tmp/NSD/mindeyev2_dataset/wds/subj02/train/{0..0}.tar\n",
      "num_voxels for subj02: 1916\n",
      "Loaded all subj train dls and betas!\n",
      "\n",
      "/root/autodl-tmp/NSD/mindeyev2_dataset/wds/subj02/test/0.tar\n",
      "Loaded test dl for subj2!\n",
      "\n",
      "currently using 1 seq_len (chose 0 past behav and 0 future behav)\n"
     ]
    }
   ],
   "source": [
    "train_data = {}\n",
    "train_dl = {}\n",
    "num_voxels = {}\n",
    "voxels = {}\n",
    "for s in subj_list:\n",
    "    print(f\"Training with {num_sessions} sessions\")\n",
    "    if multi_subject:\n",
    "        train_url = f\"{data_path}/wds/subj0{s}/train/\" + \"{0..\" + f\"{nsessions_allsubj[s-1]-1}\" + \"}.tar\"\n",
    "    else:\n",
    "        train_url = f\"{data_path}/wds/subj0{s}/train/\" + \"{0..\" + f\"{num_sessions-1}\" + \"}.tar\"\n",
    "    print(train_url)\n",
    "    \n",
    "    train_data[f'subj0{s}'] = wds.WebDataset(train_url,resampled=True,nodesplitter=my_split_by_node)\\\n",
    "                        .shuffle(750, initial=1500, rng=random.Random(42))\\\n",
    "                        .decode(\"torch\")\\\n",
    "                        .rename(behav=\"behav.npy\", past_behav=\"past_behav.npy\", future_behav=\"future_behav.npy\", olds_behav=\"olds_behav.npy\")\\\n",
    "                        .to_tuple(*[\"behav\", \"past_behav\", \"future_behav\", \"olds_behav\"])\n",
    "    train_dl[f'subj0{s}'] = torch.utils.data.DataLoader(train_data[f'subj0{s}'], batch_size=batch_size, shuffle=False, drop_last=True, pin_memory=True)\n",
    "\n",
    "    # f = h5py.File(f'{data_path}/betas_all_subj0{s}_fp32_renorm.hdf5', 'r')\n",
    "    # betas = f['betas'][:]\n",
    "    # betas = torch.Tensor(betas).to(\"cpu\").to(data_type)\n",
    "    f = np.load(f'/root/autodl-tmp/NSD/nsddata_betas/ppdata/subj0{s}/subj0{s}_fmri_resize.npy')\n",
    "    # todo: 这里需要统一mask的文件名\n",
    "    mask = np.load(f'/root/autodl-tmp/fMRI/train_logs/conv_subj02_1916_1sess.npy')\n",
    "    mask = np.resize(mask,(60,40,40))\n",
    "    betas = torch.Tensor(f)[:,mask].to('cpu').to(data_type)\n",
    "\n",
    "    num_voxels_list.append(betas[0].shape[-1])\n",
    "    num_voxels[f'subj0{s}'] = betas[0].shape[-1]\n",
    "    voxels[f'subj0{s}'] = betas\n",
    "    print(f\"num_voxels for subj0{s}: {num_voxels[f'subj0{s}']}\")\n",
    "\n",
    "print(\"Loaded all subj train dls and betas!\\n\")\n",
    "\n",
    "# Validate only on one subject\n",
    "if multi_subject: \n",
    "    subj = subj_list[0] # cant validate on the actual held out person so picking first in subj_list\n",
    "if not new_test: # using old test set from before full dataset released (used in original MindEye paper)\n",
    "    if subj==3:\n",
    "        num_test=2113\n",
    "    elif subj==4:\n",
    "        num_test=1985\n",
    "    elif subj==6:\n",
    "        num_test=2113\n",
    "    elif subj==8:\n",
    "        num_test=1985\n",
    "    else:\n",
    "        num_test=2770\n",
    "    test_url = f\"{data_path}/wds/subj0{subj}/test/\" + \"0.tar\"\n",
    "elif new_test: # using larger test set from after full dataset released\n",
    "    if subj==3:\n",
    "        num_test=2371\n",
    "    elif subj==4:\n",
    "        num_test=2188\n",
    "    elif subj==6:\n",
    "        num_test=2371\n",
    "    elif subj==8:\n",
    "        num_test=2188\n",
    "    else:\n",
    "        num_test=3000\n",
    "    test_url = f\"{data_path}/wds/subj0{subj}/test/\" + \"0.tar\"\n",
    "print(test_url)\n",
    "test_data = wds.WebDataset(test_url,resampled=False,nodesplitter=my_split_by_node)\\\n",
    "                    .shuffle(750, initial=1500, rng=random.Random(42))\\\n",
    "                    .decode(\"torch\")\\\n",
    "                    .rename(behav=\"behav.npy\", past_behav=\"past_behav.npy\", future_behav=\"future_behav.npy\", olds_behav=\"olds_behav.npy\")\\\n",
    "                    .to_tuple(*[\"behav\", \"past_behav\", \"future_behav\", \"olds_behav\"])\n",
    "test_dl = torch.utils.data.DataLoader(test_data, batch_size=num_test, shuffle=False, drop_last=True, pin_memory=True)\n",
    "print(f\"Loaded test dl for subj{subj}!\\n\")\n",
    "\n",
    "seq_len = seq_past + 1 + seq_future\n",
    "print(f\"currently using {seq_len} seq_len (chose {seq_past} past behav and {seq_future} future behav)\")"
   ]
  },
  {
   "cell_type": "code",
   "execution_count": 8,
   "id": "c13b4b84-094c-4b5b-bace-26c155aa6181",
   "metadata": {
    "tags": []
   },
   "outputs": [],
   "source": [
    "# Load 73k NSD images\n",
    "\n",
    "# import h5py\n",
    "# import torch\n",
    "with h5py.File('/root/autodl-tmp/NSD/mindeyev2_dataset/coco_images_224_float16.hdf5', 'r') as f:\n",
    "    dataset = f['images']\n",
    "    total_size = dataset.shape[0]\n",
    "    data_list = []\n",
    "\n",
    "    for start_idx in range(0, total_size, 2000):\n",
    "        end_idx = min(start_idx + 2000, total_size)\n",
    "        data_chunk = dataset[start_idx:end_idx]\n",
    "        data_tensor = torch.tensor(data_chunk)\n",
    "        data_list.append(data_tensor)\n",
    "        del data_chunk\n",
    "\n"
   ]
  },
  {
   "cell_type": "code",
   "execution_count": 9,
   "id": "ae0e0f54-8df7-4873-a940-04ca393b51ac",
   "metadata": {
    "tags": []
   },
   "outputs": [],
   "source": [
    "\n",
    "images = torch.cat(data_list, dim=0)\n",
    "\n",
    "del data_list\n",
    "# images.clamp(0,255).permute(0,3,1,2)/255\n",
    "# images = transforms.CenterCrop((224, 224))(images)"
   ]
  },
  {
   "cell_type": "markdown",
   "id": "10ec4517-dbdf-4ece-98f6-4714d5de4e15",
   "metadata": {},
   "source": [
    "## Load models"
   ]
  },
  {
   "cell_type": "markdown",
   "id": "48d6160e-1ee8-4da7-a755-9dbb452a6fa5",
   "metadata": {},
   "source": [
    "### CLIP image embeddings  model"
   ]
  },
  {
   "cell_type": "code",
   "execution_count": 10,
   "id": "b0420dc0-199e-4c1a-857d-b1747058b467",
   "metadata": {
    "tags": []
   },
   "outputs": [],
   "source": [
    "clip_img_embedder = FrozenOpenCLIPImageEmbedder(\n",
    "    arch=\"ViT-bigG-14\",\n",
    "    version=\"/root/autodl-tmp/clip/models--laion--CLIP-ViT-bigG-14-laion2B-39B-b160k/resolve/main/open_clip_pytorch_model.bin\",\n",
    "    output_tokens=True,\n",
    "    only_tokens=True\n",
    ")\n",
    "clip_img_embedder.to(device)\n",
    "\n",
    "clip_seq_dim = 256\n",
    "clip_emb_dim = 1664"
   ]
  },
  {
   "cell_type": "markdown",
   "id": "5b79bd38-6990-4504-8d45-4a68d57d8885",
   "metadata": {},
   "source": [
    "### SD VAE"
   ]
  },
  {
   "cell_type": "code",
   "execution_count": 11,
   "id": "01baff79-8114-482b-b115-6f05aa8ad691",
   "metadata": {
    "tags": []
   },
   "outputs": [],
   "source": [
    "if blurry_recon:\n",
    "    from diffusers import AutoencoderKL    \n",
    "    autoenc = AutoencoderKL(\n",
    "        down_block_types=['DownEncoderBlock2D', 'DownEncoderBlock2D', 'DownEncoderBlock2D', 'DownEncoderBlock2D'],\n",
    "        up_block_types=['UpDecoderBlock2D', 'UpDecoderBlock2D', 'UpDecoderBlock2D', 'UpDecoderBlock2D'],\n",
    "        block_out_channels=[128, 256, 512, 512],\n",
    "        layers_per_block=2,\n",
    "        sample_size=256,\n",
    "    )\n",
    "    ckpt = torch.load(f'{cache_dir}/sd_image_var_autoenc.pth')\n",
    "    autoenc.load_state_dict(ckpt)\n",
    "    \n",
    "    autoenc.eval()\n",
    "    autoenc.requires_grad_(False)\n",
    "    autoenc.to(device)\n",
    "    utils.count_params(autoenc)\n",
    "    \n",
    "    from autoencoder.convnext import ConvnextXL\n",
    "    cnx = ConvnextXL(f'{cache_dir}/convnext_xlarge_alpha0.75_fullckpt.pth')\n",
    "    cnx.requires_grad_(False)\n",
    "    cnx.eval()\n",
    "    cnx.to(device)\n",
    "    \n",
    "    mean = torch.tensor([0.485, 0.456, 0.406]).to(device).reshape(1,3,1,1)\n",
    "    std = torch.tensor([0.228, 0.224, 0.225]).to(device).reshape(1,3,1,1)\n",
    "    \n",
    "    blur_augs = AugmentationSequential(\n",
    "        kornia.augmentation.ColorJitter(brightness=0.4, contrast=0.4, saturation=0.2, hue=0.1, p=0.8),\n",
    "        kornia.augmentation.RandomGrayscale(p=0.1),\n",
    "        kornia.augmentation.RandomSolarize(p=0.1),\n",
    "        kornia.augmentation.RandomResizedCrop((224,224), scale=(.9,.9), ratio=(1,1), p=1.0),\n",
    "        data_keys=[\"input\"],\n",
    "    )"
   ]
  },
  {
   "cell_type": "markdown",
   "id": "260e5e4a-f697-4b2c-88fc-01f6a54886c0",
   "metadata": {},
   "source": [
    "### MindEye modules"
   ]
  },
  {
   "cell_type": "code",
   "execution_count": 12,
   "id": "c44c271b-173f-472e-b059-a2eda0f4c4c5",
   "metadata": {
    "tags": []
   },
   "outputs": [
    {
     "data": {
      "text/plain": [
       "MindEyeModule()"
      ]
     },
     "execution_count": 12,
     "metadata": {},
     "output_type": "execute_result"
    }
   ],
   "source": [
    "class MindEyeModule(nn.Module):\n",
    "    def __init__(self):\n",
    "        super(MindEyeModule, self).__init__()\n",
    "    def forward(self, x):\n",
    "        return x\n",
    "        \n",
    "model = MindEyeModule()\n",
    "model"
   ]
  },
  {
   "cell_type": "code",
   "execution_count": 13,
   "id": "038a5d61-4769-40b9-a004-f4e7b5b38bb0",
   "metadata": {
    "tags": []
   },
   "outputs": [
    {
     "name": "stdout",
     "output_type": "stream",
     "text": [
      "param counts:\n",
      "24,641,536 total\n",
      "24,641,536 trainable\n",
      "param counts:\n",
      "24,641,536 total\n",
      "24,641,536 trainable\n",
      "torch.Size([2, 1, 1916]) torch.Size([1, 4096])\n"
     ]
    }
   ],
   "source": [
    "class RidgeRegression(torch.nn.Module):\n",
    "    # make sure to add weight_decay when initializing optimizer\n",
    "    def __init__(self, input_sizes, out_features, seq_len): \n",
    "        super(RidgeRegression, self).__init__()\n",
    "        self.out_features = out_features\n",
    "        self.linears = torch.nn.ModuleList([\n",
    "                    nn.Sequential(\n",
    "                    torch.nn.Linear(input_size, out_features),\n",
    "                    torch.nn.LayerNorm(out_features),\n",
    "                    torch.nn.GELU(),\n",
    "                    torch.nn.Linear(out_features, out_features),\n",
    "                    )for input_size in input_sizes\n",
    "            ])\n",
    "\n",
    "    \n",
    "    def forward(self, x, subj_idx):\n",
    "        out=[]\n",
    "        \n",
    "        for seq in range(seq_len):\n",
    "\n",
    "            x = self.linears[subj_idx](x[:,seq])\n",
    "            x = x.unsqueeze(1)\n",
    "            out.append(x)\n",
    "        \n",
    "        out = torch.cat(out, dim=1)\n",
    "        return out\n",
    "        \n",
    "model.ridge = RidgeRegression(num_voxels_list, out_features=hidden_dim, seq_len=seq_len)\n",
    "utils.count_params(model.ridge)\n",
    "utils.count_params(model)\n",
    "\n",
    "# test on subject 1 with fake data\n",
    "b = torch.randn((2,seq_len,num_voxels_list[0]))\n",
    "print(b.shape, model.ridge(b,0)[0].shape)"
   ]
  },
  {
   "cell_type": "code",
   "execution_count": 14,
   "id": "7b8de65a-6d3b-4248-bea9-9b6f4d562321",
   "metadata": {
    "tags": []
   },
   "outputs": [
    {
     "name": "stdout",
     "output_type": "stream",
     "text": [
      "param counts:\n",
      "1,887,861,400 total\n",
      "1,887,861,400 trainable\n",
      "param counts:\n",
      "1,912,502,936 total\n",
      "1,912,502,936 trainable\n",
      "b.shape torch.Size([2, 1, 4096])\n",
      "torch.Size([2, 256, 1664]) torch.Size([2, 256, 1664]) torch.Size([1]) torch.Size([1])\n"
     ]
    }
   ],
   "source": [
    "from models import BrainNetwork\n",
    "model.backbone = BrainNetwork(h=hidden_dim, in_dim=hidden_dim, seq_len=seq_len, n_blocks=n_blocks,\n",
    "                          clip_size=clip_emb_dim, out_dim=clip_emb_dim*clip_seq_dim, \n",
    "                          blurry_recon=blurry_recon, clip_scale=clip_scale)\n",
    "utils.count_params(model.backbone)\n",
    "utils.count_params(model)\n",
    "\n",
    "# test that the model works on some fake data\n",
    "b = torch.randn((2,seq_len,hidden_dim))\n",
    "print(\"b.shape\",b.shape)\n",
    "\n",
    "backbone_, clip_, blur_ = model.backbone(b)\n",
    "print(backbone_.shape, clip_.shape, blur_[0].shape, blur_[1].shape)"
   ]
  },
  {
   "cell_type": "markdown",
   "id": "b397c0d7-52a3-4153-823b-c27d2eb3eeba",
   "metadata": {},
   "source": [
    "### Adding diffusion prior + unCLIP if use_prior=True"
   ]
  },
  {
   "cell_type": "code",
   "execution_count": 15,
   "id": "69965344-9346-4592-9cc5-e537e31d5fce",
   "metadata": {
    "tags": []
   },
   "outputs": [
    {
     "name": "stdout",
     "output_type": "stream",
     "text": [
      "param counts:\n",
      "259,865,216 total\n",
      "259,865,200 trainable\n",
      "param counts:\n",
      "2,172,368,152 total\n",
      "2,172,368,136 trainable\n"
     ]
    }
   ],
   "source": [
    "if use_prior:\n",
    "    from models import *\n",
    "\n",
    "    # setup diffusion prior network\n",
    "    out_dim = clip_emb_dim\n",
    "    depth = 6\n",
    "    dim_head = 52\n",
    "    heads = clip_emb_dim//52 # heads * dim_head = clip_emb_dim\n",
    "    timesteps = 100\n",
    "\n",
    "    prior_network = PriorNetwork(\n",
    "            dim=out_dim,\n",
    "            depth=depth,\n",
    "            dim_head=dim_head,\n",
    "            heads=heads,\n",
    "            causal=False,\n",
    "            num_tokens = clip_seq_dim,\n",
    "            learned_query_mode=\"pos_emb\"\n",
    "        )\n",
    "\n",
    "    model.diffusion_prior = BrainDiffusionPrior(\n",
    "        net=prior_network,\n",
    "        image_embed_dim=out_dim,\n",
    "        condition_on_text_encodings=False,\n",
    "        timesteps=timesteps,\n",
    "        cond_drop_prob=0.2,\n",
    "        image_embed_scale=None,\n",
    "    )\n",
    "    \n",
    "    utils.count_params(model.diffusion_prior)\n",
    "    utils.count_params(model)\n",
    "    \n",
    "    # prep unCLIP\n",
    "    if visualize_prior:\n",
    "        from generative_models.sgm.models.diffusion import DiffusionEngine\n",
    "        from omegaconf import OmegaConf\n",
    "        \n",
    "        config = OmegaConf.load(\"generative_models/configs/unclip6.yaml\")\n",
    "        config = OmegaConf.to_container(config, resolve=True)\n",
    "        unclip_params = config[\"model\"][\"params\"]\n",
    "        network_config = unclip_params[\"network_config\"]\n",
    "        denoiser_config = unclip_params[\"denoiser_config\"]\n",
    "        first_stage_config = unclip_params[\"first_stage_config\"]\n",
    "        conditioner_config = unclip_params[\"conditioner_config\"]\n",
    "        sampler_config = unclip_params[\"sampler_config\"]\n",
    "        scale_factor = unclip_params[\"scale_factor\"]\n",
    "        disable_first_stage_autocast = unclip_params[\"disable_first_stage_autocast\"]\n",
    "        offset_noise_level = unclip_params[\"loss_fn_config\"][\"params\"][\"offset_noise_level\"]\n",
    "\n",
    "        first_stage_config['target'] = 'sgm.models.autoencoder.AutoencoderKL'\n",
    "        sampler_config['params']['num_steps'] = 38\n",
    "\n",
    "        diffusion_engine = DiffusionEngine(network_config=network_config,\n",
    "                               denoiser_config=denoiser_config,\n",
    "                               first_stage_config=first_stage_config,\n",
    "                               conditioner_config=conditioner_config,\n",
    "                               sampler_config=sampler_config,\n",
    "                               scale_factor=scale_factor,\n",
    "                               disable_first_stage_autocast=disable_first_stage_autocast)\n",
    "        # set to inference\n",
    "        diffusion_engine.eval().requires_grad_(False)\n",
    "        diffusion_engine.to(device)\n",
    "\n",
    "        ckpt_path = f'{cache_dir}/unclip6_epoch0_step110000.ckpt'\n",
    "        ckpt = torch.load(ckpt_path, map_location='cpu')\n",
    "        diffusion_engine.load_state_dict(ckpt['state_dict'])\n",
    "\n",
    "        image = images[:1].to(device)\n",
    "        batch={\"jpg\": image,\n",
    "              \"original_size_as_tuple\": torch.ones(image.shape[0], 2).to(device) * 768,\n",
    "              \"crop_coords_top_left\": torch.zeros(image.shape[0], 2).to(device)}\n",
    "        out = diffusion_engine.conditioner(batch)\n",
    "        vector_suffix = out[\"vector\"].to(device)\n",
    "        print(\"vector_suffix\", vector_suffix.shape)"
   ]
  },
  {
   "cell_type": "markdown",
   "id": "ec25271a-2209-400c-8026-df3b8ddc1eef",
   "metadata": {},
   "source": [
    "### Setup optimizer / lr / ckpt saving"
   ]
  },
  {
   "cell_type": "code",
   "execution_count": 16,
   "id": "e14d0482-dc42-43b9-9ce1-953c32f2c9c1",
   "metadata": {
    "tags": []
   },
   "outputs": [
    {
     "name": "stdout",
     "output_type": "stream",
     "text": [
      "total_steps 13950\n",
      "\n",
      "Done with model preparations!\n",
      "param counts:\n",
      "2,172,368,152 total\n",
      "284,506,736 trainable\n"
     ]
    }
   ],
   "source": [
    "no_decay = ['bias', 'LayerNorm.bias', 'LayerNorm.weight','masks']\n",
    "\n",
    "opt_grouped_parameters = [\n",
    "    {'params': [p for n, p in model.ridge.named_parameters() if not any(nd in n for nd in no_decay)], 'weight_decay': 1e-2},\n",
    "    {'params': [p for n, p in model.ridge.named_parameters() if any(nd in n for nd in no_decay)], 'weight_decay': 0.0},\n",
    "]\n",
    "\n",
    "for p in model.backbone.parameters():\n",
    "    p.requires_grad=False\n",
    "    \n",
    "if use_prior:\n",
    "    opt_grouped_parameters.extend([\n",
    "        {'params': [p for n, p in model.diffusion_prior.named_parameters() if not any(nd in n for nd in no_decay)], 'weight_decay': 1e-2},\n",
    "        {'params': [p for n, p in model.diffusion_prior.named_parameters() if any(nd in n for nd in no_decay)], 'weight_decay': 0.0}\n",
    "    ])\n",
    "else:\n",
    "    for p in model.diffusion_prior.parameters():\n",
    "        p.requires_grad=False\n",
    "\n",
    "optimizer = torch.optim.AdamW(opt_grouped_parameters, lr=max_lr)\n",
    "\n",
    "if lr_scheduler_type == 'linear':\n",
    "    lr_scheduler = torch.optim.lr_scheduler.LinearLR(\n",
    "        optimizer,\n",
    "        total_iters=int(np.floor(num_epochs*num_iterations_per_epoch)),\n",
    "        last_epoch=-1\n",
    "    )\n",
    "elif lr_scheduler_type == 'cycle':\n",
    "    total_steps=int(np.floor(num_epochs*num_iterations_per_epoch))\n",
    "    print(\"total_steps\", total_steps)\n",
    "    lr_scheduler = torch.optim.lr_scheduler.OneCycleLR(\n",
    "        optimizer, \n",
    "        max_lr=max_lr,\n",
    "        total_steps=total_steps,\n",
    "        final_div_factor=1000,\n",
    "        last_epoch=-1, pct_start=2/num_epochs\n",
    "    )\n",
    "    \n",
    "def save_ckpt(tag):\n",
    "    ckpt_path = outdir+f'/{tag}.pth'\n",
    "    if accelerator.is_main_process:\n",
    "        unwrapped_model = accelerator.unwrap_model(model)\n",
    "        torch.save({\n",
    "            'epoch': epoch,\n",
    "            'model_state_dict': unwrapped_model.state_dict(),\n",
    "            'optimizer_state_dict': optimizer.state_dict(),\n",
    "            'lr_scheduler': lr_scheduler.state_dict(),\n",
    "            'train_losses': losses,\n",
    "            'test_losses': test_losses,\n",
    "            'lrs': lrs,\n",
    "            }, ckpt_path)\n",
    "    print(f\"\\n---saved {outdir}/{tag} ckpt!---\\n\")\n",
    "\n",
    "def load_ckpt(tag,load_lr=True,load_optimizer=True,load_epoch=True,strict=True,outdir=outdir,multisubj_loading=False): \n",
    "    print(f\"\\n---loading {outdir}/{tag}.pth ckpt---\\n\")\n",
    "    checkpoint = torch.load(outdir+'/last.pth', map_location='cpu')\n",
    "    state_dict = checkpoint['model_state_dict']\n",
    "    if multisubj_loading: # remove incompatible ridge layer that will otherwise error\n",
    "        state_dict.pop('ridge.linears.0.weight',None)\n",
    "#         multisubject的ridge只有一层，这里是把这一层的weight删掉）\n",
    "    model.load_state_dict(state_dict, strict=strict)\n",
    "    if load_epoch:\n",
    "        globals()[\"epoch\"] = checkpoint['epoch']\n",
    "        print(\"Epoch\",epoch)\n",
    "    if load_optimizer:\n",
    "        optimizer.load_state_dict(checkpoint['optimizer_state_dict'])\n",
    "    if load_lr:\n",
    "        lr_scheduler.load_state_dict(checkpoint['lr_scheduler'])\n",
    "    del checkpoint\n",
    "\n",
    "print(\"\\nDone with model preparations!\")\n",
    "num_params = utils.count_params(model)"
   ]
  },
  {
   "cell_type": "markdown",
   "id": "983f458b-35b8-49f2-b6db-80296cece730",
   "metadata": {},
   "source": [
    "# Weights and Biases"
   ]
  },
  {
   "cell_type": "code",
   "execution_count": 17,
   "id": "0a25a662-daa8-4de9-9233-8364800fcb6b",
   "metadata": {
    "tags": []
   },
   "outputs": [
    {
     "name": "stdout",
     "output_type": "stream",
     "text": [
      "wandb stability run multisubject_subj2_session1_1916\n",
      "wandb_config:\n",
      " {'model_name': 'multisubject_subj2_session1_1916', 'global_batch_size': 8, 'batch_size': 8, 'num_epochs': 150, 'num_sessions': 1, 'num_params': 284506736, 'clip_scale': 1.0, 'prior_scale': 30.0, 'blur_scale': 0.5, 'use_image_aug': False, 'max_lr': 0.0003, 'mixup_pct': 0.33, 'num_samples_per_epoch': 750, 'num_test': 3000, 'ckpt_interval': 1, 'ckpt_saving': True, 'seed': 42, 'distributed': False, 'num_devices': 1, 'world_size': 1, 'train_url': '/root/autodl-tmp/NSD/mindeyev2_dataset/wds/subj02/train/{0..0}.tar', 'test_url': '/root/autodl-tmp/NSD/mindeyev2_dataset/wds/subj02/test/0.tar'}\n",
      "wandb_id: multisubject_subj2_session1_1916\n"
     ]
    },
    {
     "name": "stderr",
     "output_type": "stream",
     "text": [
      "\u001b[34m\u001b[1mwandb\u001b[0m: Currently logged in as: \u001b[33mwangziyu\u001b[0m (\u001b[33mzoewan\u001b[0m). Use \u001b[1m`wandb login --relogin`\u001b[0m to force relogin\n"
     ]
    },
    {
     "data": {
      "application/vnd.jupyter.widget-view+json": {
       "model_id": "72b1c09f176d4ed5b88d3483040c28b8",
       "version_major": 2,
       "version_minor": 0
      },
      "text/plain": [
       "VBox(children=(Label(value='Waiting for wandb.init()...\\r'), FloatProgress(value=0.011112619222452243, max=1.0…"
      ]
     },
     "metadata": {},
     "output_type": "display_data"
    },
    {
     "data": {
      "text/html": [
       "wandb version 0.18.7 is available!  To upgrade, please run:\n",
       " $ pip install wandb --upgrade"
      ],
      "text/plain": [
       "<IPython.core.display.HTML object>"
      ]
     },
     "metadata": {},
     "output_type": "display_data"
    },
    {
     "data": {
      "text/html": [
       "Tracking run with wandb version 0.16.2"
      ],
      "text/plain": [
       "<IPython.core.display.HTML object>"
      ]
     },
     "metadata": {},
     "output_type": "display_data"
    },
    {
     "data": {
      "text/html": [
       "Run data is saved locally in <code>/root/MindEyeV2/src/wandb/run-20241125_195430-multisubject_subj2_session1_1916</code>"
      ],
      "text/plain": [
       "<IPython.core.display.HTML object>"
      ]
     },
     "metadata": {},
     "output_type": "display_data"
    },
    {
     "data": {
      "text/html": [
       "Resuming run <strong><a href='https://wandb.ai/zoewan/stability/runs/multisubject_subj2_session1_1916' target=\"_blank\">multisubject_subj2_session1_1916</a></strong> to <a href='https://wandb.ai/zoewan/stability' target=\"_blank\">Weights & Biases</a> (<a href='https://wandb.me/run' target=\"_blank\">docs</a>)<br/>"
      ],
      "text/plain": [
       "<IPython.core.display.HTML object>"
      ]
     },
     "metadata": {},
     "output_type": "display_data"
    },
    {
     "data": {
      "text/html": [
       " View project at <a href='https://wandb.ai/zoewan/stability' target=\"_blank\">https://wandb.ai/zoewan/stability</a>"
      ],
      "text/plain": [
       "<IPython.core.display.HTML object>"
      ]
     },
     "metadata": {},
     "output_type": "display_data"
    },
    {
     "data": {
      "text/html": [
       " View run at <a href='https://wandb.ai/zoewan/stability/runs/multisubject_subj2_session1_1916' target=\"_blank\">https://wandb.ai/zoewan/stability/runs/multisubject_subj2_session1_1916</a>"
      ],
      "text/plain": [
       "<IPython.core.display.HTML object>"
      ]
     },
     "metadata": {},
     "output_type": "display_data"
    }
   ],
   "source": [
    "\n",
    "if local_rank==0 and wandb_log: # only use main process for wandb logging\n",
    "    os.environ['WANDB_BASE_URL'] = 'https://api.wandb.ai'\n",
    " \n",
    "    os.environ[\"WANDB_API_KEY\"] = '786e53b37ae6ec112a1be5637383a7c66a333469'\n",
    "    import wandb\n",
    "    wandb_project = 'stability'\n",
    "    print(f\"wandb {wandb_project} run {model_name}\")\n",
    "    # need to configure wandb beforehand in terminal with \"wandb init\"!\n",
    "    wandb_config = {\n",
    "      \"model_name\": model_name,\n",
    "      \"global_batch_size\": global_batch_size,\n",
    "      \"batch_size\": batch_size,\n",
    "      \"num_epochs\": num_epochs,\n",
    "      \"num_sessions\": num_sessions,\n",
    "      \"num_params\": num_params,\n",
    "      \"clip_scale\": clip_scale,\n",
    "      \"prior_scale\": prior_scale,\n",
    "      \"blur_scale\": blur_scale,\n",
    "      \"use_image_aug\": use_image_aug,\n",
    "      \"max_lr\": max_lr,\n",
    "      \"mixup_pct\": mixup_pct,\n",
    "      \"num_samples_per_epoch\": num_samples_per_epoch,\n",
    "      \"num_test\": num_test,\n",
    "      \"ckpt_interval\": ckpt_interval,\n",
    "      \"ckpt_saving\": ckpt_saving,\n",
    "      \"seed\": seed,\n",
    "      \"distributed\": distributed,\n",
    "      \"num_devices\": num_devices,\n",
    "      \"world_size\": world_size,\n",
    "      \"train_url\": train_url,\n",
    "      \"test_url\": test_url,\n",
    "    }\n",
    "    print(\"wandb_config:\\n\",wandb_config)\n",
    "    print(\"wandb_id:\",model_name)\n",
    "    wandb.init(\n",
    "        id=model_name,\n",
    "        project=wandb_project,\n",
    "        name=model_name,\n",
    "        config=wandb_config,\n",
    "        resume=\"allow\",\n",
    "    )\n",
    "else:\n",
    "    wandb_log = False"
   ]
  },
  {
   "cell_type": "markdown",
   "id": "d5690151-2131-4918-b750-e869cbd1a8a8",
   "metadata": {},
   "source": [
    "# Main"
   ]
  },
  {
   "cell_type": "code",
   "execution_count": 18,
   "id": "12de6387-6e18-4e4b-b5ce-a847d625330a",
   "metadata": {
    "tags": []
   },
   "outputs": [],
   "source": [
    "epoch = 0\n",
    "losses, test_losses, lrs = [], [], []\n",
    "best_test_loss = 1e9\n",
    "torch.cuda.empty_cache()"
   ]
  },
  {
   "cell_type": "code",
   "execution_count": 19,
   "id": "607a7c7b-fe5e-41a4-80bf-d2814b3a57cc",
   "metadata": {
    "tags": []
   },
   "outputs": [
    {
     "name": "stdout",
     "output_type": "stream",
     "text": [
      "\n",
      "---loading /root/autodl-tmp/fMRI/train_logs/final_multisubject_subj02/last.pth ckpt---\n",
      "\n"
     ]
    }
   ],
   "source": [
    "# load multisubject stage1 ckpt if set\n",
    "if multisubject_ckpt is not None and not resume_from_ckpt:\n",
    "    load_ckpt(\"last\",outdir=multisubject_ckpt,load_lr=False,load_optimizer=False,load_epoch=False,strict=False,multisubj_loading=True)\n",
    "\n",
    "if resume_from_ckpt:\n",
    "    ridge_ckpt = f\"/root/autodl-tmp/fMRI/train_logs/{model_name}\"\n",
    "    load_ckpt(\"last\",outdir=ridge_ckpt,load_lr=True,load_optimizer=True,load_epoch=True,strict=False,multisubj_loading=False)"
   ]
  },
  {
   "cell_type": "code",
   "execution_count": 20,
   "id": "99f09f76-4481-4133-b09a-a22b10dbc0c4",
   "metadata": {
    "tags": []
   },
   "outputs": [],
   "source": [
    "train_dls = [train_dl[f'subj0{s}'] for s in subj_list]\n",
    "\n",
    "model, optimizer, *train_dls, lr_scheduler = accelerator.prepare(model, optimizer, *train_dls, lr_scheduler)\n",
    "# leaving out test_dl since we will only have local_rank 0 device do evals"
   ]
  },
  {
   "cell_type": "code",
   "execution_count": 21,
   "id": "5657d65f-d1de-4764-b077-e2a58e89f6eb",
   "metadata": {
    "tags": []
   },
   "outputs": [
    {
     "name": "stdout",
     "output_type": "stream",
     "text": [
      "multisubject_subj2_session1_1916 starting with epoch 0 / 150\n"
     ]
    },
    {
     "name": "stderr",
     "output_type": "stream",
     "text": [
      "  0%|                                                                                                                                                                                                                                                                                                                                                                                                                                                                                                                                                                                                                                                                                                                                                                                                                                                                                                                                                                                                                                                                                                                                                                                                                   | 0/150 [00:00<?, ?it/s]"
     ]
    }
   ],
   "source": [
    "print(f\"{model_name} starting with epoch {epoch} / {num_epochs}\")\n",
    "progress_bar = tqdm(range(epoch,num_epochs), ncols=1200, disable=(local_rank!=0))\n",
    "test_image, test_voxel = None, None\n",
    "mse = nn.MSELoss()\n",
    "l1 = nn.L1Loss()\n",
    "soft_loss_temps = utils.cosine_anneal(0.004, 0.0075, num_epochs - int(mixup_pct * num_epochs))\n"
   ]
  },
  {
   "cell_type": "code",
   "execution_count": 32,
   "id": "60be0d5f-3e94-4612-9373-61b53d836393",
   "metadata": {
    "tags": []
   },
   "outputs": [
    {
     "name": "stderr",
     "output_type": "stream",
     "text": [
      "  0%|                                                                                                                                                                                                                                                                                                                                                                                                                                                                                                                                                                                                                                                                                      | 0/150 [02:43<?, ?it/s, test/blurry_pixcorr=0, test/loss=13.1, test/loss_clip_total=3.39, test/loss_prior=0.325, test/num_steps=1, test/recon_cossim=0, test/recon_mse=0, test/test_bwd_pct_correct=0.133, test/test_fwd_pct_correct=0.54, train/blurry_pixcorr=0, train/bwd_pct_correct=0.292, train/fwd_pct_correct=0.534, train/loss=12.8, train/loss_blurry_cont_total=0, train/loss_blurry_total=0, train/loss_clip_total=1.94, train/loss_prior=0.363, train/lr=0.000143, train/num_steps=93, train/recon_cossim=0.723, train/recon_mse=0.363]"
     ]
    },
    {
     "name": "stdout",
     "output_type": "stream",
     "text": [
      "---\n",
      "[2024-11-25 19:57:24,540] [INFO] [real_accelerator.py:191:get_accelerator] Setting ds_accelerator to cuda (auto detect)\n",
      "\n",
      "---saved /root/autodl-tmp/fMRI/train_logs/multisubject_subj2_session1_1916/last ckpt!---\n",
      "\n"
     ]
    },
    {
     "name": "stderr",
     "output_type": "stream",
     "text": [
      "  1%|████▎                                                                                                                                                                                                                                                                                                                                                                                                                                                                                                                                                                                                                                                                      | 1/150 [03:40<7:29:24, 180.97s/it, test/blurry_pixcorr=0, test/loss=15.1, test/loss_clip_total=2.07, test/loss_prior=0.435, test/num_steps=2, test/recon_cossim=0, test/recon_mse=0, test/test_bwd_pct_correct=0.35, test/test_fwd_pct_correct=0.68, train/blurry_pixcorr=0, train/bwd_pct_correct=0.745, train/fwd_pct_correct=0.78, train/loss=12.3, train/loss_blurry_cont_total=0, train/loss_blurry_total=0, train/loss_clip_total=0.429, train/loss_prior=0.394, train/lr=0.000299, train/num_steps=186, train/recon_cossim=0.699, train/recon_mse=0.394]"
     ]
    },
    {
     "name": "stdout",
     "output_type": "stream",
     "text": [
      "---\n",
      "\n",
      "---saved /root/autodl-tmp/fMRI/train_logs/multisubject_subj2_session1_1916/last ckpt!---\n",
      "\n"
     ]
    },
    {
     "name": "stderr",
     "output_type": "stream",
     "text": [
      "  1%|████████▋                                                                                                                                                                                                                                                                                                                                                                                                                                                                                                                                                                                                                                                                  | 2/150 [04:36<4:25:16, 107.55s/it, test/blurry_pixcorr=0, test/loss=13.8, test/loss_clip_total=2.26, test/loss_prior=0.386, test/num_steps=3, test/recon_cossim=0, test/recon_mse=0, test/test_bwd_pct_correct=0.323, test/test_fwd_pct_correct=0.617, train/blurry_pixcorr=0, train/bwd_pct_correct=0.758, train/fwd_pct_correct=0.763, train/loss=12.9, train/loss_blurry_cont_total=0, train/loss_blurry_total=0, train/loss_clip_total=0.41, train/loss_prior=0.417, train/lr=0.0003, train/num_steps=279, train/recon_cossim=0.681, train/recon_mse=0.417]"
     ]
    },
    {
     "name": "stdout",
     "output_type": "stream",
     "text": [
      "---\n",
      "\n",
      "---saved /root/autodl-tmp/fMRI/train_logs/multisubject_subj2_session1_1916/last ckpt!---\n",
      "\n"
     ]
    },
    {
     "name": "stderr",
     "output_type": "stream",
     "text": [
      "  2%|█████████████                                                                                                                                                                                                                                                                                                                                                                                                                                                                                                                                                                                                                                                                   | 3/150 [05:33<3:26:13, 84.17s/it, test/blurry_pixcorr=0, test/loss=13.3, test/loss_clip_total=2, test/loss_prior=0.377, test/num_steps=4, test/recon_cossim=0, test/recon_mse=0, test/test_bwd_pct_correct=0.36, test/test_fwd_pct_correct=0.68, train/blurry_pixcorr=0, train/bwd_pct_correct=0.751, train/fwd_pct_correct=0.754, train/loss=12.8, train/loss_blurry_cont_total=0, train/loss_blurry_total=0, train/loss_clip_total=0.384, train/loss_prior=0.413, train/lr=0.0003, train/num_steps=372, train/recon_cossim=0.685, train/recon_mse=0.413]"
     ]
    },
    {
     "name": "stdout",
     "output_type": "stream",
     "text": [
      "---\n",
      "\n",
      "---saved /root/autodl-tmp/fMRI/train_logs/multisubject_subj2_session1_1916/last ckpt!---\n",
      "\n"
     ]
    },
    {
     "name": "stderr",
     "output_type": "stream",
     "text": [
      "  3%|█████████████████▍                                                                                                                                                                                                                                                                                                                                                                                                                                                                                                                                                                                                                                                             | 4/150 [06:29<2:58:37, 73.41s/it, test/blurry_pixcorr=0, test/loss=13.7, test/loss_clip_total=1.65, test/loss_prior=0.4, test/num_steps=5, test/recon_cossim=0, test/recon_mse=0, test/test_bwd_pct_correct=0.48, test/test_fwd_pct_correct=0.74, train/blurry_pixcorr=0, train/bwd_pct_correct=0.747, train/fwd_pct_correct=0.757, train/loss=12.7, train/loss_blurry_cont_total=0, train/loss_blurry_total=0, train/loss_clip_total=0.355, train/loss_prior=0.411, train/lr=0.0003, train/num_steps=465, train/recon_cossim=0.686, train/recon_mse=0.411]"
     ]
    },
    {
     "name": "stdout",
     "output_type": "stream",
     "text": [
      "---\n",
      "\n",
      "---saved /root/autodl-tmp/fMRI/train_logs/multisubject_subj2_session1_1916/last ckpt!---\n",
      "\n"
     ]
    },
    {
     "name": "stderr",
     "output_type": "stream",
     "text": [
      "  3%|█████████████████████▋                                                                                                                                                                                                                                                                                                                                                                                                                                                                                                                                                                                                                                                     | 5/150 [07:26<2:43:03, 67.48s/it, test/blurry_pixcorr=0, test/loss=9.46, test/loss_clip_total=1.88, test/loss_prior=0.253, test/num_steps=6, test/recon_cossim=0, test/recon_mse=0, test/test_bwd_pct_correct=0.41, test/test_fwd_pct_correct=0.68, train/blurry_pixcorr=0, train/bwd_pct_correct=0.769, train/fwd_pct_correct=0.765, train/loss=12.3, train/loss_blurry_cont_total=0, train/loss_blurry_total=0, train/loss_clip_total=0.381, train/loss_prior=0.397, train/lr=0.000299, train/num_steps=558, train/recon_cossim=0.698, train/recon_mse=0.397]"
     ]
    },
    {
     "name": "stdout",
     "output_type": "stream",
     "text": [
      "---\n",
      "\n",
      "---saved /root/autodl-tmp/fMRI/train_logs/multisubject_subj2_session1_1916/last ckpt!---\n",
      "\n"
     ]
    },
    {
     "name": "stderr",
     "output_type": "stream",
     "text": [
      "  4%|██████████████████████████                                                                                                                                                                                                                                                                                                                                                                                                                                                                                                                                                                                                                                                 | 6/150 [08:23<2:33:01, 63.76s/it, test/blurry_pixcorr=0, test/loss=15.9, test/loss_clip_total=1.9, test/loss_prior=0.467, test/num_steps=7, test/recon_cossim=0, test/recon_mse=0, test/test_bwd_pct_correct=0.347, test/test_fwd_pct_correct=0.73, train/blurry_pixcorr=0, train/bwd_pct_correct=0.773, train/fwd_pct_correct=0.774, train/loss=12.4, train/loss_blurry_cont_total=0, train/loss_blurry_total=0, train/loss_clip_total=0.359, train/loss_prior=0.402, train/lr=0.000299, train/num_steps=651, train/recon_cossim=0.695, train/recon_mse=0.402]"
     ]
    },
    {
     "name": "stdout",
     "output_type": "stream",
     "text": [
      "---\n",
      "\n",
      "---saved /root/autodl-tmp/fMRI/train_logs/multisubject_subj2_session1_1916/last ckpt!---\n",
      "\n"
     ]
    },
    {
     "name": "stderr",
     "output_type": "stream",
     "text": [
      "  5%|██████████████████████████████▍                                                                                                                                                                                                                                                                                                                                                                                                                                                                                                                                                                                                                                             | 7/150 [09:20<2:26:34, 61.50s/it, test/blurry_pixcorr=0, test/loss=10.9, test/loss_clip_total=1.85, test/loss_prior=0.302, test/num_steps=8, test/recon_cossim=0, test/recon_mse=0, test/test_bwd_pct_correct=0.377, test/test_fwd_pct_correct=0.74, train/blurry_pixcorr=0, train/bwd_pct_correct=0.766, train/fwd_pct_correct=0.777, train/loss=12.1, train/loss_blurry_cont_total=0, train/loss_blurry_total=0, train/loss_clip_total=0.345, train/loss_prior=0.39, train/lr=0.000299, train/num_steps=744, train/recon_cossim=0.703, train/recon_mse=0.39]"
     ]
    },
    {
     "name": "stdout",
     "output_type": "stream",
     "text": [
      "---\n",
      "\n",
      "---saved /root/autodl-tmp/fMRI/train_logs/multisubject_subj2_session1_1916/last ckpt!---\n",
      "\n"
     ]
    },
    {
     "name": "stderr",
     "output_type": "stream",
     "text": [
      "  5%|██████████████████████████████████▋                                                                                                                                                                                                                                                                                                                                                                                                                                                                                                                                                                                                                                       | 8/150 [10:17<2:22:10, 60.08s/it, test/blurry_pixcorr=0, test/loss=16.7, test/loss_clip_total=2.01, test/loss_prior=0.489, test/num_steps=9, test/recon_cossim=0, test/recon_mse=0, test/test_bwd_pct_correct=0.37, test/test_fwd_pct_correct=0.733, train/blurry_pixcorr=0, train/bwd_pct_correct=0.749, train/fwd_pct_correct=0.743, train/loss=11.3, train/loss_blurry_cont_total=0, train/loss_blurry_total=0, train/loss_clip_total=0.375, train/loss_prior=0.364, train/lr=0.000298, train/num_steps=837, train/recon_cossim=0.723, train/recon_mse=0.364]"
     ]
    },
    {
     "name": "stdout",
     "output_type": "stream",
     "text": [
      "---\n",
      "\n",
      "---saved /root/autodl-tmp/fMRI/train_logs/multisubject_subj2_session1_1916/last ckpt!---\n",
      "\n"
     ]
    },
    {
     "name": "stderr",
     "output_type": "stream",
     "text": [
      "  6%|███████████████████████████████████████                                                                                                                                                                                                                                                                                                                                                                                                                                                                                                                                                                                                                                    | 9/150 [11:13<2:18:44, 59.04s/it, test/blurry_pixcorr=0, test/loss=13.7, test/loss_clip_total=1.97, test/loss_prior=0.392, test/num_steps=10, test/recon_cossim=0, test/recon_mse=0, test/test_bwd_pct_correct=0.383, test/test_fwd_pct_correct=0.737, train/blurry_pixcorr=0, train/bwd_pct_correct=0.79, train/fwd_pct_correct=0.793, train/loss=11.8, train/loss_blurry_cont_total=0, train/loss_blurry_total=0, train/loss_clip_total=0.356, train/loss_prior=0.38, train/lr=0.000298, train/num_steps=930, train/recon_cossim=0.712, train/recon_mse=0.38]"
     ]
    },
    {
     "name": "stdout",
     "output_type": "stream",
     "text": [
      "---\n",
      "\n",
      "---saved /root/autodl-tmp/fMRI/train_logs/multisubject_subj2_session1_1916/last ckpt!---\n",
      "\n"
     ]
    },
    {
     "name": "stderr",
     "output_type": "stream",
     "text": [
      "  7%|███████████████████████████████████████████▏                                                                                                                                                                                                                                                                                                                                                                                                                                                                                                                                                                                                                            | 10/150 [12:11<2:16:37, 58.56s/it, test/blurry_pixcorr=0, test/loss=18.4, test/loss_clip_total=1.88, test/loss_prior=0.55, test/num_steps=11, test/recon_cossim=0, test/recon_mse=0, test/test_bwd_pct_correct=0.37, test/test_fwd_pct_correct=0.767, train/blurry_pixcorr=0, train/bwd_pct_correct=0.755, train/fwd_pct_correct=0.767, train/loss=11.9, train/loss_blurry_cont_total=0, train/loss_blurry_total=0, train/loss_clip_total=0.339, train/loss_prior=0.385, train/lr=0.000297, train/num_steps=1023, train/recon_cossim=0.708, train/recon_mse=0.385]"
     ]
    },
    {
     "name": "stdout",
     "output_type": "stream",
     "text": [
      "---\n",
      "\n",
      "---saved /root/autodl-tmp/fMRI/train_logs/multisubject_subj2_session1_1916/last ckpt!---\n",
      "\n"
     ]
    },
    {
     "name": "stderr",
     "output_type": "stream",
     "text": [
      "  7%|███████████████████████████████████████████████▍                                                                                                                                                                                                                                                                                                                                                                                                                                                                                                                                                                                                                       | 11/150 [13:09<2:15:28, 58.48s/it, test/blurry_pixcorr=0, test/loss=14.7, test/loss_clip_total=2.06, test/loss_prior=0.423, test/num_steps=12, test/recon_cossim=0, test/recon_mse=0, test/test_bwd_pct_correct=0.33, test/test_fwd_pct_correct=0.747, train/blurry_pixcorr=0, train/bwd_pct_correct=0.786, train/fwd_pct_correct=0.773, train/loss=11.5, train/loss_blurry_cont_total=0, train/loss_blurry_total=0, train/loss_clip_total=0.341, train/loss_prior=0.373, train/lr=0.000297, train/num_steps=1116, train/recon_cossim=0.718, train/recon_mse=0.373]"
     ]
    },
    {
     "name": "stdout",
     "output_type": "stream",
     "text": [
      "---\n",
      "\n",
      "---saved /root/autodl-tmp/fMRI/train_logs/multisubject_subj2_session1_1916/last ckpt!---\n",
      "\n"
     ]
    },
    {
     "name": "stderr",
     "output_type": "stream",
     "text": [
      "  8%|███████████████████████████████████████████████████▊                                                                                                                                                                                                                                                                                                                                                                                                                                                                                                                                                                                                                   | 12/150 [14:05<2:12:24, 57.57s/it, test/blurry_pixcorr=0, test/loss=16.4, test/loss_clip_total=1.87, test/loss_prior=0.485, test/num_steps=13, test/recon_cossim=0, test/recon_mse=0, test/test_bwd_pct_correct=0.373, test/test_fwd_pct_correct=0.73, train/blurry_pixcorr=0, train/bwd_pct_correct=0.776, train/fwd_pct_correct=0.797, train/loss=11.8, train/loss_blurry_cont_total=0, train/loss_blurry_total=0, train/loss_clip_total=0.317, train/loss_prior=0.384, train/lr=0.000296, train/num_steps=1209, train/recon_cossim=0.709, train/recon_mse=0.384]"
     ]
    },
    {
     "name": "stdout",
     "output_type": "stream",
     "text": [
      "---\n",
      "\n",
      "---saved /root/autodl-tmp/fMRI/train_logs/multisubject_subj2_session1_1916/last ckpt!---\n",
      "\n"
     ]
    },
    {
     "name": "stderr",
     "output_type": "stream",
     "text": [
      "  9%|███████████████████████████████████████████████████████▉                                                                                                                                                                                                                                                                                                                                                                                                                                                                                                                                                                                                              | 13/150 [15:01<2:10:32, 57.17s/it, test/blurry_pixcorr=0, test/loss=13.9, test/loss_clip_total=2.03, test/loss_prior=0.395, test/num_steps=14, test/recon_cossim=0, test/recon_mse=0, test/test_bwd_pct_correct=0.367, test/test_fwd_pct_correct=0.717, train/blurry_pixcorr=0, train/bwd_pct_correct=0.773, train/fwd_pct_correct=0.765, train/loss=11.6, train/loss_blurry_cont_total=0, train/loss_blurry_total=0, train/loss_clip_total=0.329, train/loss_prior=0.377, train/lr=0.000295, train/num_steps=1302, train/recon_cossim=0.714, train/recon_mse=0.377]"
     ]
    },
    {
     "name": "stdout",
     "output_type": "stream",
     "text": [
      "---\n",
      "\n",
      "---saved /root/autodl-tmp/fMRI/train_logs/multisubject_subj2_session1_1916/last ckpt!---\n",
      "\n"
     ]
    },
    {
     "name": "stderr",
     "output_type": "stream",
     "text": [
      "  9%|████████████████████████████████████████████████████████████▎                                                                                                                                                                                                                                                                                                                                                                                                                                                                                                                                                                                                         | 14/150 [16:08<2:16:23, 60.17s/it, test/blurry_pixcorr=0, test/loss=14.1, test/loss_clip_total=2.15, test/loss_prior=0.399, test/num_steps=15, test/recon_cossim=0, test/recon_mse=0, test/test_bwd_pct_correct=0.343, test/test_fwd_pct_correct=0.737, train/blurry_pixcorr=0, train/bwd_pct_correct=0.765, train/fwd_pct_correct=0.765, train/loss=10.9, train/loss_blurry_cont_total=0, train/loss_blurry_total=0, train/loss_clip_total=0.349, train/loss_prior=0.353, train/lr=0.000294, train/num_steps=1395, train/recon_cossim=0.734, train/recon_mse=0.353]"
     ]
    },
    {
     "name": "stdout",
     "output_type": "stream",
     "text": [
      "---\n",
      "\n",
      "---saved /root/autodl-tmp/fMRI/train_logs/multisubject_subj2_session1_1916/last ckpt!---\n",
      "\n"
     ]
    },
    {
     "name": "stderr",
     "output_type": "stream",
     "text": [
      " 10%|█████████████████████████████████████████████████████████████████                                                                                                                                                                                                                                                                                                                                                                                                                                                                                                                                                                                                         | 15/150 [17:19<2:22:48, 63.47s/it, test/blurry_pixcorr=0, test/loss=14.6, test/loss_clip_total=1.97, test/loss_prior=0.422, test/num_steps=16, test/recon_cossim=0, test/recon_mse=0, test/test_bwd_pct_correct=0.38, test/test_fwd_pct_correct=0.727, train/blurry_pixcorr=0, train/bwd_pct_correct=0.745, train/fwd_pct_correct=0.762, train/loss=11.8, train/loss_blurry_cont_total=0, train/loss_blurry_total=0, train/loss_clip_total=0.42, train/loss_prior=0.38, train/lr=0.000293, train/num_steps=1488, train/recon_cossim=0.712, train/recon_mse=0.38]"
     ]
    },
    {
     "name": "stdout",
     "output_type": "stream",
     "text": [
      "---\n",
      "\n",
      "---saved /root/autodl-tmp/fMRI/train_logs/multisubject_subj2_session1_1916/last ckpt!---\n",
      "\n"
     ]
    },
    {
     "name": "stderr",
     "output_type": "stream",
     "text": [
      " 11%|█████████████████████████████████████████████████████████████████████▎                                                                                                                                                                                                                                                                                                                                                                                                                                                                                                                                                                                                    | 16/150 [18:15<2:16:47, 61.25s/it, test/blurry_pixcorr=0, test/loss=14.9, test/loss_clip_total=2.02, test/loss_prior=0.43, test/num_steps=17, test/recon_cossim=0, test/recon_mse=0, test/test_bwd_pct_correct=0.4, test/test_fwd_pct_correct=0.69, train/blurry_pixcorr=0, train/bwd_pct_correct=0.794, train/fwd_pct_correct=0.805, train/loss=11.3, train/loss_blurry_cont_total=0, train/loss_blurry_total=0, train/loss_clip_total=0.325, train/loss_prior=0.365, train/lr=0.000293, train/num_steps=1581, train/recon_cossim=0.723, train/recon_mse=0.365]"
     ]
    },
    {
     "name": "stdout",
     "output_type": "stream",
     "text": [
      "---\n",
      "\n",
      "---saved /root/autodl-tmp/fMRI/train_logs/multisubject_subj2_session1_1916/last ckpt!---\n",
      "\n"
     ]
    },
    {
     "name": "stderr",
     "output_type": "stream",
     "text": [
      " 11%|█████████████████████████████████████████████████████████████████████████▍                                                                                                                                                                                                                                                                                                                                                                                                                                                                                                                                                                                              | 17/150 [19:12<2:12:30, 59.78s/it, test/blurry_pixcorr=0, test/loss=15.7, test/loss_clip_total=1.94, test/loss_prior=0.459, test/num_steps=18, test/recon_cossim=0, test/recon_mse=0, test/test_bwd_pct_correct=0.44, test/test_fwd_pct_correct=0.693, train/blurry_pixcorr=0, train/bwd_pct_correct=0.782, train/fwd_pct_correct=0.79, train/loss=11.8, train/loss_blurry_cont_total=0, train/loss_blurry_total=0, train/loss_clip_total=0.321, train/loss_prior=0.381, train/lr=0.000291, train/num_steps=1674, train/recon_cossim=0.712, train/recon_mse=0.381]"
     ]
    },
    {
     "name": "stdout",
     "output_type": "stream",
     "text": [
      "---\n"
     ]
    },
    {
     "name": "stderr",
     "output_type": "stream",
     "text": [
      " 12%|█████████████████████████████████████████████████████████████████████████████▊                                                                                                                                                                                                                                                                                                                                                                                                                                                                                                                                                                                          | 18/150 [19:29<2:09:25, 58.83s/it, test/blurry_pixcorr=0, test/loss=15.7, test/loss_clip_total=1.94, test/loss_prior=0.459, test/num_steps=18, test/recon_cossim=0, test/recon_mse=0, test/test_bwd_pct_correct=0.44, test/test_fwd_pct_correct=0.693, train/blurry_pixcorr=0, train/bwd_pct_correct=0.782, train/fwd_pct_correct=0.79, train/loss=11.8, train/loss_blurry_cont_total=0, train/loss_blurry_total=0, train/loss_clip_total=0.321, train/loss_prior=0.381, train/lr=0.000291, train/num_steps=1674, train/recon_cossim=0.712, train/recon_mse=0.381]"
     ]
    },
    {
     "name": "stdout",
     "output_type": "stream",
     "text": [
      "\n",
      "---saved /root/autodl-tmp/fMRI/train_logs/multisubject_subj2_session1_1916/last ckpt!---\n",
      "\n"
     ]
    },
    {
     "name": "stderr",
     "output_type": "stream",
     "text": [
      " 12%|█████████████████████████████████████████████████████████████████████████████▋                                                                                                                                                                                                                                                                                                                                                                                                                                                                                                                                                                                         | 18/150 [20:08<2:09:25, 58.83s/it, test/blurry_pixcorr=0, test/loss=15.3, test/loss_clip_total=1.98, test/loss_prior=0.443, test/num_steps=19, test/recon_cossim=0, test/recon_mse=0, test/test_bwd_pct_correct=0.393, test/test_fwd_pct_correct=0.717, train/blurry_pixcorr=0, train/bwd_pct_correct=0.772, train/fwd_pct_correct=0.781, train/loss=11.6, train/loss_blurry_cont_total=0, train/loss_blurry_total=0, train/loss_clip_total=0.362, train/loss_prior=0.375, train/lr=0.00029, train/num_steps=1767, train/recon_cossim=0.717, train/recon_mse=0.375]"
     ]
    },
    {
     "name": "stdout",
     "output_type": "stream",
     "text": [
      "---\n",
      "\n",
      "---saved /root/autodl-tmp/fMRI/train_logs/multisubject_subj2_session1_1916/last ckpt!---\n",
      "\n"
     ]
    },
    {
     "name": "stderr",
     "output_type": "stream",
     "text": [
      " 13%|█████████████████████████████████████████████████████████████████████████████████▊                                                                                                                                                                                                                                                                                                                                                                                                                                                                                                                                                                                    | 19/150 [21:06<2:06:57, 58.15s/it, test/blurry_pixcorr=0, test/loss=15.9, test/loss_clip_total=1.97, test/loss_prior=0.464, test/num_steps=20, test/recon_cossim=0, test/recon_mse=0, test/test_bwd_pct_correct=0.363, test/test_fwd_pct_correct=0.753, train/blurry_pixcorr=0, train/bwd_pct_correct=0.754, train/fwd_pct_correct=0.777, train/loss=11.1, train/loss_blurry_cont_total=0, train/loss_blurry_total=0, train/loss_clip_total=0.365, train/loss_prior=0.357, train/lr=0.000289, train/num_steps=1860, train/recon_cossim=0.731, train/recon_mse=0.357]"
     ]
    },
    {
     "name": "stdout",
     "output_type": "stream",
     "text": [
      "---\n",
      "\n",
      "---saved /root/autodl-tmp/fMRI/train_logs/multisubject_subj2_session1_1916/last ckpt!---\n",
      "\n"
     ]
    },
    {
     "name": "stderr",
     "output_type": "stream",
     "text": [
      " 13%|██████████████████████████████████████████████████████████████████████████████████████▎                                                                                                                                                                                                                                                                                                                                                                                                                                                                                                                                                                                | 20/150 [22:03<2:06:07, 58.21s/it, test/blurry_pixcorr=0, test/loss=13.3, test/loss_clip_total=2.08, test/loss_prior=0.374, test/num_steps=21, test/recon_cossim=0, test/recon_mse=0, test/test_bwd_pct_correct=0.337, test/test_fwd_pct_correct=0.737, train/blurry_pixcorr=0, train/bwd_pct_correct=0.754, train/fwd_pct_correct=0.746, train/loss=10.9, train/loss_blurry_cont_total=0, train/loss_blurry_total=0, train/loss_clip_total=0.33, train/loss_prior=0.353, train/lr=0.000288, train/num_steps=1953, train/recon_cossim=0.734, train/recon_mse=0.353]"
     ]
    },
    {
     "name": "stdout",
     "output_type": "stream",
     "text": [
      "---\n",
      "\n",
      "---saved /root/autodl-tmp/fMRI/train_logs/multisubject_subj2_session1_1916/last ckpt!---\n",
      "\n"
     ]
    },
    {
     "name": "stderr",
     "output_type": "stream",
     "text": [
      " 14%|██████████████████████████████████████████████████████████████████████████████████████████▌                                                                                                                                                                                                                                                                                                                                                                                                                                                                                                                                                                            | 21/150 [22:59<2:03:48, 57.58s/it, test/blurry_pixcorr=0, test/loss=15.6, test/loss_clip_total=2.09, test/loss_prior=0.451, test/num_steps=22, test/recon_cossim=0, test/recon_mse=0, test/test_bwd_pct_correct=0.343, test/test_fwd_pct_correct=0.75, train/blurry_pixcorr=0, train/bwd_pct_correct=0.759, train/fwd_pct_correct=0.737, train/loss=11.2, train/loss_blurry_cont_total=0, train/loss_blurry_total=0, train/loss_clip_total=0.371, train/loss_prior=0.362, train/lr=0.000287, train/num_steps=2046, train/recon_cossim=0.729, train/recon_mse=0.362]"
     ]
    },
    {
     "name": "stdout",
     "output_type": "stream",
     "text": [
      "---\n",
      "\n",
      "---saved /root/autodl-tmp/fMRI/train_logs/multisubject_subj2_session1_1916/last ckpt!---\n",
      "\n"
     ]
    },
    {
     "name": "stderr",
     "output_type": "stream",
     "text": [
      " 15%|███████████████████████████████████████████████████████████████████████████████████████████████▍                                                                                                                                                                                                                                                                                                                                                                                                                                                                                                                                                                           | 22/150 [23:56<2:02:02, 57.21s/it, test/blurry_pixcorr=0, test/loss=12.1, test/loss_clip_total=1.92, test/loss_prior=0.339, test/num_steps=23, test/recon_cossim=0, test/recon_mse=0, test/test_bwd_pct_correct=0.36, test/test_fwd_pct_correct=0.8, train/blurry_pixcorr=0, train/bwd_pct_correct=0.782, train/fwd_pct_correct=0.798, train/loss=11.4, train/loss_blurry_cont_total=0, train/loss_blurry_total=0, train/loss_clip_total=0.305, train/loss_prior=0.37, train/lr=0.000285, train/num_steps=2139, train/recon_cossim=0.721, train/recon_mse=0.37]"
     ]
    },
    {
     "name": "stdout",
     "output_type": "stream",
     "text": [
      "---\n",
      "\n",
      "---saved /root/autodl-tmp/fMRI/train_logs/multisubject_subj2_session1_1916/last ckpt!---\n",
      "\n"
     ]
    },
    {
     "name": "stderr",
     "output_type": "stream",
     "text": [
      " 15%|███████████████████████████████████████████████████████████████████████████████████████████████████▏                                                                                                                                                                                                                                                                                                                                                                                                                                                                                                                                                                   | 23/150 [24:51<1:59:44, 56.57s/it, test/blurry_pixcorr=0, test/loss=12.5, test/loss_clip_total=1.88, test/loss_prior=0.353, test/num_steps=24, test/recon_cossim=0, test/recon_mse=0, test/test_bwd_pct_correct=0.443, test/test_fwd_pct_correct=0.76, train/blurry_pixcorr=0, train/bwd_pct_correct=0.798, train/fwd_pct_correct=0.809, train/loss=10.9, train/loss_blurry_cont_total=0, train/loss_blurry_total=0, train/loss_clip_total=0.296, train/loss_prior=0.353, train/lr=0.000284, train/num_steps=2232, train/recon_cossim=0.735, train/recon_mse=0.353]"
     ]
    },
    {
     "name": "stdout",
     "output_type": "stream",
     "text": [
      "---\n"
     ]
    },
    {
     "name": "stderr",
     "output_type": "stream",
     "text": [
      " 16%|███████████████████████████████████████████████████████████████████████████████████████████████████████▌                                                                                                                                                                                                                                                                                                                                                                                                                                                                                                                                                               | 24/150 [25:06<1:57:45, 56.08s/it, test/blurry_pixcorr=0, test/loss=12.5, test/loss_clip_total=1.88, test/loss_prior=0.353, test/num_steps=24, test/recon_cossim=0, test/recon_mse=0, test/test_bwd_pct_correct=0.443, test/test_fwd_pct_correct=0.76, train/blurry_pixcorr=0, train/bwd_pct_correct=0.798, train/fwd_pct_correct=0.809, train/loss=10.9, train/loss_blurry_cont_total=0, train/loss_blurry_total=0, train/loss_clip_total=0.296, train/loss_prior=0.353, train/lr=0.000284, train/num_steps=2232, train/recon_cossim=0.735, train/recon_mse=0.353]"
     ]
    },
    {
     "name": "stdout",
     "output_type": "stream",
     "text": [
      "\n",
      "---saved /root/autodl-tmp/fMRI/train_logs/multisubject_subj2_session1_1916/last ckpt!---\n",
      "\n"
     ]
    },
    {
     "name": "stderr",
     "output_type": "stream",
     "text": [
      " 16%|████████████████████████████████████████████████████████████████████████████████████████████████████████                                                                                                                                                                                                                                                                                                                                                                                                                                                                                                                                                                  | 24/150 [25:46<1:57:45, 56.08s/it, test/blurry_pixcorr=0, test/loss=13.2, test/loss_clip_total=2, test/loss_prior=0.374, test/num_steps=25, test/recon_cossim=0, test/recon_mse=0, test/test_bwd_pct_correct=0.423, test/test_fwd_pct_correct=0.75, train/blurry_pixcorr=0, train/bwd_pct_correct=0.753, train/fwd_pct_correct=0.772, train/loss=10.9, train/loss_blurry_cont_total=0, train/loss_blurry_total=0, train/loss_clip_total=0.332, train/loss_prior=0.352, train/lr=0.000283, train/num_steps=2325, train/recon_cossim=0.736, train/recon_mse=0.352]"
     ]
    },
    {
     "name": "stdout",
     "output_type": "stream",
     "text": [
      "---\n",
      "\n",
      "---saved /root/autodl-tmp/fMRI/train_logs/multisubject_subj2_session1_1916/last ckpt!---\n",
      "\n"
     ]
    },
    {
     "name": "stderr",
     "output_type": "stream",
     "text": [
      " 17%|████████████████████████████████████████████████████████████████████████████████████████████████████████████▏                                                                                                                                                                                                                                                                                                                                                                                                                                                                                                                                                            | 25/150 [26:40<1:55:58, 55.67s/it, test/blurry_pixcorr=0, test/loss=14.8, test/loss_clip_total=1.86, test/loss_prior=0.433, test/num_steps=26, test/recon_cossim=0, test/recon_mse=0, test/test_bwd_pct_correct=0.387, test/test_fwd_pct_correct=0.817, train/blurry_pixcorr=0, train/bwd_pct_correct=0.774, train/fwd_pct_correct=0.773, train/loss=11.1, train/loss_blurry_cont_total=0, train/loss_blurry_total=0, train/loss_clip_total=0.306, train/loss_prior=0.36, train/lr=0.000281, train/num_steps=2418, train/recon_cossim=0.73, train/recon_mse=0.36]"
     ]
    },
    {
     "name": "stdout",
     "output_type": "stream",
     "text": [
      "---\n"
     ]
    },
    {
     "name": "stderr",
     "output_type": "stream",
     "text": [
      " 17%|████████████████████████████████████████████████████████████████████████████████████████████████████████████████▍                                                                                                                                                                                                                                                                                                                                                                                                                                                                                                                                                        | 26/150 [26:57<1:55:12, 55.75s/it, test/blurry_pixcorr=0, test/loss=14.8, test/loss_clip_total=1.86, test/loss_prior=0.433, test/num_steps=26, test/recon_cossim=0, test/recon_mse=0, test/test_bwd_pct_correct=0.387, test/test_fwd_pct_correct=0.817, train/blurry_pixcorr=0, train/bwd_pct_correct=0.774, train/fwd_pct_correct=0.773, train/loss=11.1, train/loss_blurry_cont_total=0, train/loss_blurry_total=0, train/loss_clip_total=0.306, train/loss_prior=0.36, train/lr=0.000281, train/num_steps=2418, train/recon_cossim=0.73, train/recon_mse=0.36]"
     ]
    },
    {
     "name": "stdout",
     "output_type": "stream",
     "text": [
      "\n",
      "---saved /root/autodl-tmp/fMRI/train_logs/multisubject_subj2_session1_1916/last ckpt!---\n",
      "\n"
     ]
    },
    {
     "name": "stderr",
     "output_type": "stream",
     "text": [
      " 17%|████████████████████████████████████████████████████████████████████████████████████████████████████████████████▊                                                                                                                                                                                                                                                                                                                                                                                                                                                                                                                                                          | 26/150 [27:36<1:55:12, 55.75s/it, test/blurry_pixcorr=0, test/loss=14, test/loss_clip_total=1.86, test/loss_prior=0.406, test/num_steps=27, test/recon_cossim=0, test/recon_mse=0, test/test_bwd_pct_correct=0.433, test/test_fwd_pct_correct=0.75, train/blurry_pixcorr=0, train/bwd_pct_correct=0.789, train/fwd_pct_correct=0.806, train/loss=10.8, train/loss_blurry_cont_total=0, train/loss_blurry_total=0, train/loss_clip_total=0.314, train/loss_prior=0.35, train/lr=0.000279, train/num_steps=2511, train/recon_cossim=0.739, train/recon_mse=0.35]"
     ]
    },
    {
     "name": "stdout",
     "output_type": "stream",
     "text": [
      "---\n",
      "\n",
      "---saved /root/autodl-tmp/fMRI/train_logs/multisubject_subj2_session1_1916/last ckpt!---\n",
      "\n"
     ]
    },
    {
     "name": "stderr",
     "output_type": "stream",
     "text": [
      " 18%|█████████████████████████████████████████████████████████████████████████████████████████████████████████████████████                                                                                                                                                                                                                                                                                                                                                                                                                                                                                                                                                     | 27/150 [28:32<1:53:54, 55.57s/it, test/blurry_pixcorr=0, test/loss=16, test/loss_clip_total=2.19, test/loss_prior=0.46, test/num_steps=28, test/recon_cossim=0, test/recon_mse=0, test/test_bwd_pct_correct=0.393, test/test_fwd_pct_correct=0.69, train/blurry_pixcorr=0, train/bwd_pct_correct=0.782, train/fwd_pct_correct=0.767, train/loss=10.9, train/loss_blurry_cont_total=0, train/loss_blurry_total=0, train/loss_clip_total=0.314, train/loss_prior=0.354, train/lr=0.000278, train/num_steps=2604, train/recon_cossim=0.735, train/recon_mse=0.354]"
     ]
    },
    {
     "name": "stdout",
     "output_type": "stream",
     "text": [
      "---\n",
      "\n",
      "---saved /root/autodl-tmp/fMRI/train_logs/multisubject_subj2_session1_1916/last ckpt!---\n",
      "\n"
     ]
    },
    {
     "name": "stderr",
     "output_type": "stream",
     "text": [
      " 19%|████████████████████████████████████████████████████████████████████████████████████████████████████████████████████████▊                                                                                                                                                                                                                                                                                                                                                                                                                                                                                                                                              | 28/150 [29:27<1:53:22, 55.76s/it, test/blurry_pixcorr=0, test/loss=15.4, test/loss_clip_total=1.98, test/loss_prior=0.447, test/num_steps=29, test/recon_cossim=0, test/recon_mse=0, test/test_bwd_pct_correct=0.343, test/test_fwd_pct_correct=0.75, train/blurry_pixcorr=0, train/bwd_pct_correct=0.754, train/fwd_pct_correct=0.733, train/loss=10.4, train/loss_blurry_cont_total=0, train/loss_blurry_total=0, train/loss_clip_total=0.323, train/loss_prior=0.335, train/lr=0.000276, train/num_steps=2697, train/recon_cossim=0.749, train/recon_mse=0.335]"
     ]
    },
    {
     "name": "stdout",
     "output_type": "stream",
     "text": [
      "---\n"
     ]
    },
    {
     "name": "stderr",
     "output_type": "stream",
     "text": [
      " 19%|█████████████████████████████████████████████████████████████████████████████████████████████████████████████████████████████                                                                                                                                                                                                                                                                                                                                                                                                                                                                                                                                          | 29/150 [29:45<1:52:47, 55.93s/it, test/blurry_pixcorr=0, test/loss=15.4, test/loss_clip_total=1.98, test/loss_prior=0.447, test/num_steps=29, test/recon_cossim=0, test/recon_mse=0, test/test_bwd_pct_correct=0.343, test/test_fwd_pct_correct=0.75, train/blurry_pixcorr=0, train/bwd_pct_correct=0.754, train/fwd_pct_correct=0.733, train/loss=10.4, train/loss_blurry_cont_total=0, train/loss_blurry_total=0, train/loss_clip_total=0.323, train/loss_prior=0.335, train/lr=0.000276, train/num_steps=2697, train/recon_cossim=0.749, train/recon_mse=0.335]"
     ]
    },
    {
     "name": "stdout",
     "output_type": "stream",
     "text": [
      "\n",
      "---saved /root/autodl-tmp/fMRI/train_logs/multisubject_subj2_session1_1916/last ckpt!---\n",
      "\n"
     ]
    },
    {
     "name": "stderr",
     "output_type": "stream",
     "text": [
      " 19%|█████████████████████████████████████████████████████████████████████████████████████████████████████████████████████████████▍                                                                                                                                                                                                                                                                                                                                                                                                                                                                                                                                           | 29/150 [30:24<1:52:47, 55.93s/it, test/blurry_pixcorr=0, test/loss=14.6, test/loss_clip_total=1.94, test/loss_prior=0.423, test/num_steps=30, test/recon_cossim=0, test/recon_mse=0, test/test_bwd_pct_correct=0.387, test/test_fwd_pct_correct=0.767, train/blurry_pixcorr=0, train/bwd_pct_correct=0.776, train/fwd_pct_correct=0.79, train/loss=11.5, train/loss_blurry_cont_total=0, train/loss_blurry_total=0, train/loss_clip_total=0.345, train/loss_prior=0.37, train/lr=0.000274, train/num_steps=2790, train/recon_cossim=0.723, train/recon_mse=0.37]"
     ]
    },
    {
     "name": "stdout",
     "output_type": "stream",
     "text": [
      "---\n",
      "\n",
      "---saved /root/autodl-tmp/fMRI/train_logs/multisubject_subj2_session1_1916/last ckpt!---\n",
      "\n"
     ]
    },
    {
     "name": "stderr",
     "output_type": "stream",
     "text": [
      " 20%|█████████████████████████████████████████████████████████████████████████████████████████████████████████████████████████████████▌                                                                                                                                                                                                                                                                                                                                                                                                                                                                                                                                      | 30/150 [31:21<1:52:13, 56.11s/it, test/blurry_pixcorr=0, test/loss=15.8, test/loss_clip_total=2.12, test/loss_prior=0.457, test/num_steps=31, test/recon_cossim=0, test/recon_mse=0, test/test_bwd_pct_correct=0.36, test/test_fwd_pct_correct=0.713, train/blurry_pixcorr=0, train/bwd_pct_correct=0.757, train/fwd_pct_correct=0.754, train/loss=11.2, train/loss_blurry_cont_total=0, train/loss_blurry_total=0, train/loss_clip_total=0.331, train/loss_prior=0.361, train/lr=0.000273, train/num_steps=2883, train/recon_cossim=0.73, train/recon_mse=0.361]"
     ]
    },
    {
     "name": "stdout",
     "output_type": "stream",
     "text": [
      "---\n",
      "\n",
      "---saved /root/autodl-tmp/fMRI/train_logs/multisubject_subj2_session1_1916/last ckpt!---\n",
      "\n"
     ]
    },
    {
     "name": "stderr",
     "output_type": "stream",
     "text": [
      " 21%|█████████████████████████████████████████████████████████████████████████████████████████████████████████████████████████████████████▋                                                                                                                                                                                                                                                                                                                                                                                                                                                                                                                                 | 31/150 [32:16<1:50:45, 55.84s/it, test/blurry_pixcorr=0, test/loss=17.8, test/loss_clip_total=2.02, test/loss_prior=0.527, test/num_steps=32, test/recon_cossim=0, test/recon_mse=0, test/test_bwd_pct_correct=0.357, test/test_fwd_pct_correct=0.76, train/blurry_pixcorr=0, train/bwd_pct_correct=0.772, train/fwd_pct_correct=0.777, train/loss=10.9, train/loss_blurry_cont_total=0, train/loss_blurry_total=0, train/loss_clip_total=0.293, train/loss_prior=0.355, train/lr=0.000271, train/num_steps=2976, train/recon_cossim=0.735, train/recon_mse=0.355]"
     ]
    },
    {
     "name": "stdout",
     "output_type": "stream",
     "text": [
      "---\n",
      "\n",
      "---saved /root/autodl-tmp/fMRI/train_logs/multisubject_subj2_session1_1916/last ckpt!---\n",
      "\n"
     ]
    },
    {
     "name": "stderr",
     "output_type": "stream",
     "text": [
      " 21%|██████████████████████████████████████████████████████████████████████████████████████████████████████████████████████████████████████████▍                                                                                                                                                                                                                                                                                                                                                                                                                                                                                                                              | 32/150 [33:12<1:50:12, 56.03s/it, test/blurry_pixcorr=0, test/loss=11.8, test/loss_clip_total=1.95, test/loss_prior=0.328, test/num_steps=33, test/recon_cossim=0, test/recon_mse=0, test/test_bwd_pct_correct=0.397, test/test_fwd_pct_correct=0.757, train/blurry_pixcorr=0, train/bwd_pct_correct=0.767, train/fwd_pct_correct=0.767, train/loss=10.8, train/loss_blurry_cont_total=0, train/loss_blurry_total=0, train/loss_clip_total=0.314, train/loss_prior=0.35, train/lr=0.000269, train/num_steps=3069, train/recon_cossim=0.74, train/recon_mse=0.35]"
     ]
    },
    {
     "name": "stdout",
     "output_type": "stream",
     "text": [
      "---\n",
      "\n",
      "---saved /root/autodl-tmp/fMRI/train_logs/multisubject_subj2_session1_1916/last ckpt!---\n",
      "\n"
     ]
    },
    {
     "name": "stderr",
     "output_type": "stream",
     "text": [
      " 22%|██████████████████████████████████████████████████████████████████████████████████████████████████████████████████████████████████████████████                                                                                                                                                                                                                                                                                                                                                                                                                                                                                                                        | 33/150 [34:09<1:49:45, 56.29s/it, test/blurry_pixcorr=0, test/loss=14.3, test/loss_clip_total=2.04, test/loss_prior=0.409, test/num_steps=34, test/recon_cossim=0, test/recon_mse=0, test/test_bwd_pct_correct=0.357, test/test_fwd_pct_correct=0.727, train/blurry_pixcorr=0, train/bwd_pct_correct=0.765, train/fwd_pct_correct=0.766, train/loss=10.2, train/loss_blurry_cont_total=0, train/loss_blurry_total=0, train/loss_clip_total=0.343, train/loss_prior=0.329, train/lr=0.000267, train/num_steps=3162, train/recon_cossim=0.754, train/recon_mse=0.329]"
     ]
    },
    {
     "name": "stdout",
     "output_type": "stream",
     "text": [
      "---\n"
     ]
    },
    {
     "name": "stderr",
     "output_type": "stream",
     "text": [
      " 23%|██████████████████████████████████████████████████████████████████████████████████████████████████████████████████████████████████████████████████▍                                                                                                                                                                                                                                                                                                                                                                                                                                                                                                                   | 34/150 [34:25<1:48:16, 56.01s/it, test/blurry_pixcorr=0, test/loss=14.3, test/loss_clip_total=2.04, test/loss_prior=0.409, test/num_steps=34, test/recon_cossim=0, test/recon_mse=0, test/test_bwd_pct_correct=0.357, test/test_fwd_pct_correct=0.727, train/blurry_pixcorr=0, train/bwd_pct_correct=0.765, train/fwd_pct_correct=0.766, train/loss=10.2, train/loss_blurry_cont_total=0, train/loss_blurry_total=0, train/loss_clip_total=0.343, train/loss_prior=0.329, train/lr=0.000267, train/num_steps=3162, train/recon_cossim=0.754, train/recon_mse=0.329]"
     ]
    },
    {
     "name": "stdout",
     "output_type": "stream",
     "text": [
      "\n",
      "---saved /root/autodl-tmp/fMRI/train_logs/multisubject_subj2_session1_1916/last ckpt!---\n",
      "\n"
     ]
    },
    {
     "name": "stderr",
     "output_type": "stream",
     "text": [
      " 23%|██████████████████████████████████████████████████████████████████████████████████████████████████████████████████████████████████████████████████▉                                                                                                                                                                                                                                                                                                                                                                                                                                                                                                                     | 34/150 [35:05<1:48:16, 56.01s/it, test/blurry_pixcorr=0, test/loss=18.8, test/loss_clip_total=1.99, test/loss_prior=0.561, test/num_steps=35, test/recon_cossim=0, test/recon_mse=0, test/test_bwd_pct_correct=0.36, test/test_fwd_pct_correct=0.74, train/blurry_pixcorr=0, train/bwd_pct_correct=0.774, train/fwd_pct_correct=0.773, train/loss=11.2, train/loss_blurry_cont_total=0, train/loss_blurry_total=0, train/loss_clip_total=0.286, train/loss_prior=0.364, train/lr=0.000265, train/num_steps=3255, train/recon_cossim=0.728, train/recon_mse=0.364]"
     ]
    },
    {
     "name": "stdout",
     "output_type": "stream",
     "text": [
      "---\n",
      "\n",
      "---saved /root/autodl-tmp/fMRI/train_logs/multisubject_subj2_session1_1916/last ckpt!---\n",
      "\n"
     ]
    },
    {
     "name": "stderr",
     "output_type": "stream",
     "text": [
      " 23%|██████████████████████████████████████████████████████████████████████████████████████████████████████████████████████████████████████████████████████▉                                                                                                                                                                                                                                                                                                                                                                                                                                                                                                                | 35/150 [36:01<1:47:34, 56.13s/it, test/blurry_pixcorr=0, test/loss=10.7, test/loss_clip_total=1.96, test/loss_prior=0.292, test/num_steps=36, test/recon_cossim=0, test/recon_mse=0, test/test_bwd_pct_correct=0.373, test/test_fwd_pct_correct=0.75, train/blurry_pixcorr=0, train/bwd_pct_correct=0.766, train/fwd_pct_correct=0.778, train/loss=10.7, train/loss_blurry_cont_total=0, train/loss_blurry_total=0, train/loss_clip_total=0.303, train/loss_prior=0.347, train/lr=0.000263, train/num_steps=3348, train/recon_cossim=0.742, train/recon_mse=0.347]"
     ]
    },
    {
     "name": "stdout",
     "output_type": "stream",
     "text": [
      "---\n",
      "\n",
      "---saved /root/autodl-tmp/fMRI/train_logs/multisubject_subj2_session1_1916/last ckpt!---\n",
      "\n"
     ]
    },
    {
     "name": "stderr",
     "output_type": "stream",
     "text": [
      " 24%|███████████████████████████████████████████████████████████████████████████████████████████████████████████████████████████████████████████████████████████                                                                                                                                                                                                                                                                                                                                                                                                                                                                                                           | 36/150 [36:56<1:46:04, 55.83s/it, test/blurry_pixcorr=0, test/loss=13.5, test/loss_clip_total=1.91, test/loss_prior=0.387, test/num_steps=37, test/recon_cossim=0, test/recon_mse=0, test/test_bwd_pct_correct=0.393, test/test_fwd_pct_correct=0.783, train/blurry_pixcorr=0, train/bwd_pct_correct=0.781, train/fwd_pct_correct=0.785, train/loss=10.6, train/loss_blurry_cont_total=0, train/loss_blurry_total=0, train/loss_clip_total=0.319, train/loss_prior=0.343, train/lr=0.000261, train/num_steps=3441, train/recon_cossim=0.745, train/recon_mse=0.343]"
     ]
    },
    {
     "name": "stdout",
     "output_type": "stream",
     "text": [
      "---\n",
      "\n",
      "---saved /root/autodl-tmp/fMRI/train_logs/multisubject_subj2_session1_1916/last ckpt!---\n",
      "\n"
     ]
    },
    {
     "name": "stderr",
     "output_type": "stream",
     "text": [
      " 25%|███████████████████████████████████████████████████████████████████████████████████████████████████████████████████████████████████████████████████████████████▌                                                                                                                                                                                                                                                                                                                                                                                                                                                                                                       | 37/150 [37:53<1:45:40, 56.11s/it, test/blurry_pixcorr=0, test/loss=13.5, test/loss_clip_total=1.93, test/loss_prior=0.385, test/num_steps=38, test/recon_cossim=0, test/recon_mse=0, test/test_bwd_pct_correct=0.387, test/test_fwd_pct_correct=0.76, train/blurry_pixcorr=0, train/bwd_pct_correct=0.797, train/fwd_pct_correct=0.809, train/loss=10.7, train/loss_blurry_cont_total=0, train/loss_blurry_total=0, train/loss_clip_total=0.292, train/loss_prior=0.346, train/lr=0.000258, train/num_steps=3534, train/recon_cossim=0.744, train/recon_mse=0.346]"
     ]
    },
    {
     "name": "stdout",
     "output_type": "stream",
     "text": [
      "---\n",
      "\n",
      "---saved /root/autodl-tmp/fMRI/train_logs/multisubject_subj2_session1_1916/last ckpt!---\n",
      "\n"
     ]
    },
    {
     "name": "stderr",
     "output_type": "stream",
     "text": [
      " 25%|███████████████████████████████████████████████████████████████████████████████████████████████████████████████████████████████████████████████████████████████████▉                                                                                                                                                                                                                                                                                                                                                                                                                                                                                                   | 38/150 [38:48<1:44:16, 55.87s/it, test/blurry_pixcorr=0, test/loss=17.3, test/loss_clip_total=2.02, test/loss_prior=0.509, test/num_steps=39, test/recon_cossim=0, test/recon_mse=0, test/test_bwd_pct_correct=0.337, test/test_fwd_pct_correct=0.75, train/blurry_pixcorr=0, train/bwd_pct_correct=0.804, train/fwd_pct_correct=0.808, train/loss=10.8, train/loss_blurry_cont_total=0, train/loss_blurry_total=0, train/loss_clip_total=0.288, train/loss_prior=0.351, train/lr=0.000256, train/num_steps=3627, train/recon_cossim=0.741, train/recon_mse=0.351]"
     ]
    },
    {
     "name": "stdout",
     "output_type": "stream",
     "text": [
      "---\n",
      "\n",
      "---saved /root/autodl-tmp/fMRI/train_logs/multisubject_subj2_session1_1916/last ckpt!---\n",
      "\n"
     ]
    },
    {
     "name": "stderr",
     "output_type": "stream",
     "text": [
      " 26%|████████████████████████████████████████████████████████████████████████████████████████████████████████████████████████████████████████████████████████████████████████▋                                                                                                                                                                                                                                                                                                                                                                                                                                                                                                | 39/150 [39:45<1:43:37, 56.01s/it, test/blurry_pixcorr=0, test/loss=16.5, test/loss_clip_total=2.03, test/loss_prior=0.484, test/num_steps=40, test/recon_cossim=0, test/recon_mse=0, test/test_bwd_pct_correct=0.38, test/test_fwd_pct_correct=0.75, train/blurry_pixcorr=0, train/bwd_pct_correct=0.767, train/fwd_pct_correct=0.757, train/loss=10.5, train/loss_blurry_cont_total=0, train/loss_blurry_total=0, train/loss_clip_total=0.323, train/loss_prior=0.339, train/lr=0.000254, train/num_steps=3720, train/recon_cossim=0.75, train/recon_mse=0.339]"
     ]
    },
    {
     "name": "stdout",
     "output_type": "stream",
     "text": [
      "---\n",
      "\n",
      "---saved /root/autodl-tmp/fMRI/train_logs/multisubject_subj2_session1_1916/last ckpt!---\n",
      "\n"
     ]
    },
    {
     "name": "stderr",
     "output_type": "stream",
     "text": [
      " 27%|████████████████████████████████████████████████████████████████████████████████████████████████████████████████████████████████████████████████████████████████████████████▌                                                                                                                                                                                                                                                                                                                                                                                                                                                                                          | 40/150 [40:40<1:42:02, 55.66s/it, test/blurry_pixcorr=0, test/loss=14.8, test/loss_clip_total=2.16, test/loss_prior=0.422, test/num_steps=41, test/recon_cossim=0, test/recon_mse=0, test/test_bwd_pct_correct=0.33, test/test_fwd_pct_correct=0.717, train/blurry_pixcorr=0, train/bwd_pct_correct=0.793, train/fwd_pct_correct=0.805, train/loss=10.1, train/loss_blurry_cont_total=0, train/loss_blurry_total=0, train/loss_clip_total=0.292, train/loss_prior=0.327, train/lr=0.000252, train/num_steps=3813, train/recon_cossim=0.758, train/recon_mse=0.327]"
     ]
    },
    {
     "name": "stdout",
     "output_type": "stream",
     "text": [
      "---\n",
      "\n",
      "---saved /root/autodl-tmp/fMRI/train_logs/multisubject_subj2_session1_1916/last ckpt!---\n",
      "\n"
     ]
    },
    {
     "name": "stderr",
     "output_type": "stream",
     "text": [
      " 27%|█████████████████████████████████████████████████████████████████████████████████████████████████████████████████████████████████████████████████████████████████████████████████▉                                                                                                                                                                                                                                                                                                                                                                                                                                                                                         | 41/150 [41:36<1:41:33, 55.90s/it, test/blurry_pixcorr=0, test/loss=16.4, test/loss_clip_total=2.05, test/loss_prior=0.48, test/num_steps=42, test/recon_cossim=0, test/recon_mse=0, test/test_bwd_pct_correct=0.37, test/test_fwd_pct_correct=0.757, train/blurry_pixcorr=0, train/bwd_pct_correct=0.782, train/fwd_pct_correct=0.782, train/loss=10, train/loss_blurry_cont_total=0, train/loss_blurry_total=0, train/loss_clip_total=0.327, train/loss_prior=0.324, train/lr=0.000249, train/num_steps=3906, train/recon_cossim=0.76, train/recon_mse=0.324]"
     ]
    },
    {
     "name": "stdout",
     "output_type": "stream",
     "text": [
      "---\n",
      "\n",
      "---saved /root/autodl-tmp/fMRI/train_logs/multisubject_subj2_session1_1916/last ckpt!---\n",
      "\n"
     ]
    },
    {
     "name": "stderr",
     "output_type": "stream",
     "text": [
      " 28%|█████████████████████████████████████████████████████████████████████████████████████████████████████████████████████████████████████████████████████████████████████████████████████▏                                                                                                                                                                                                                                                                                                                                                                                                                                                                                 | 42/150 [42:33<1:41:02, 56.14s/it, test/blurry_pixcorr=0, test/loss=14.7, test/loss_clip_total=2.09, test/loss_prior=0.42, test/num_steps=43, test/recon_cossim=0, test/recon_mse=0, test/test_bwd_pct_correct=0.357, test/test_fwd_pct_correct=0.717, train/blurry_pixcorr=0, train/bwd_pct_correct=0.758, train/fwd_pct_correct=0.735, train/loss=10.4, train/loss_blurry_cont_total=0, train/loss_blurry_total=0, train/loss_clip_total=0.342, train/loss_prior=0.334, train/lr=0.000247, train/num_steps=3999, train/recon_cossim=0.753, train/recon_mse=0.334]"
     ]
    },
    {
     "name": "stdout",
     "output_type": "stream",
     "text": [
      "---\n",
      "\n",
      "---saved /root/autodl-tmp/fMRI/train_logs/multisubject_subj2_session1_1916/last ckpt!---\n",
      "\n"
     ]
    },
    {
     "name": "stderr",
     "output_type": "stream",
     "text": [
      " 29%|█████████████████████████████████████████████████████████████████████████████████████████████████████████████████████████████████████████████████████████████████████████████████████████▊                                                                                                                                                                                                                                                                                                                                                                                                                                                                              | 43/150 [43:28<1:39:49, 55.97s/it, test/blurry_pixcorr=0, test/loss=13.3, test/loss_clip_total=1.91, test/loss_prior=0.381, test/num_steps=44, test/recon_cossim=0, test/recon_mse=0, test/test_bwd_pct_correct=0.413, test/test_fwd_pct_correct=0.753, train/blurry_pixcorr=0, train/bwd_pct_correct=0.8, train/fwd_pct_correct=0.812, train/loss=10.8, train/loss_blurry_cont_total=0, train/loss_blurry_total=0, train/loss_clip_total=0.302, train/loss_prior=0.351, train/lr=0.000244, train/num_steps=4092, train/recon_cossim=0.741, train/recon_mse=0.351]"
     ]
    },
    {
     "name": "stdout",
     "output_type": "stream",
     "text": [
      "---\n",
      "\n",
      "---saved /root/autodl-tmp/fMRI/train_logs/multisubject_subj2_session1_1916/last ckpt!---\n",
      "\n"
     ]
    },
    {
     "name": "stderr",
     "output_type": "stream",
     "text": [
      " 29%|██████████████████████████████████████████████████████████████████████████████████████████████████████████████████████████████████████████████████████████████████████████████████████████████▋                                                                                                                                                                                                                                                                                                                                                                                                                                                                           | 44/150 [44:23<1:38:13, 55.60s/it, test/blurry_pixcorr=0, test/loss=12, test/loss_clip_total=2.06, test/loss_prior=0.333, test/num_steps=45, test/recon_cossim=0, test/recon_mse=0, test/test_bwd_pct_correct=0.35, test/test_fwd_pct_correct=0.787, train/blurry_pixcorr=0, train/bwd_pct_correct=0.758, train/fwd_pct_correct=0.77, train/loss=11.1, train/loss_blurry_cont_total=0, train/loss_blurry_total=0, train/loss_clip_total=0.371, train/loss_prior=0.357, train/lr=0.000242, train/num_steps=4185, train/recon_cossim=0.736, train/recon_mse=0.357]"
     ]
    },
    {
     "name": "stdout",
     "output_type": "stream",
     "text": [
      "---\n"
     ]
    },
    {
     "name": "stderr",
     "output_type": "stream",
     "text": [
      " 30%|███████████████████████████████████████████████████████████████████████████████████████████████████████████████████████████████████████████████████████████████████████████████████████████████████                                                                                                                                                                                                                                                                                                                                                                                                                                                                       | 45/150 [44:38<1:36:49, 55.33s/it, test/blurry_pixcorr=0, test/loss=12, test/loss_clip_total=2.06, test/loss_prior=0.333, test/num_steps=45, test/recon_cossim=0, test/recon_mse=0, test/test_bwd_pct_correct=0.35, test/test_fwd_pct_correct=0.787, train/blurry_pixcorr=0, train/bwd_pct_correct=0.758, train/fwd_pct_correct=0.77, train/loss=11.1, train/loss_blurry_cont_total=0, train/loss_blurry_total=0, train/loss_clip_total=0.371, train/loss_prior=0.357, train/lr=0.000242, train/num_steps=4185, train/recon_cossim=0.736, train/recon_mse=0.357]"
     ]
    },
    {
     "name": "stdout",
     "output_type": "stream",
     "text": [
      "\n",
      "---saved /root/autodl-tmp/fMRI/train_logs/multisubject_subj2_session1_1916/last ckpt!---\n",
      "\n"
     ]
    },
    {
     "name": "stderr",
     "output_type": "stream",
     "text": [
      " 30%|██████████████████████████████████████████████████████████████████████████████████████████████████████████████████████████████████████████████████████████████████████████████████████████████████▍                                                                                                                                                                                                                                                                                                                                                                                                                                                                     | 45/150 [45:18<1:36:49, 55.33s/it, test/blurry_pixcorr=0, test/loss=15.3, test/loss_clip_total=2.05, test/loss_prior=0.44, test/num_steps=46, test/recon_cossim=0, test/recon_mse=0, test/test_bwd_pct_correct=0.367, test/test_fwd_pct_correct=0.78, train/blurry_pixcorr=0, train/bwd_pct_correct=0.761, train/fwd_pct_correct=0.772, train/loss=10.7, train/loss_blurry_cont_total=0, train/loss_blurry_total=0, train/loss_clip_total=0.356, train/loss_prior=0.343, train/lr=0.000239, train/num_steps=4278, train/recon_cossim=0.747, train/recon_mse=0.343]"
     ]
    },
    {
     "name": "stdout",
     "output_type": "stream",
     "text": [
      "---\n",
      "\n",
      "---saved /root/autodl-tmp/fMRI/train_logs/multisubject_subj2_session1_1916/last ckpt!---\n",
      "\n"
     ]
    },
    {
     "name": "stderr",
     "output_type": "stream",
     "text": [
      " 31%|██████████████████████████████████████████████████████████████████████████████████████████████████████████████████████████████████████████████████████████████████████████████████████████████████████▍                                                                                                                                                                                                                                                                                                                                                                                                                                                                | 46/150 [46:13<1:35:48, 55.27s/it, test/blurry_pixcorr=0, test/loss=15.5, test/loss_clip_total=2.03, test/loss_prior=0.45, test/num_steps=47, test/recon_cossim=0, test/recon_mse=0, test/test_bwd_pct_correct=0.367, test/test_fwd_pct_correct=0.783, train/blurry_pixcorr=0, train/bwd_pct_correct=0.774, train/fwd_pct_correct=0.782, train/loss=10.6, train/loss_blurry_cont_total=0, train/loss_blurry_total=0, train/loss_clip_total=0.299, train/loss_prior=0.345, train/lr=0.000237, train/num_steps=4371, train/recon_cossim=0.748, train/recon_mse=0.345]"
     ]
    },
    {
     "name": "stdout",
     "output_type": "stream",
     "text": [
      "---\n",
      "\n",
      "---saved /root/autodl-tmp/fMRI/train_logs/multisubject_subj2_session1_1916/last ckpt!---\n",
      "\n"
     ]
    },
    {
     "name": "stderr",
     "output_type": "stream",
     "text": [
      " 31%|███████████████████████████████████████████████████████████████████████████████████████████████████████████████████████████████████████████████████████████████████████████████████████████████████████████▎                                                                                                                                                                                                                                                                                                                                                                                                                                                             | 47/150 [47:08<1:35:00, 55.34s/it, test/blurry_pixcorr=0, test/loss=14.2, test/loss_clip_total=1.98, test/loss_prior=0.409, test/num_steps=48, test/recon_cossim=0, test/recon_mse=0, test/test_bwd_pct_correct=0.357, test/test_fwd_pct_correct=0.763, train/blurry_pixcorr=0, train/bwd_pct_correct=0.79, train/fwd_pct_correct=0.8, train/loss=10.7, train/loss_blurry_cont_total=0, train/loss_blurry_total=0, train/loss_clip_total=0.283, train/loss_prior=0.348, train/lr=0.000234, train/num_steps=4464, train/recon_cossim=0.745, train/recon_mse=0.348]"
     ]
    },
    {
     "name": "stdout",
     "output_type": "stream",
     "text": [
      "---\n",
      "\n",
      "---saved /root/autodl-tmp/fMRI/train_logs/multisubject_subj2_session1_1916/last ckpt!---\n",
      "\n"
     ]
    },
    {
     "name": "stderr",
     "output_type": "stream",
     "text": [
      " 32%|██████████████████████████████████████████████████████████████████████████████████████████████████████████████████████████████████████████████████████████████████████████████████████████████████████████████▋                                                                                                                                                                                                                                                                                                                                                                                                                                                       | 48/150 [48:03<1:33:45, 55.15s/it, test/blurry_pixcorr=0, test/loss=12.8, test/loss_clip_total=1.86, test/loss_prior=0.366, test/num_steps=49, test/recon_cossim=0, test/recon_mse=0, test/test_bwd_pct_correct=0.433, test/test_fwd_pct_correct=0.793, train/blurry_pixcorr=0, train/bwd_pct_correct=0.761, train/fwd_pct_correct=0.759, train/loss=10.3, train/loss_blurry_cont_total=0, train/loss_blurry_total=0, train/loss_clip_total=0.336, train/loss_prior=0.333, train/lr=0.000232, train/num_steps=4557, train/recon_cossim=0.756, train/recon_mse=0.333]"
     ]
    },
    {
     "name": "stdout",
     "output_type": "stream",
     "text": [
      "---\n",
      "\n",
      "---saved /root/autodl-tmp/fMRI/train_logs/multisubject_subj2_session1_1916/last ckpt!---\n",
      "\n"
     ]
    },
    {
     "name": "stderr",
     "output_type": "stream",
     "text": [
      " 33%|████████████████████████████████████████████████████████████████████████████████████████████████████████████████████████████████████████████████████████████████████████████████████████████████████████████████████▎                                                                                                                                                                                                                                                                                                                                                                                                                                                     | 49/150 [48:58<1:33:01, 55.26s/it, test/blurry_pixcorr=0, test/loss=12, test/loss_clip_total=1.59, test/loss_prior=0.349, test/num_steps=50, test/recon_cossim=0, test/recon_mse=0, test/test_bwd_pct_correct=0.46, test/test_fwd_pct_correct=0.83, train/blurry_pixcorr=0, train/bwd_pct_correct=0.993, train/fwd_pct_correct=0.995, train/loss=9.83, train/loss_blurry_cont_total=0, train/loss_blurry_total=0, train/loss_clip_total=0.0111, train/loss_prior=0.327, train/lr=0.000229, train/num_steps=4650, train/recon_cossim=0.76, train/recon_mse=0.327]"
     ]
    },
    {
     "name": "stdout",
     "output_type": "stream",
     "text": [
      "---\n",
      "\n",
      "---saved /root/autodl-tmp/fMRI/train_logs/multisubject_subj2_session1_1916/last ckpt!---\n",
      "\n"
     ]
    },
    {
     "name": "stderr",
     "output_type": "stream",
     "text": [
      " 33%|███████████████████████████████████████████████████████████████████████████████████████████████████████████████████████████████████████████████████████████████████████████████████████████████████████████████████████▎                                                                                                                                                                                                                                                                                                                                                                                                                                              | 50/150 [49:59<1:34:38, 56.78s/it, test/blurry_pixcorr=0, test/loss=19.7, test/loss_clip_total=1.52, test/loss_prior=0.606, test/num_steps=51, test/recon_cossim=0, test/recon_mse=0, test/test_bwd_pct_correct=0.507, test/test_fwd_pct_correct=0.81, train/blurry_pixcorr=0, train/bwd_pct_correct=0.995, train/fwd_pct_correct=0.993, train/loss=9.72, train/loss_blurry_cont_total=0, train/loss_blurry_total=0, train/loss_clip_total=0.0102, train/loss_prior=0.324, train/lr=0.000226, train/num_steps=4743, train/recon_cossim=0.762, train/recon_mse=0.324]"
     ]
    },
    {
     "name": "stdout",
     "output_type": "stream",
     "text": [
      "---\n",
      "\n",
      "---saved /root/autodl-tmp/fMRI/train_logs/multisubject_subj2_session1_1916/last ckpt!---\n",
      "\n"
     ]
    },
    {
     "name": "stderr",
     "output_type": "stream",
     "text": [
      " 34%|███████████████████████████████████████████████████████████████████████████████████████████████████████████████████████████████████████████████████████████████████████████████████████████████████████████████████████████▎                                                                                                                                                                                                                                                                                                                                                                                                                                         | 51/150 [50:52<1:31:55, 55.72s/it, test/blurry_pixcorr=0, test/loss=15.8, test/loss_clip_total=1.49, test/loss_prior=0.478, test/num_steps=52, test/recon_cossim=0, test/recon_mse=0, test/test_bwd_pct_correct=0.483, test/test_fwd_pct_correct=0.827, train/blurry_pixcorr=0, train/bwd_pct_correct=0.988, train/fwd_pct_correct=0.988, train/loss=8.95, train/loss_blurry_cont_total=0, train/loss_blurry_total=0, train/loss_clip_total=0.0205, train/loss_prior=0.298, train/lr=0.000223, train/num_steps=4836, train/recon_cossim=0.784, train/recon_mse=0.298]"
     ]
    },
    {
     "name": "stdout",
     "output_type": "stream",
     "text": [
      "---\n",
      "\n",
      "---saved /root/autodl-tmp/fMRI/train_logs/multisubject_subj2_session1_1916/last ckpt!---\n",
      "\n"
     ]
    },
    {
     "name": "stderr",
     "output_type": "stream",
     "text": [
      " 35%|███████████████████████████████████████████████████████████████████████████████████████████████████████████████████████████████████████████████████████████████████████████████████████████████████████████████████████████████▌                                                                                                                                                                                                                                                                                                                                                                                                                                     | 52/150 [51:45<1:29:55, 55.05s/it, test/blurry_pixcorr=0, test/loss=14.2, test/loss_clip_total=1.34, test/loss_prior=0.428, test/num_steps=53, test/recon_cossim=0, test/recon_mse=0, test/test_bwd_pct_correct=0.557, test/test_fwd_pct_correct=0.837, train/blurry_pixcorr=0, train/bwd_pct_correct=0.996, train/fwd_pct_correct=0.997, train/loss=9.4, train/loss_blurry_cont_total=0, train/loss_blurry_total=0, train/loss_clip_total=0.00626, train/loss_prior=0.313, train/lr=0.000221, train/num_steps=4929, train/recon_cossim=0.773, train/recon_mse=0.313]"
     ]
    },
    {
     "name": "stdout",
     "output_type": "stream",
     "text": [
      "---\n",
      "\n",
      "---saved /root/autodl-tmp/fMRI/train_logs/multisubject_subj2_session1_1916/last ckpt!---\n",
      "\n"
     ]
    },
    {
     "name": "stderr",
     "output_type": "stream",
     "text": [
      " 35%|████████████████████████████████████████████████████████████████████████████████████████████████████████████████████████████████████████████████████████████████████████████████████████████████████████████████████████████████████▌                                                                                                                                                                                                                                                                                                                                                                                                                                  | 53/150 [52:44<1:30:56, 56.25s/it, test/blurry_pixcorr=0, test/loss=12.6, test/loss_clip_total=1.43, test/loss_prior=0.371, test/num_steps=54, test/recon_cossim=0, test/recon_mse=0, test/test_bwd_pct_correct=0.503, test/test_fwd_pct_correct=0.827, train/blurry_pixcorr=0, train/bwd_pct_correct=0.993, train/fwd_pct_correct=0.993, train/loss=9.31, train/loss_blurry_cont_total=0, train/loss_blurry_total=0, train/loss_clip_total=0.0113, train/loss_prior=0.31, train/lr=0.000218, train/num_steps=5022, train/recon_cossim=0.774, train/recon_mse=0.31]"
     ]
    },
    {
     "name": "stdout",
     "output_type": "stream",
     "text": [
      "---\n",
      "\n",
      "---saved /root/autodl-tmp/fMRI/train_logs/multisubject_subj2_session1_1916/last ckpt!---\n",
      "\n"
     ]
    },
    {
     "name": "stderr",
     "output_type": "stream",
     "text": [
      " 36%|████████████████████████████████████████████████████████████████████████████████████████████████████████████████████████████████████████████████████████████████████████████████████████████████████████████████████████████████████████▌                                                                                                                                                                                                                                                                                                                                                                                                                             | 54/150 [53:39<1:29:08, 55.71s/it, test/blurry_pixcorr=0, test/loss=14.3, test/loss_clip_total=1.35, test/loss_prior=0.433, test/num_steps=55, test/recon_cossim=0, test/recon_mse=0, test/test_bwd_pct_correct=0.51, test/test_fwd_pct_correct=0.83, train/blurry_pixcorr=0, train/bwd_pct_correct=0.999, train/fwd_pct_correct=0.999, train/loss=9.68, train/loss_blurry_cont_total=0, train/loss_blurry_total=0, train/loss_clip_total=0.00254, train/loss_prior=0.323, train/lr=0.000215, train/num_steps=5115, train/recon_cossim=0.766, train/recon_mse=0.323]"
     ]
    },
    {
     "name": "stdout",
     "output_type": "stream",
     "text": [
      "---\n",
      "\n",
      "---saved /root/autodl-tmp/fMRI/train_logs/multisubject_subj2_session1_1916/last ckpt!---\n",
      "\n"
     ]
    },
    {
     "name": "stderr",
     "output_type": "stream",
     "text": [
      " 37%|████████████████████████████████████████████████████████████████████████████████████████████████████████████████████████████████████████████████████████████████████████████████████████████████████████████████████████████████████████████▍                                                                                                                                                                                                                                                                                                                                                                                                                        | 55/150 [54:35<1:28:12, 55.71s/it, test/blurry_pixcorr=0, test/loss=9.81, test/loss_clip_total=1.28, test/loss_prior=0.284, test/num_steps=56, test/recon_cossim=0, test/recon_mse=0, test/test_bwd_pct_correct=0.573, test/test_fwd_pct_correct=0.857, train/blurry_pixcorr=0, train/bwd_pct_correct=0.996, train/fwd_pct_correct=0.996, train/loss=8.67, train/loss_blurry_cont_total=0, train/loss_blurry_total=0, train/loss_clip_total=0.00679, train/loss_prior=0.289, train/lr=0.000212, train/num_steps=5208, train/recon_cossim=0.79, train/recon_mse=0.289]"
     ]
    },
    {
     "name": "stdout",
     "output_type": "stream",
     "text": [
      "---\n",
      "\n",
      "---saved /root/autodl-tmp/fMRI/train_logs/multisubject_subj2_session1_1916/last ckpt!---\n",
      "\n"
     ]
    },
    {
     "name": "stderr",
     "output_type": "stream",
     "text": [
      " 37%|████████████████████████████████████████████████████████████████████████████████████████████████████████████████████████████████████████████████████████████████████████████████████████████████████████████████████████████████████████████████▍                                                                                                                                                                                                                                                                                                                                                                                                                   | 56/150 [55:29<1:26:45, 55.37s/it, test/blurry_pixcorr=0, test/loss=12.7, test/loss_clip_total=1.14, test/loss_prior=0.387, test/num_steps=57, test/recon_cossim=0, test/recon_mse=0, test/test_bwd_pct_correct=0.603, test/test_fwd_pct_correct=0.843, train/blurry_pixcorr=0, train/bwd_pct_correct=0.996, train/fwd_pct_correct=0.996, train/loss=9.19, train/loss_blurry_cont_total=0, train/loss_blurry_total=0, train/loss_clip_total=0.00838, train/loss_prior=0.306, train/lr=0.000209, train/num_steps=5301, train/recon_cossim=0.779, train/recon_mse=0.306]"
     ]
    },
    {
     "name": "stdout",
     "output_type": "stream",
     "text": [
      "---\n"
     ]
    },
    {
     "name": "stderr",
     "output_type": "stream",
     "text": [
      " 38%|████████████████████████████████████████████████████████████████████████████████████████████████████████████████████████████████████████████████████████████████████████████████████████████████████████████████████████████████████████████████████▋                                                                                                                                                                                                                                                                                                                                                                                                               | 57/150 [55:45<1:25:33, 55.20s/it, test/blurry_pixcorr=0, test/loss=12.7, test/loss_clip_total=1.14, test/loss_prior=0.387, test/num_steps=57, test/recon_cossim=0, test/recon_mse=0, test/test_bwd_pct_correct=0.603, test/test_fwd_pct_correct=0.843, train/blurry_pixcorr=0, train/bwd_pct_correct=0.996, train/fwd_pct_correct=0.996, train/loss=9.19, train/loss_blurry_cont_total=0, train/loss_blurry_total=0, train/loss_clip_total=0.00838, train/loss_prior=0.306, train/lr=0.000209, train/num_steps=5301, train/recon_cossim=0.779, train/recon_mse=0.306]"
     ]
    },
    {
     "name": "stdout",
     "output_type": "stream",
     "text": [
      "\n",
      "---saved /root/autodl-tmp/fMRI/train_logs/multisubject_subj2_session1_1916/last ckpt!---\n",
      "\n"
     ]
    },
    {
     "name": "stderr",
     "output_type": "stream",
     "text": [
      " 38%|██████████████████████████████████████████████████████████████████████████████████████████████████████████████████████████████████████████████████████████████████████████████████████████████████████████████████████████████████████████████████████▏                                                                                                                                                                                                                                                                                                                                                                                                                 | 57/150 [56:24<1:25:33, 55.20s/it, test/blurry_pixcorr=0, test/loss=13, test/loss_clip_total=1.11, test/loss_prior=0.396, test/num_steps=58, test/recon_cossim=0, test/recon_mse=0, test/test_bwd_pct_correct=0.623, test/test_fwd_pct_correct=0.843, train/blurry_pixcorr=0, train/bwd_pct_correct=0.997, train/fwd_pct_correct=0.997, train/loss=9.61, train/loss_blurry_cont_total=0, train/loss_blurry_total=0, train/loss_clip_total=0.00424, train/loss_prior=0.32, train/lr=0.000206, train/num_steps=5394, train/recon_cossim=0.769, train/recon_mse=0.32]"
     ]
    },
    {
     "name": "stdout",
     "output_type": "stream",
     "text": [
      "---\n"
     ]
    },
    {
     "name": "stderr",
     "output_type": "stream",
     "text": [
      " 39%|██████████████████████████████████████████████████████████████████████████████████████████████████████████████████████████████████████████████████████████████████████████████████████████████████████████████████████████████████████████████████████████▌                                                                                                                                                                                                                                                                                                                                                                                                             | 58/150 [56:39<1:24:20, 55.00s/it, test/blurry_pixcorr=0, test/loss=13, test/loss_clip_total=1.11, test/loss_prior=0.396, test/num_steps=58, test/recon_cossim=0, test/recon_mse=0, test/test_bwd_pct_correct=0.623, test/test_fwd_pct_correct=0.843, train/blurry_pixcorr=0, train/bwd_pct_correct=0.997, train/fwd_pct_correct=0.997, train/loss=9.61, train/loss_blurry_cont_total=0, train/loss_blurry_total=0, train/loss_clip_total=0.00424, train/loss_prior=0.32, train/lr=0.000206, train/num_steps=5394, train/recon_cossim=0.769, train/recon_mse=0.32]"
     ]
    },
    {
     "name": "stdout",
     "output_type": "stream",
     "text": [
      "\n",
      "---saved /root/autodl-tmp/fMRI/train_logs/multisubject_subj2_session1_1916/last ckpt!---\n",
      "\n"
     ]
    },
    {
     "name": "stderr",
     "output_type": "stream",
     "text": [
      " 39%|█████████████████████████████████████████████████████████████████████████████████████████████████████████████████████████████████████████████████████████████████████████████████████████████████████████████████████████████████████████████████████████▊                                                                                                                                                                                                                                                                                                                                                                                                            | 58/150 [57:18<1:24:20, 55.00s/it, test/blurry_pixcorr=0, test/loss=14.3, test/loss_clip_total=1.06, test/loss_prior=0.442, test/num_steps=59, test/recon_cossim=0, test/recon_mse=0, test/test_bwd_pct_correct=0.64, test/test_fwd_pct_correct=0.87, train/blurry_pixcorr=0, train/bwd_pct_correct=0.995, train/fwd_pct_correct=0.995, train/loss=9.39, train/loss_blurry_cont_total=0, train/loss_blurry_total=0, train/loss_clip_total=0.00876, train/loss_prior=0.313, train/lr=0.000203, train/num_steps=5487, train/recon_cossim=0.776, train/recon_mse=0.313]"
     ]
    },
    {
     "name": "stdout",
     "output_type": "stream",
     "text": [
      "---\n"
     ]
    },
    {
     "name": "stderr",
     "output_type": "stream",
     "text": [
      " 39%|██████████████████████████████████████████████████████████████████████████████████████████████████████████████████████████████████████████████████████████████████████████████████████████████████████████████████████████████████████████████████████████████                                                                                                                                                                                                                                                                                                                                                                                                        | 59/150 [57:33<1:23:03, 54.76s/it, test/blurry_pixcorr=0, test/loss=14.3, test/loss_clip_total=1.06, test/loss_prior=0.442, test/num_steps=59, test/recon_cossim=0, test/recon_mse=0, test/test_bwd_pct_correct=0.64, test/test_fwd_pct_correct=0.87, train/blurry_pixcorr=0, train/bwd_pct_correct=0.995, train/fwd_pct_correct=0.995, train/loss=9.39, train/loss_blurry_cont_total=0, train/loss_blurry_total=0, train/loss_clip_total=0.00876, train/loss_prior=0.313, train/lr=0.000203, train/num_steps=5487, train/recon_cossim=0.776, train/recon_mse=0.313]"
     ]
    },
    {
     "name": "stdout",
     "output_type": "stream",
     "text": [
      "\n",
      "---saved /root/autodl-tmp/fMRI/train_logs/multisubject_subj2_session1_1916/last ckpt!---\n",
      "\n"
     ]
    },
    {
     "name": "stderr",
     "output_type": "stream",
     "text": [
      " 39%|██████████████████████████████████████████████████████████████████████████████████████████████████████████████████████████████████████████████████████████████████████████████████████████████████████████████████████████████████████████████████████████████                                                                                                                                                                                                                                                                                                                                                                                                        | 59/150 [58:13<1:23:03, 54.76s/it, test/blurry_pixcorr=0, test/loss=16.3, test/loss_clip_total=0.991, test/loss_prior=0.512, test/num_steps=60, test/recon_cossim=0, test/recon_mse=0, test/test_bwd_pct_correct=0.65, test/test_fwd_pct_correct=0.877, train/blurry_pixcorr=0, train/bwd_pct_correct=0.999, train/fwd_pct_correct=0.997, train/loss=8.94, train/loss_blurry_cont_total=0, train/loss_blurry_total=0, train/loss_clip_total=0.00387, train/loss_prior=0.298, train/lr=0.0002, train/num_steps=5580, train/recon_cossim=0.785, train/recon_mse=0.298]"
     ]
    },
    {
     "name": "stdout",
     "output_type": "stream",
     "text": [
      "---\n"
     ]
    },
    {
     "name": "stderr",
     "output_type": "stream",
     "text": [
      " 40%|██████████████████████████████████████████████████████████████████████████████████████████████████████████████████████████████████████████████████████████████████████████████████████████████████████████████████████████████████████████████████████████████████▍                                                                                                                                                                                                                                                                                                                                                                                                   | 60/150 [58:28<1:22:11, 54.80s/it, test/blurry_pixcorr=0, test/loss=16.3, test/loss_clip_total=0.991, test/loss_prior=0.512, test/num_steps=60, test/recon_cossim=0, test/recon_mse=0, test/test_bwd_pct_correct=0.65, test/test_fwd_pct_correct=0.877, train/blurry_pixcorr=0, train/bwd_pct_correct=0.999, train/fwd_pct_correct=0.997, train/loss=8.94, train/loss_blurry_cont_total=0, train/loss_blurry_total=0, train/loss_clip_total=0.00387, train/loss_prior=0.298, train/lr=0.0002, train/num_steps=5580, train/recon_cossim=0.785, train/recon_mse=0.298]"
     ]
    },
    {
     "name": "stdout",
     "output_type": "stream",
     "text": [
      "\n",
      "---saved /root/autodl-tmp/fMRI/train_logs/multisubject_subj2_session1_1916/last ckpt!---\n",
      "\n"
     ]
    },
    {
     "name": "stderr",
     "output_type": "stream",
     "text": [
      " 40%|██████████████████████████████████████████████████████████████████████████████████████████████████████████████████████████████████████████████████████████████████████████████████████████████████████████████████████████████████████████████████████████████████▍                                                                                                                                                                                                                                                                                                                                                                                                   | 60/150 [59:08<1:22:11, 54.80s/it, test/blurry_pixcorr=0, test/loss=9.69, test/loss_clip_total=1.01, test/loss_prior=0.289, test/num_steps=61, test/recon_cossim=0, test/recon_mse=0, test/test_bwd_pct_correct=0.677, test/test_fwd_pct_correct=0.873, train/blurry_pixcorr=0, train/bwd_pct_correct=0.992, train/fwd_pct_correct=0.992, train/loss=8.5, train/loss_blurry_cont_total=0, train/loss_blurry_total=0, train/loss_clip_total=0.0129, train/loss_prior=0.283, train/lr=0.000197, train/num_steps=5673, train/recon_cossim=0.797, train/recon_mse=0.283]"
     ]
    },
    {
     "name": "stdout",
     "output_type": "stream",
     "text": [
      "---\n"
     ]
    },
    {
     "name": "stderr",
     "output_type": "stream",
     "text": [
      " 41%|██████████████████████████████████████████████████████████████████████████████████████████████████████████████████████████████████████████████████████████████████████████████████████████████████████████████████████████████████████████████████████████████████████▋                                                                                                                                                                                                                                                                                                                                                                                               | 61/150 [59:23<1:21:10, 54.72s/it, test/blurry_pixcorr=0, test/loss=9.69, test/loss_clip_total=1.01, test/loss_prior=0.289, test/num_steps=61, test/recon_cossim=0, test/recon_mse=0, test/test_bwd_pct_correct=0.677, test/test_fwd_pct_correct=0.873, train/blurry_pixcorr=0, train/bwd_pct_correct=0.992, train/fwd_pct_correct=0.992, train/loss=8.5, train/loss_blurry_cont_total=0, train/loss_blurry_total=0, train/loss_clip_total=0.0129, train/loss_prior=0.283, train/lr=0.000197, train/num_steps=5673, train/recon_cossim=0.797, train/recon_mse=0.283]"
     ]
    },
    {
     "name": "stdout",
     "output_type": "stream",
     "text": [
      "\n",
      "---saved /root/autodl-tmp/fMRI/train_logs/multisubject_subj2_session1_1916/last ckpt!---\n",
      "\n"
     ]
    },
    {
     "name": "stderr",
     "output_type": "stream",
     "text": [
      " 41%|█████████████████████████████████████████████████████████████████████████████████████████████████████████████████████████████████████████████████████████████████████████████████████████████████████████████████████████████████████████████████████████████████████▉                                                                                                                                                                                                                                                                                                                                                                                              | 61/150 [1:00:02<1:21:10, 54.72s/it, test/blurry_pixcorr=0, test/loss=12.8, test/loss_clip_total=0.955, test/loss_prior=0.396, test/num_steps=62, test/recon_cossim=0, test/recon_mse=0, test/test_bwd_pct_correct=0.67, test/test_fwd_pct_correct=0.91, train/blurry_pixcorr=0, train/bwd_pct_correct=0.996, train/fwd_pct_correct=0.996, train/loss=8.96, train/loss_blurry_cont_total=0, train/loss_blurry_total=0, train/loss_clip_total=0.0059, train/loss_prior=0.298, train/lr=0.000194, train/num_steps=5766, train/recon_cossim=0.784, train/recon_mse=0.298]"
     ]
    },
    {
     "name": "stdout",
     "output_type": "stream",
     "text": [
      "---\n",
      "\n",
      "---saved /root/autodl-tmp/fMRI/train_logs/multisubject_subj2_session1_1916/last ckpt!---\n",
      "\n"
     ]
    },
    {
     "name": "stderr",
     "output_type": "stream",
     "text": [
      " 41%|█████████████████████████████████████████████████████████████████████████████████████████████████████████████████████████████████████████████████████████████████████████████████████████████████████████████████████████████████████████████████████████████████████████▎                                                                                                                                                                                                                                                                                                                                                                                        | 62/150 [1:00:56<1:20:02, 54.58s/it, test/blurry_pixcorr=0, test/loss=11.9, test/loss_clip_total=0.879, test/loss_prior=0.367, test/num_steps=63, test/recon_cossim=0, test/recon_mse=0, test/test_bwd_pct_correct=0.69, test/test_fwd_pct_correct=0.907, train/blurry_pixcorr=0, train/bwd_pct_correct=0.997, train/fwd_pct_correct=0.997, train/loss=9.09, train/loss_blurry_cont_total=0, train/loss_blurry_total=0, train/loss_clip_total=0.00393, train/loss_prior=0.303, train/lr=0.000191, train/num_steps=5859, train/recon_cossim=0.783, train/recon_mse=0.303]"
     ]
    },
    {
     "name": "stdout",
     "output_type": "stream",
     "text": [
      "---\n"
     ]
    },
    {
     "name": "stderr",
     "output_type": "stream",
     "text": [
      " 42%|█████████████████████████████████████████████████████████████████████████████████████████████████████████████████████████████████████████████████████████████████████████████████████████████████████████████████████████████████████████████████████████████████████████████▋                                                                                                                                                                                                                                                                                                                                                                                    | 63/150 [1:01:12<1:19:13, 54.64s/it, test/blurry_pixcorr=0, test/loss=11.9, test/loss_clip_total=0.879, test/loss_prior=0.367, test/num_steps=63, test/recon_cossim=0, test/recon_mse=0, test/test_bwd_pct_correct=0.69, test/test_fwd_pct_correct=0.907, train/blurry_pixcorr=0, train/bwd_pct_correct=0.997, train/fwd_pct_correct=0.997, train/loss=9.09, train/loss_blurry_cont_total=0, train/loss_blurry_total=0, train/loss_clip_total=0.00393, train/loss_prior=0.303, train/lr=0.000191, train/num_steps=5859, train/recon_cossim=0.783, train/recon_mse=0.303]"
     ]
    },
    {
     "name": "stdout",
     "output_type": "stream",
     "text": [
      "\n",
      "---saved /root/autodl-tmp/fMRI/train_logs/multisubject_subj2_session1_1916/last ckpt!---\n",
      "\n"
     ]
    },
    {
     "name": "stderr",
     "output_type": "stream",
     "text": [
      " 42%|█████████████████████████████████████████████████████████████████████████████████████████████████████████████████████████████████████████████████████████████████████████████████████████████████████████████████████████████████████████████████████████████████████████████████▍                                                                                                                                                                                                                                                                                                                                                                                         | 63/150 [1:01:51<1:19:13, 54.64s/it, test/blurry_pixcorr=0, test/loss=15.6, test/loss_clip_total=0.885, test/loss_prior=0.489, test/num_steps=64, test/recon_cossim=0, test/recon_mse=0, test/test_bwd_pct_correct=0.68, test/test_fwd_pct_correct=0.9, train/blurry_pixcorr=0, train/bwd_pct_correct=1, train/fwd_pct_correct=1, train/loss=8.48, train/loss_blurry_cont_total=0, train/loss_blurry_total=0, train/loss_clip_total=0.000105, train/loss_prior=0.283, train/lr=0.000188, train/num_steps=5952, train/recon_cossim=0.797, train/recon_mse=0.283]"
     ]
    },
    {
     "name": "stdout",
     "output_type": "stream",
     "text": [
      "---\n",
      "\n",
      "---saved /root/autodl-tmp/fMRI/train_logs/multisubject_subj2_session1_1916/last ckpt!---\n",
      "\n"
     ]
    },
    {
     "name": "stderr",
     "output_type": "stream",
     "text": [
      " 43%|█████████████████████████████████████████████████████████████████████████████████████████████████████████████████████████████████████████████████████████████████████████████████████████████████████████████████████████████████████████████████████████████████████████████████▍                                                                                                                                                                                                                                                                                                                                                                               | 64/150 [1:02:46<1:18:14, 54.59s/it, test/blurry_pixcorr=0, test/loss=16.8, test/loss_clip_total=0.848, test/loss_prior=0.533, test/num_steps=65, test/recon_cossim=0, test/recon_mse=0, test/test_bwd_pct_correct=0.727, test/test_fwd_pct_correct=0.907, train/blurry_pixcorr=0, train/bwd_pct_correct=0.997, train/fwd_pct_correct=0.997, train/loss=8.43, train/loss_blurry_cont_total=0, train/loss_blurry_total=0, train/loss_clip_total=0.00392, train/loss_prior=0.281, train/lr=0.000185, train/num_steps=6045, train/recon_cossim=0.798, train/recon_mse=0.281]"
     ]
    },
    {
     "name": "stdout",
     "output_type": "stream",
     "text": [
      "---\n"
     ]
    },
    {
     "name": "stderr",
     "output_type": "stream",
     "text": [
      " 43%|█████████████████████████████████████████████████████████████████████████████████████████████████████████████████████████████████████████████████████████████████████████████████████████████████████████████████████████████████████████████████████████████████████████████████████▊                                                                                                                                                                                                                                                                                                                                                                           | 65/150 [1:03:01<1:17:28, 54.68s/it, test/blurry_pixcorr=0, test/loss=16.8, test/loss_clip_total=0.848, test/loss_prior=0.533, test/num_steps=65, test/recon_cossim=0, test/recon_mse=0, test/test_bwd_pct_correct=0.727, test/test_fwd_pct_correct=0.907, train/blurry_pixcorr=0, train/bwd_pct_correct=0.997, train/fwd_pct_correct=0.997, train/loss=8.43, train/loss_blurry_cont_total=0, train/loss_blurry_total=0, train/loss_clip_total=0.00392, train/loss_prior=0.281, train/lr=0.000185, train/num_steps=6045, train/recon_cossim=0.798, train/recon_mse=0.281]"
     ]
    },
    {
     "name": "stdout",
     "output_type": "stream",
     "text": [
      "\n",
      "---saved /root/autodl-tmp/fMRI/train_logs/multisubject_subj2_session1_1916/last ckpt!---\n",
      "\n"
     ]
    },
    {
     "name": "stderr",
     "output_type": "stream",
     "text": [
      " 43%|██████████████████████████████████████████████████████████████████████████████████████████████████████████████████████████████████████████████████████████████████████████████████████████████████████████████████████████████████████████████████████████████████████████████████████▏                                                                                                                                                                                                                                                                                                                                                                           | 65/150 [1:03:41<1:17:28, 54.68s/it, test/blurry_pixcorr=0, test/loss=14.3, test/loss_clip_total=0.867, test/loss_prior=0.447, test/num_steps=66, test/recon_cossim=0, test/recon_mse=0, test/test_bwd_pct_correct=0.723, test/test_fwd_pct_correct=0.893, train/blurry_pixcorr=0, train/bwd_pct_correct=0.991, train/fwd_pct_correct=0.991, train/loss=8.08, train/loss_blurry_cont_total=0, train/loss_blurry_total=0, train/loss_clip_total=0.0134, train/loss_prior=0.269, train/lr=0.000182, train/num_steps=6138, train/recon_cossim=0.808, train/recon_mse=0.269]"
     ]
    },
    {
     "name": "stdout",
     "output_type": "stream",
     "text": [
      "---\n",
      "\n",
      "---saved /root/autodl-tmp/fMRI/train_logs/multisubject_subj2_session1_1916/last ckpt!---\n",
      "\n"
     ]
    },
    {
     "name": "stderr",
     "output_type": "stream",
     "text": [
      " 44%|██████████████████████████████████████████████████████████████████████████████████████████████████████████████████████████████████████████████████████████████████████████████████████████████████████████████████████████████████████████████████████████████████████████████████████████▉                                                                                                                                                                                                                                                                                                                                                                        | 66/150 [1:04:35<1:16:33, 54.69s/it, test/blurry_pixcorr=0, test/loss=10.9, test/loss_clip_total=0.878, test/loss_prior=0.334, test/num_steps=67, test/recon_cossim=0, test/recon_mse=0, test/test_bwd_pct_correct=0.7, test/test_fwd_pct_correct=0.877, train/blurry_pixcorr=0, train/bwd_pct_correct=0.993, train/fwd_pct_correct=0.993, train/loss=8.66, train/loss_blurry_cont_total=0, train/loss_blurry_total=0, train/loss_clip_total=0.00957, train/loss_prior=0.288, train/lr=0.000179, train/num_steps=6231, train/recon_cossim=0.794, train/recon_mse=0.288]"
     ]
    },
    {
     "name": "stdout",
     "output_type": "stream",
     "text": [
      "---\n"
     ]
    },
    {
     "name": "stderr",
     "output_type": "stream",
     "text": [
      " 45%|███████████████████████████████████████████████████████████████████████████████████████████████████████████████████████████████████████████████████████████████████████████████████████████████████████████████████████████████████████████████████████████████████████████████████████████████▏                                                                                                                                                                                                                                                                                                                                                                   | 67/150 [1:04:51<1:15:45, 54.77s/it, test/blurry_pixcorr=0, test/loss=10.9, test/loss_clip_total=0.878, test/loss_prior=0.334, test/num_steps=67, test/recon_cossim=0, test/recon_mse=0, test/test_bwd_pct_correct=0.7, test/test_fwd_pct_correct=0.877, train/blurry_pixcorr=0, train/bwd_pct_correct=0.993, train/fwd_pct_correct=0.993, train/loss=8.66, train/loss_blurry_cont_total=0, train/loss_blurry_total=0, train/loss_clip_total=0.00957, train/loss_prior=0.288, train/lr=0.000179, train/num_steps=6231, train/recon_cossim=0.794, train/recon_mse=0.288]"
     ]
    },
    {
     "name": "stdout",
     "output_type": "stream",
     "text": [
      "\n",
      "---saved /root/autodl-tmp/fMRI/train_logs/multisubject_subj2_session1_1916/last ckpt!---\n",
      "\n"
     ]
    },
    {
     "name": "stderr",
     "output_type": "stream",
     "text": [
      " 45%|██████████████████████████████████████████████████████████████████████████████████████████████████████████████████████████████████████████████████████████████████████████████████████████████████████████████████████████████████████████████████████████████████████████████████████████████▎                                                                                                                                                                                                                                                                                                                                                                  | 67/150 [1:05:30<1:15:45, 54.77s/it, test/blurry_pixcorr=0, test/loss=13.1, test/loss_clip_total=0.847, test/loss_prior=0.409, test/num_steps=68, test/recon_cossim=0, test/recon_mse=0, test/test_bwd_pct_correct=0.717, test/test_fwd_pct_correct=0.903, train/blurry_pixcorr=0, train/bwd_pct_correct=0.995, train/fwd_pct_correct=0.995, train/loss=8.97, train/loss_blurry_cont_total=0, train/loss_blurry_total=0, train/loss_clip_total=0.00843, train/loss_prior=0.299, train/lr=0.000176, train/num_steps=6324, train/recon_cossim=0.786, train/recon_mse=0.299]"
     ]
    },
    {
     "name": "stdout",
     "output_type": "stream",
     "text": [
      "---\n"
     ]
    },
    {
     "name": "stderr",
     "output_type": "stream",
     "text": [
      " 45%|██████████████████████████████████████████████████████████████████████████████████████████████████████████████████████████████████████████████████████████████████████████████████████████████████████████████████████████████████████████████████████████████████████████████████████████████████▌                                                                                                                                                                                                                                                                                                                                                              | 68/150 [1:05:45<1:14:41, 54.66s/it, test/blurry_pixcorr=0, test/loss=13.1, test/loss_clip_total=0.847, test/loss_prior=0.409, test/num_steps=68, test/recon_cossim=0, test/recon_mse=0, test/test_bwd_pct_correct=0.717, test/test_fwd_pct_correct=0.903, train/blurry_pixcorr=0, train/bwd_pct_correct=0.995, train/fwd_pct_correct=0.995, train/loss=8.97, train/loss_blurry_cont_total=0, train/loss_blurry_total=0, train/loss_clip_total=0.00843, train/loss_prior=0.299, train/lr=0.000176, train/num_steps=6324, train/recon_cossim=0.786, train/recon_mse=0.299]"
     ]
    },
    {
     "name": "stdout",
     "output_type": "stream",
     "text": [
      "\n",
      "---saved /root/autodl-tmp/fMRI/train_logs/multisubject_subj2_session1_1916/last ckpt!---\n",
      "\n"
     ]
    },
    {
     "name": "stderr",
     "output_type": "stream",
     "text": [
      " 45%|███████████████████████████████████████████████████████████████████████████████████████████████████████████████████████████████████████████████████████████████████████████████████████████████████████████████████████████████████████████████████████████████████████████████████████████████████                                                                                                                                                                                                                                                                                                                                                               | 68/150 [1:06:25<1:14:41, 54.66s/it, test/blurry_pixcorr=0, test/loss=15.9, test/loss_clip_total=0.827, test/loss_prior=0.501, test/num_steps=69, test/recon_cossim=0, test/recon_mse=0, test/test_bwd_pct_correct=0.73, test/test_fwd_pct_correct=0.893, train/blurry_pixcorr=0, train/bwd_pct_correct=0.995, train/fwd_pct_correct=0.995, train/loss=8.48, train/loss_blurry_cont_total=0, train/loss_blurry_total=0, train/loss_clip_total=0.00996, train/loss_prior=0.282, train/lr=0.000172, train/num_steps=6417, train/recon_cossim=0.798, train/recon_mse=0.282]"
     ]
    },
    {
     "name": "stdout",
     "output_type": "stream",
     "text": [
      "---\n"
     ]
    },
    {
     "name": "stderr",
     "output_type": "stream",
     "text": [
      " 46%|███████████████████████████████████████████████████████████████████████████████████████████████████████████████████████████████████████████████████████████████████████████████████████████████████████████████████████████████████████████████████████████████████████████████████████████████████████▎                                                                                                                                                                                                                                                                                                                                                          | 69/150 [1:06:39<1:13:38, 54.55s/it, test/blurry_pixcorr=0, test/loss=15.9, test/loss_clip_total=0.827, test/loss_prior=0.501, test/num_steps=69, test/recon_cossim=0, test/recon_mse=0, test/test_bwd_pct_correct=0.73, test/test_fwd_pct_correct=0.893, train/blurry_pixcorr=0, train/bwd_pct_correct=0.995, train/fwd_pct_correct=0.995, train/loss=8.48, train/loss_blurry_cont_total=0, train/loss_blurry_total=0, train/loss_clip_total=0.00996, train/loss_prior=0.282, train/lr=0.000172, train/num_steps=6417, train/recon_cossim=0.798, train/recon_mse=0.282]"
     ]
    },
    {
     "name": "stdout",
     "output_type": "stream",
     "text": [
      "\n",
      "---saved /root/autodl-tmp/fMRI/train_logs/multisubject_subj2_session1_1916/last ckpt!---\n",
      "\n"
     ]
    },
    {
     "name": "stderr",
     "output_type": "stream",
     "text": [
      " 46%|████████████████████████████████████████████████████████████████████████████████████████████████████████████████████████████████████████████████████████████████████████████████████████████████████████████████████████████████████████████████████████████████████████████████████████████████████████▏                                                                                                                                                                                                                                                                                                                                                           | 69/150 [1:07:19<1:13:38, 54.55s/it, test/blurry_pixcorr=0, test/loss=14.9, test/loss_clip_total=0.8, test/loss_prior=0.471, test/num_steps=70, test/recon_cossim=0, test/recon_mse=0, test/test_bwd_pct_correct=0.743, test/test_fwd_pct_correct=0.92, train/blurry_pixcorr=0, train/bwd_pct_correct=0.995, train/fwd_pct_correct=0.993, train/loss=8.44, train/loss_blurry_cont_total=0, train/loss_blurry_total=0, train/loss_clip_total=0.00831, train/loss_prior=0.281, train/lr=0.000169, train/num_steps=6510, train/recon_cossim=0.799, train/recon_mse=0.281]"
     ]
    },
    {
     "name": "stdout",
     "output_type": "stream",
     "text": [
      "---\n"
     ]
    },
    {
     "name": "stderr",
     "output_type": "stream",
     "text": [
      " 47%|████████████████████████████████████████████████████████████████████████████████████████████████████████████████████████████████████████████████████████████████████████████████████████████████████████████████████████████████████████████████████████████████████████████████████████████████████████████▌                                                                                                                                                                                                                                                                                                                                                       | 70/150 [1:07:34<1:12:50, 54.64s/it, test/blurry_pixcorr=0, test/loss=14.9, test/loss_clip_total=0.8, test/loss_prior=0.471, test/num_steps=70, test/recon_cossim=0, test/recon_mse=0, test/test_bwd_pct_correct=0.743, test/test_fwd_pct_correct=0.92, train/blurry_pixcorr=0, train/bwd_pct_correct=0.995, train/fwd_pct_correct=0.993, train/loss=8.44, train/loss_blurry_cont_total=0, train/loss_blurry_total=0, train/loss_clip_total=0.00831, train/loss_prior=0.281, train/lr=0.000169, train/num_steps=6510, train/recon_cossim=0.799, train/recon_mse=0.281]"
     ]
    },
    {
     "name": "stdout",
     "output_type": "stream",
     "text": [
      "\n",
      "---saved /root/autodl-tmp/fMRI/train_logs/multisubject_subj2_session1_1916/last ckpt!---\n",
      "\n"
     ]
    },
    {
     "name": "stderr",
     "output_type": "stream",
     "text": [
      " 47%|█████████████████████████████████████████████████████████████████████████████████████████████████████████████████████████████████████████████████████████████████████████████████████████████████████████████████████████████████████████████████████████████████████████████████████████████████████████████                                                                                                                                                                                                                                                                                                                                                        | 70/150 [1:08:14<1:12:50, 54.64s/it, test/blurry_pixcorr=0, test/loss=15.7, test/loss_clip_total=0.816, test/loss_prior=0.498, test/num_steps=71, test/recon_cossim=0, test/recon_mse=0, test/test_bwd_pct_correct=0.71, test/test_fwd_pct_correct=0.897, train/blurry_pixcorr=0, train/bwd_pct_correct=0.993, train/fwd_pct_correct=0.993, train/loss=8.02, train/loss_blurry_cont_total=0, train/loss_blurry_total=0, train/loss_clip_total=0.01, train/loss_prior=0.267, train/lr=0.000166, train/num_steps=6603, train/recon_cossim=0.808, train/recon_mse=0.267]"
     ]
    },
    {
     "name": "stdout",
     "output_type": "stream",
     "text": [
      "---\n"
     ]
    },
    {
     "name": "stderr",
     "output_type": "stream",
     "text": [
      " 47%|█████████████████████████████████████████████████████████████████████████████████████████████████████████████████████████████████████████████████████████████████████████████████████████████████████████████████████████████████████████████████████████████████████████████████████████████████████████████████▎                                                                                                                                                                                                                                                                                                                                                   | 71/150 [1:08:29<1:11:52, 54.59s/it, test/blurry_pixcorr=0, test/loss=15.7, test/loss_clip_total=0.816, test/loss_prior=0.498, test/num_steps=71, test/recon_cossim=0, test/recon_mse=0, test/test_bwd_pct_correct=0.71, test/test_fwd_pct_correct=0.897, train/blurry_pixcorr=0, train/bwd_pct_correct=0.993, train/fwd_pct_correct=0.993, train/loss=8.02, train/loss_blurry_cont_total=0, train/loss_blurry_total=0, train/loss_clip_total=0.01, train/loss_prior=0.267, train/lr=0.000166, train/num_steps=6603, train/recon_cossim=0.808, train/recon_mse=0.267]"
     ]
    },
    {
     "name": "stdout",
     "output_type": "stream",
     "text": [
      "\n",
      "---saved /root/autodl-tmp/fMRI/train_logs/multisubject_subj2_session1_1916/last ckpt!---\n",
      "\n"
     ]
    },
    {
     "name": "stderr",
     "output_type": "stream",
     "text": [
      " 47%|████████████████████████████████████████████████████████████████████████████████████████████████████████████████████████████████████████████████████████████████████████████████████████████████████████████████████████████████████████████████████████████████████████████████████████████████████████████████▎                                                                                                                                                                                                                                                                                                                                                  | 71/150 [1:09:08<1:11:52, 54.59s/it, test/blurry_pixcorr=0, test/loss=11.9, test/loss_clip_total=0.842, test/loss_prior=0.37, test/num_steps=72, test/recon_cossim=0, test/recon_mse=0, test/test_bwd_pct_correct=0.707, test/test_fwd_pct_correct=0.897, train/blurry_pixcorr=0, train/bwd_pct_correct=0.996, train/fwd_pct_correct=0.996, train/loss=7.6, train/loss_blurry_cont_total=0, train/loss_blurry_total=0, train/loss_clip_total=0.00603, train/loss_prior=0.253, train/lr=0.000163, train/num_steps=6696, train/recon_cossim=0.818, train/recon_mse=0.253]"
     ]
    },
    {
     "name": "stdout",
     "output_type": "stream",
     "text": [
      "---\n",
      "\n",
      "---saved /root/autodl-tmp/fMRI/train_logs/multisubject_subj2_session1_1916/last ckpt!---\n",
      "\n"
     ]
    },
    {
     "name": "stderr",
     "output_type": "stream",
     "text": [
      " 48%|████████████████████████████████████████████████████████████████████████████████████████████████████████████████████████████████████████████████████████████████████████████████████████████████████████████████████████████████████████████████████████████████████████████████████████████████████████████████████▏                                                                                                                                                                                                                                                                                                                                             | 72/150 [1:10:03<1:10:57, 54.59s/it, test/blurry_pixcorr=0, test/loss=15.3, test/loss_clip_total=0.823, test/loss_prior=0.482, test/num_steps=73, test/recon_cossim=0, test/recon_mse=0, test/test_bwd_pct_correct=0.717, test/test_fwd_pct_correct=0.897, train/blurry_pixcorr=0, train/bwd_pct_correct=0.997, train/fwd_pct_correct=0.997, train/loss=8.01, train/loss_blurry_cont_total=0, train/loss_blurry_total=0, train/loss_clip_total=0.00394, train/loss_prior=0.267, train/lr=0.00016, train/num_steps=6789, train/recon_cossim=0.809, train/recon_mse=0.267]"
     ]
    },
    {
     "name": "stdout",
     "output_type": "stream",
     "text": [
      "---\n"
     ]
    },
    {
     "name": "stderr",
     "output_type": "stream",
     "text": [
      " 49%|████████████████████████████████████████████████████████████████████████████████████████████████████████████████████████████████████████████████████████████████████████████████████████████████████████████████████████████████████████████████████████████████████████████████████████████████████████████████████████▍                                                                                                                                                                                                                                                                                                                                         | 73/150 [1:10:18<1:10:15, 54.75s/it, test/blurry_pixcorr=0, test/loss=15.3, test/loss_clip_total=0.823, test/loss_prior=0.482, test/num_steps=73, test/recon_cossim=0, test/recon_mse=0, test/test_bwd_pct_correct=0.717, test/test_fwd_pct_correct=0.897, train/blurry_pixcorr=0, train/bwd_pct_correct=0.997, train/fwd_pct_correct=0.997, train/loss=8.01, train/loss_blurry_cont_total=0, train/loss_blurry_total=0, train/loss_clip_total=0.00394, train/loss_prior=0.267, train/lr=0.00016, train/num_steps=6789, train/recon_cossim=0.809, train/recon_mse=0.267]"
     ]
    },
    {
     "name": "stdout",
     "output_type": "stream",
     "text": [
      "\n",
      "---saved /root/autodl-tmp/fMRI/train_logs/multisubject_subj2_session1_1916/last ckpt!---\n",
      "\n"
     ]
    },
    {
     "name": "stderr",
     "output_type": "stream",
     "text": [
      " 49%|████████████████████████████████████████████████████████████████████████████████████████████████████████████████████████████████████████████████████████████████████████████████████████████████████████████████████████████████████████████████████████████████████████████████████████████████████████████████████████▍                                                                                                                                                                                                                                                                                                                                         | 73/150 [1:10:58<1:10:15, 54.75s/it, test/blurry_pixcorr=0, test/loss=16.6, test/loss_clip_total=0.817, test/loss_prior=0.526, test/num_steps=74, test/recon_cossim=0, test/recon_mse=0, test/test_bwd_pct_correct=0.703, test/test_fwd_pct_correct=0.887, train/blurry_pixcorr=0, train/bwd_pct_correct=0.993, train/fwd_pct_correct=0.993, train/loss=8.24, train/loss_blurry_cont_total=0, train/loss_blurry_total=0, train/loss_clip_total=0.0101, train/loss_prior=0.274, train/lr=0.000157, train/num_steps=6882, train/recon_cossim=0.804, train/recon_mse=0.274]"
     ]
    },
    {
     "name": "stdout",
     "output_type": "stream",
     "text": [
      "---\n",
      "\n",
      "---saved /root/autodl-tmp/fMRI/train_logs/multisubject_subj2_session1_1916/last ckpt!---\n",
      "\n"
     ]
    },
    {
     "name": "stderr",
     "output_type": "stream",
     "text": [
      " 49%|█████████████████████████████████████████████████████████████████████████████████████████████████████████████████████████████████████████████████████████████████████████████████████████████████████████████████████████████████████████████████████████████████████████████████████████████████████████████████████████████▋                                                                                                                                                                                                                                                                                                                                      | 74/150 [1:11:53<1:09:20, 54.74s/it, test/blurry_pixcorr=0, test/loss=15.7, test/loss_clip_total=0.787, test/loss_prior=0.498, test/num_steps=75, test/recon_cossim=0, test/recon_mse=0, test/test_bwd_pct_correct=0.717, test/test_fwd_pct_correct=0.883, train/blurry_pixcorr=0, train/bwd_pct_correct=0.995, train/fwd_pct_correct=0.995, train/loss=8, train/loss_blurry_cont_total=0, train/loss_blurry_total=0, train/loss_clip_total=0.00802, train/loss_prior=0.267, train/lr=0.000153, train/num_steps=6975, train/recon_cossim=0.809, train/recon_mse=0.267]"
     ]
    },
    {
     "name": "stdout",
     "output_type": "stream",
     "text": [
      "---\n"
     ]
    },
    {
     "name": "stderr",
     "output_type": "stream",
     "text": [
      " 50%|██████████████████████████████████████████████████████████████████████████████████████████████████████████████████████████████████████████████████████████████████████████████████████████████████████████████████████████████████████████████████████████████████████████████████████████████████████████████████████████████████                                                                                                                                                                                                                                                                                                                                  | 75/150 [1:12:08<1:08:23, 54.71s/it, test/blurry_pixcorr=0, test/loss=15.7, test/loss_clip_total=0.787, test/loss_prior=0.498, test/num_steps=75, test/recon_cossim=0, test/recon_mse=0, test/test_bwd_pct_correct=0.717, test/test_fwd_pct_correct=0.883, train/blurry_pixcorr=0, train/bwd_pct_correct=0.995, train/fwd_pct_correct=0.995, train/loss=8, train/loss_blurry_cont_total=0, train/loss_blurry_total=0, train/loss_clip_total=0.00802, train/loss_prior=0.267, train/lr=0.000153, train/num_steps=6975, train/recon_cossim=0.809, train/recon_mse=0.267]"
     ]
    },
    {
     "name": "stdout",
     "output_type": "stream",
     "text": [
      "\n",
      "---saved /root/autodl-tmp/fMRI/train_logs/multisubject_subj2_session1_1916/last ckpt!---\n",
      "\n"
     ]
    },
    {
     "name": "stderr",
     "output_type": "stream",
     "text": [
      " 50%|██████████████████████████████████████████████████████████████████████████████████████████████████████████████████████████████████████████████████████████████████████████████████████████████████████████████████████████████████████████████████████████████████████████████████████████████████████████████████████████████████                                                                                                                                                                                                                                                                                                                                  | 75/150 [1:12:47<1:08:23, 54.71s/it, test/blurry_pixcorr=0, test/loss=19.6, test/loss_clip_total=0.795, test/loss_prior=0.626, test/num_steps=76, test/recon_cossim=0, test/recon_mse=0, test/test_bwd_pct_correct=0.733, test/test_fwd_pct_correct=0.9, train/blurry_pixcorr=0, train/bwd_pct_correct=0.995, train/fwd_pct_correct=0.995, train/loss=8.36, train/loss_blurry_cont_total=0, train/loss_blurry_total=0, train/loss_clip_total=0.00771, train/loss_prior=0.278, train/lr=0.00015, train/num_steps=7068, train/recon_cossim=0.802, train/recon_mse=0.278]"
     ]
    },
    {
     "name": "stdout",
     "output_type": "stream",
     "text": [
      "---\n"
     ]
    },
    {
     "name": "stderr",
     "output_type": "stream",
     "text": [
      " 51%|██████████████████████████████████████████████████████████████████████████████████████████████████████████████████████████████████████████████████████████████████████████████████████████████████████████████████████████████████████████████████████████████████████████████████████████████████████████████████████████████████████▎                                                                                                                                                                                                                                                                                                                             | 76/150 [1:13:03<1:07:40, 54.87s/it, test/blurry_pixcorr=0, test/loss=19.6, test/loss_clip_total=0.795, test/loss_prior=0.626, test/num_steps=76, test/recon_cossim=0, test/recon_mse=0, test/test_bwd_pct_correct=0.733, test/test_fwd_pct_correct=0.9, train/blurry_pixcorr=0, train/bwd_pct_correct=0.995, train/fwd_pct_correct=0.995, train/loss=8.36, train/loss_blurry_cont_total=0, train/loss_blurry_total=0, train/loss_clip_total=0.00771, train/loss_prior=0.278, train/lr=0.00015, train/num_steps=7068, train/recon_cossim=0.802, train/recon_mse=0.278]"
     ]
    },
    {
     "name": "stdout",
     "output_type": "stream",
     "text": [
      "\n",
      "---saved /root/autodl-tmp/fMRI/train_logs/multisubject_subj2_session1_1916/last ckpt!---\n",
      "\n"
     ]
    },
    {
     "name": "stderr",
     "output_type": "stream",
     "text": [
      " 51%|██████████████████████████████████████████████████████████████████████████████████████████████████████████████████████████████████████████████████████████████████████████████████████████████████████████████████████████████████████████████████████████████████████████████████████████████████████████████████████████████████████▎                                                                                                                                                                                                                                                                                                                             | 76/150 [1:13:42<1:07:40, 54.87s/it, test/blurry_pixcorr=0, test/loss=13.1, test/loss_clip_total=0.783, test/loss_prior=0.41, test/num_steps=77, test/recon_cossim=0, test/recon_mse=0, test/test_bwd_pct_correct=0.743, test/test_fwd_pct_correct=0.9, train/blurry_pixcorr=0, train/bwd_pct_correct=0.995, train/fwd_pct_correct=0.995, train/loss=7.95, train/loss_blurry_cont_total=0, train/loss_blurry_total=0, train/loss_clip_total=0.00851, train/loss_prior=0.265, train/lr=0.000147, train/num_steps=7161, train/recon_cossim=0.811, train/recon_mse=0.265]"
     ]
    },
    {
     "name": "stdout",
     "output_type": "stream",
     "text": [
      "---\n"
     ]
    },
    {
     "name": "stderr",
     "output_type": "stream",
     "text": [
      " 51%|██████████████████████████████████████████████████████████████████████████████████████████████████████████████████████████████████████████████████████████████████████████████████████████████████████████████████████████████████████████████████████████████████████████████████████████████████████████████████████████████████████████▌                                                                                                                                                                                                                                                                                                                         | 77/150 [1:13:57<1:06:36, 54.74s/it, test/blurry_pixcorr=0, test/loss=13.1, test/loss_clip_total=0.783, test/loss_prior=0.41, test/num_steps=77, test/recon_cossim=0, test/recon_mse=0, test/test_bwd_pct_correct=0.743, test/test_fwd_pct_correct=0.9, train/blurry_pixcorr=0, train/bwd_pct_correct=0.995, train/fwd_pct_correct=0.995, train/loss=7.95, train/loss_blurry_cont_total=0, train/loss_blurry_total=0, train/loss_clip_total=0.00851, train/loss_prior=0.265, train/lr=0.000147, train/num_steps=7161, train/recon_cossim=0.811, train/recon_mse=0.265]"
     ]
    },
    {
     "name": "stdout",
     "output_type": "stream",
     "text": [
      "\n",
      "---saved /root/autodl-tmp/fMRI/train_logs/multisubject_subj2_session1_1916/last ckpt!---\n",
      "\n"
     ]
    },
    {
     "name": "stderr",
     "output_type": "stream",
     "text": [
      " 51%|█████████████████████████████████████████████████████████████████████████████████████████████████████████████████████████████████████████████████████████████████████████████████████████████████████████████████████████████████████████████████████████████████████████████████████████████████████████████████████████████████████████                                                                                                                                                                                                                                                                                                                        | 77/150 [1:14:37<1:06:36, 54.74s/it, test/blurry_pixcorr=0, test/loss=15.7, test/loss_clip_total=0.749, test/loss_prior=0.498, test/num_steps=78, test/recon_cossim=0, test/recon_mse=0, test/test_bwd_pct_correct=0.747, test/test_fwd_pct_correct=0.903, train/blurry_pixcorr=0, train/bwd_pct_correct=0.996, train/fwd_pct_correct=0.996, train/loss=7.41, train/loss_blurry_cont_total=0, train/loss_blurry_total=0, train/loss_clip_total=0.00614, train/loss_prior=0.247, train/lr=0.000144, train/num_steps=7254, train/recon_cossim=0.824, train/recon_mse=0.247]"
     ]
    },
    {
     "name": "stdout",
     "output_type": "stream",
     "text": [
      "---\n",
      "\n",
      "---saved /root/autodl-tmp/fMRI/train_logs/multisubject_subj2_session1_1916/last ckpt!---\n",
      "\n"
     ]
    },
    {
     "name": "stderr",
     "output_type": "stream",
     "text": [
      " 52%|████████████████████████████████████████████████████████████████████████████████████████████████████████████████████████████████████████████████████████████████████████████████████████████████████████████████████████████████████████████████████████████████████████████████████████████████████████████████████████████████████████████████▍                                                                                                                                                                                                                                                                                                                      | 78/150 [1:15:32<1:05:52, 54.90s/it, test/blurry_pixcorr=0, test/loss=16.6, test/loss_clip_total=0.767, test/loss_prior=0.527, test/num_steps=79, test/recon_cossim=0, test/recon_mse=0, test/test_bwd_pct_correct=0.74, test/test_fwd_pct_correct=0.9, train/blurry_pixcorr=0, train/bwd_pct_correct=0.995, train/fwd_pct_correct=0.995, train/loss=7.8, train/loss_blurry_cont_total=0, train/loss_blurry_total=0, train/loss_clip_total=0.00752, train/loss_prior=0.26, train/lr=0.000141, train/num_steps=7347, train/recon_cossim=0.814, train/recon_mse=0.26]"
     ]
    },
    {
     "name": "stdout",
     "output_type": "stream",
     "text": [
      "---\n",
      "\n",
      "---saved /root/autodl-tmp/fMRI/train_logs/multisubject_subj2_session1_1916/last ckpt!---\n",
      "\n"
     ]
    },
    {
     "name": "stderr",
     "output_type": "stream",
     "text": [
      " 53%|█████████████████████████████████████████████████████████████████████████████████████████████████████████████████████████████████████████████████████████████████████████████████████████████████████████████████████████████████████████████████████████████████████████████████████████████████████████████████████████████████████████████████▌                                                                                                                                                                                                                                                                                                               | 79/150 [1:16:25<1:04:13, 54.28s/it, test/blurry_pixcorr=0, test/loss=15.1, test/loss_clip_total=0.745, test/loss_prior=0.479, test/num_steps=80, test/recon_cossim=0, test/recon_mse=0, test/test_bwd_pct_correct=0.733, test/test_fwd_pct_correct=0.923, train/blurry_pixcorr=0, train/bwd_pct_correct=0.995, train/fwd_pct_correct=0.996, train/loss=7.32, train/loss_blurry_cont_total=0, train/loss_blurry_total=0, train/loss_clip_total=0.00744, train/loss_prior=0.244, train/lr=0.000138, train/num_steps=7440, train/recon_cossim=0.824, train/recon_mse=0.244]"
     ]
    },
    {
     "name": "stdout",
     "output_type": "stream",
     "text": [
      "---\n"
     ]
    },
    {
     "name": "stderr",
     "output_type": "stream",
     "text": [
      " 53%|█████████████████████████████████████████████████████████████████████████████████████████████████████████████████████████████████████████████████████████████████████████████████████████████████████████████████████████████████████████████████████████████████████████████████████████████████████████████████████████████████████████████████████▊                                                                                                                                                                                                                                                                                                           | 80/150 [1:16:41<1:03:38, 54.55s/it, test/blurry_pixcorr=0, test/loss=15.1, test/loss_clip_total=0.745, test/loss_prior=0.479, test/num_steps=80, test/recon_cossim=0, test/recon_mse=0, test/test_bwd_pct_correct=0.733, test/test_fwd_pct_correct=0.923, train/blurry_pixcorr=0, train/bwd_pct_correct=0.995, train/fwd_pct_correct=0.996, train/loss=7.32, train/loss_blurry_cont_total=0, train/loss_blurry_total=0, train/loss_clip_total=0.00744, train/loss_prior=0.244, train/lr=0.000138, train/num_steps=7440, train/recon_cossim=0.824, train/recon_mse=0.244]"
     ]
    },
    {
     "name": "stdout",
     "output_type": "stream",
     "text": [
      "\n",
      "---saved /root/autodl-tmp/fMRI/train_logs/multisubject_subj2_session1_1916/last ckpt!---\n",
      "\n"
     ]
    },
    {
     "name": "stderr",
     "output_type": "stream",
     "text": [
      " 53%|█████████████████████████████████████████████████████████████████████████████████████████████████████████████████████████████████████████████████████████████████████████████████████████████████████████████████████████████████████████████████████████████████████████████████████████████████████████████████████████████████████████████████████████                                                                                                                                                                                                                                                                                                              | 80/150 [1:17:20<1:03:38, 54.55s/it, test/blurry_pixcorr=0, test/loss=12, test/loss_clip_total=0.759, test/loss_prior=0.374, test/num_steps=81, test/recon_cossim=0, test/recon_mse=0, test/test_bwd_pct_correct=0.77, test/test_fwd_pct_correct=0.903, train/blurry_pixcorr=0, train/bwd_pct_correct=0.989, train/fwd_pct_correct=0.989, train/loss=7.22, train/loss_blurry_cont_total=0, train/loss_blurry_total=0, train/loss_clip_total=0.0151, train/loss_prior=0.24, train/lr=0.000134, train/num_steps=7533, train/recon_cossim=0.827, train/recon_mse=0.24]"
     ]
    },
    {
     "name": "stdout",
     "output_type": "stream",
     "text": [
      "---\n"
     ]
    },
    {
     "name": "stderr",
     "output_type": "stream",
     "text": [
      " 54%|█████████████████████████████████████████████████████████████████████████████████████████████████████████████████████████████████████████████████████████████████████████████████████████████████████████████████████████████████████████████████████████████████████████████████████████████████████████████████████████████████████████████████████████████▍                                                                                                                                                                                                                                                                                                         | 81/150 [1:17:35<1:02:36, 54.45s/it, test/blurry_pixcorr=0, test/loss=12, test/loss_clip_total=0.759, test/loss_prior=0.374, test/num_steps=81, test/recon_cossim=0, test/recon_mse=0, test/test_bwd_pct_correct=0.77, test/test_fwd_pct_correct=0.903, train/blurry_pixcorr=0, train/bwd_pct_correct=0.989, train/fwd_pct_correct=0.989, train/loss=7.22, train/loss_blurry_cont_total=0, train/loss_blurry_total=0, train/loss_clip_total=0.0151, train/loss_prior=0.24, train/lr=0.000134, train/num_steps=7533, train/recon_cossim=0.827, train/recon_mse=0.24]"
     ]
    },
    {
     "name": "stdout",
     "output_type": "stream",
     "text": [
      "\n",
      "---saved /root/autodl-tmp/fMRI/train_logs/multisubject_subj2_session1_1916/last ckpt!---\n",
      "\n"
     ]
    },
    {
     "name": "stderr",
     "output_type": "stream",
     "text": [
      " 54%|██████████████████████████████████████████████████████████████████████████████████████████████████████████████████████████████████████████████████████████████████████████████████████████████████████████████████████████████████████████████████████████████████████████████████████████████████████████████████████████████████████████████████████████▋                                                                                                                                                                                                                                                                                                       | 81/150 [1:18:15<1:02:36, 54.45s/it, test/blurry_pixcorr=0, test/loss=12.1, test/loss_clip_total=0.787, test/loss_prior=0.379, test/num_steps=82, test/recon_cossim=0, test/recon_mse=0, test/test_bwd_pct_correct=0.727, test/test_fwd_pct_correct=0.903, train/blurry_pixcorr=0, train/bwd_pct_correct=0.995, train/fwd_pct_correct=0.995, train/loss=7.02, train/loss_blurry_cont_total=0, train/loss_blurry_total=0, train/loss_clip_total=0.0077, train/loss_prior=0.234, train/lr=0.000131, train/num_steps=7626, train/recon_cossim=0.833, train/recon_mse=0.234]"
     ]
    },
    {
     "name": "stdout",
     "output_type": "stream",
     "text": [
      "---\n"
     ]
    },
    {
     "name": "stderr",
     "output_type": "stream",
     "text": [
      " 55%|██████████████████████████████████████████████████████████████████████████████████████████████████████████████████████████████████████████████████████████████████████████████████████████████████████████████████████████████████████████████████████████████████████████████████████████████████████████████████████████████████████████████████████████████▉                                                                                                                                                                                                                                                                                                   | 82/150 [1:18:30<1:01:45, 54.50s/it, test/blurry_pixcorr=0, test/loss=12.1, test/loss_clip_total=0.787, test/loss_prior=0.379, test/num_steps=82, test/recon_cossim=0, test/recon_mse=0, test/test_bwd_pct_correct=0.727, test/test_fwd_pct_correct=0.903, train/blurry_pixcorr=0, train/bwd_pct_correct=0.995, train/fwd_pct_correct=0.995, train/loss=7.02, train/loss_blurry_cont_total=0, train/loss_blurry_total=0, train/loss_clip_total=0.0077, train/loss_prior=0.234, train/lr=0.000131, train/num_steps=7626, train/recon_cossim=0.833, train/recon_mse=0.234]"
     ]
    },
    {
     "name": "stdout",
     "output_type": "stream",
     "text": [
      "\n",
      "---saved /root/autodl-tmp/fMRI/train_logs/multisubject_subj2_session1_1916/last ckpt!---\n",
      "\n"
     ]
    },
    {
     "name": "stderr",
     "output_type": "stream",
     "text": [
      " 55%|██████████████████████████████████████████████████████████████████████████████████████████████████████████████████████████████████████████████████████████████████████████████████████████████████████████████████████████████████████████████████████████████████████████████████████████████████████████████████████████████████████████████████████████████▍                                                                                                                                                                                                                                                                                                  | 82/150 [1:19:09<1:01:45, 54.50s/it, test/blurry_pixcorr=0, test/loss=12.5, test/loss_clip_total=0.763, test/loss_prior=0.391, test/num_steps=83, test/recon_cossim=0, test/recon_mse=0, test/test_bwd_pct_correct=0.753, test/test_fwd_pct_correct=0.903, train/blurry_pixcorr=0, train/bwd_pct_correct=0.995, train/fwd_pct_correct=0.995, train/loss=7.58, train/loss_blurry_cont_total=0, train/loss_blurry_total=0, train/loss_clip_total=0.00787, train/loss_prior=0.252, train/lr=0.000128, train/num_steps=7719, train/recon_cossim=0.819, train/recon_mse=0.252]"
     ]
    },
    {
     "name": "stdout",
     "output_type": "stream",
     "text": [
      "---\n",
      "\n",
      "---saved /root/autodl-tmp/fMRI/train_logs/multisubject_subj2_session1_1916/last ckpt!---\n",
      "\n"
     ]
    },
    {
     "name": "stderr",
     "output_type": "stream",
     "text": [
      " 55%|██████████████████████████████████████████████████████████████████████████████████████████████████████████████████████████████████████████████████████████████████████████████████████████████████████████████████████████████████████████████████████████████████████████████████████████████████████████████████████████████████████████████████████████████████▋                                                                                                                                                                                                                                                                                              | 83/150 [1:20:04<1:00:54, 54.55s/it, test/blurry_pixcorr=0, test/loss=14.8, test/loss_clip_total=0.758, test/loss_prior=0.467, test/num_steps=84, test/recon_cossim=0, test/recon_mse=0, test/test_bwd_pct_correct=0.733, test/test_fwd_pct_correct=0.913, train/blurry_pixcorr=0, train/bwd_pct_correct=0.993, train/fwd_pct_correct=0.993, train/loss=7.59, train/loss_blurry_cont_total=0, train/loss_blurry_total=0, train/loss_clip_total=0.00951, train/loss_prior=0.253, train/lr=0.000125, train/num_steps=7812, train/recon_cossim=0.817, train/recon_mse=0.253]"
     ]
    },
    {
     "name": "stdout",
     "output_type": "stream",
     "text": [
      "---\n"
     ]
    },
    {
     "name": "stderr",
     "output_type": "stream",
     "text": [
      " 56%|██████████████████████████████████████████████████████████████████████████████████████████████████████████████████████████████████████████████████████████████████████████████████████████████████████████████████████████████████████████████████████████████████████████████████████████████████████████████████████████████████████████████████████████████████████▉                                                                                                                                                                                                                                                                                          | 84/150 [1:20:19<1:00:03, 54.60s/it, test/blurry_pixcorr=0, test/loss=14.8, test/loss_clip_total=0.758, test/loss_prior=0.467, test/num_steps=84, test/recon_cossim=0, test/recon_mse=0, test/test_bwd_pct_correct=0.733, test/test_fwd_pct_correct=0.913, train/blurry_pixcorr=0, train/bwd_pct_correct=0.993, train/fwd_pct_correct=0.993, train/loss=7.59, train/loss_blurry_cont_total=0, train/loss_blurry_total=0, train/loss_clip_total=0.00951, train/loss_prior=0.253, train/lr=0.000125, train/num_steps=7812, train/recon_cossim=0.817, train/recon_mse=0.253]"
     ]
    },
    {
     "name": "stdout",
     "output_type": "stream",
     "text": [
      "\n",
      "---saved /root/autodl-tmp/fMRI/train_logs/multisubject_subj2_session1_1916/last ckpt!---\n",
      "\n"
     ]
    },
    {
     "name": "stderr",
     "output_type": "stream",
     "text": [
      " 56%|████████████████████████████████████████████████████████████████████████████████████████████████████████████████████████████████████████████████████████████████████████████████████████████████████████████████████████████████████████████████████████████████████████████████████████████████████████████████████████████████████████████████████████████████████████                                                                                                                                                                                                                                                                                           | 84/150 [1:20:59<1:00:03, 54.60s/it, test/blurry_pixcorr=0, test/loss=13.1, test/loss_clip_total=0.728, test/loss_prior=0.413, test/num_steps=85, test/recon_cossim=0, test/recon_mse=0, test/test_bwd_pct_correct=0.763, test/test_fwd_pct_correct=0.9, train/blurry_pixcorr=0, train/bwd_pct_correct=0.999, train/fwd_pct_correct=0.999, train/loss=6.97, train/loss_blurry_cont_total=0, train/loss_blurry_total=0, train/loss_clip_total=0.00213, train/loss_prior=0.232, train/lr=0.000122, train/num_steps=7905, train/recon_cossim=0.834, train/recon_mse=0.232]"
     ]
    },
    {
     "name": "stdout",
     "output_type": "stream",
     "text": [
      "---\n"
     ]
    },
    {
     "name": "stderr",
     "output_type": "stream",
     "text": [
      " 57%|█████████████████████████████████████████████████████████████████████████████████████████████████████████████████████████████████████████████████████████████████████████████████████████████████████████████████████████████████████████████████████████████████████████████████████████████████████████████████████████████████████████████████████████████████████████████▌                                                                                                                                                                                                                                                                                       | 85/150 [1:21:14<59:10, 54.62s/it, test/blurry_pixcorr=0, test/loss=13.1, test/loss_clip_total=0.728, test/loss_prior=0.413, test/num_steps=85, test/recon_cossim=0, test/recon_mse=0, test/test_bwd_pct_correct=0.763, test/test_fwd_pct_correct=0.9, train/blurry_pixcorr=0, train/bwd_pct_correct=0.999, train/fwd_pct_correct=0.999, train/loss=6.97, train/loss_blurry_cont_total=0, train/loss_blurry_total=0, train/loss_clip_total=0.00213, train/loss_prior=0.232, train/lr=0.000122, train/num_steps=7905, train/recon_cossim=0.834, train/recon_mse=0.232]"
     ]
    },
    {
     "name": "stdout",
     "output_type": "stream",
     "text": [
      "\n",
      "---saved /root/autodl-tmp/fMRI/train_logs/multisubject_subj2_session1_1916/last ckpt!---\n",
      "\n"
     ]
    },
    {
     "name": "stderr",
     "output_type": "stream",
     "text": [
      " 57%|██████████████████████████████████████████████████████████████████████████████████████████████████████████████████████████████████████████████████████████████████████████████████████████████████████████████████████████████████████████████████████████████████████████████████████████████████████████████████████████████████████████████████████████████████████████████▋                                                                                                                                                                                                                                                                                        | 85/150 [1:21:53<59:10, 54.62s/it, test/blurry_pixcorr=0, test/loss=17, test/loss_clip_total=0.726, test/loss_prior=0.543, test/num_steps=86, test/recon_cossim=0, test/recon_mse=0, test/test_bwd_pct_correct=0.767, test/test_fwd_pct_correct=0.91, train/blurry_pixcorr=0, train/bwd_pct_correct=0.989, train/fwd_pct_correct=0.989, train/loss=6.63, train/loss_blurry_cont_total=0, train/loss_blurry_total=0, train/loss_clip_total=0.0162, train/loss_prior=0.221, train/lr=0.000119, train/num_steps=7998, train/recon_cossim=0.841, train/recon_mse=0.221]"
     ]
    },
    {
     "name": "stdout",
     "output_type": "stream",
     "text": [
      "---\n",
      "\n",
      "---saved /root/autodl-tmp/fMRI/train_logs/multisubject_subj2_session1_1916/last ckpt!---\n",
      "\n"
     ]
    },
    {
     "name": "stderr",
     "output_type": "stream",
     "text": [
      " 57%|█████████████████████████████████████████████████████████████████████████████████████████████████████████████████████████████████████████████████████████████████████████████████████████████████████████████████████████████████████████████████████████████████████████████████████████████████████████████████████████████████████████████████████████████████████████████████▏                                                                                                                                                                                                                                                                                  | 86/150 [1:22:49<58:20, 54.70s/it, test/blurry_pixcorr=0, test/loss=8.56, test/loss_clip_total=0.741, test/loss_prior=0.261, test/num_steps=87, test/recon_cossim=0, test/recon_mse=0, test/test_bwd_pct_correct=0.76, test/test_fwd_pct_correct=0.897, train/blurry_pixcorr=0, train/bwd_pct_correct=0.993, train/fwd_pct_correct=0.993, train/loss=7.28, train/loss_blurry_cont_total=0, train/loss_blurry_total=0, train/loss_clip_total=0.00989, train/loss_prior=0.242, train/lr=0.000116, train/num_steps=8091, train/recon_cossim=0.827, train/recon_mse=0.242]"
     ]
    },
    {
     "name": "stdout",
     "output_type": "stream",
     "text": [
      "---\n"
     ]
    },
    {
     "name": "stderr",
     "output_type": "stream",
     "text": [
      " 58%|█████████████████████████████████████████████████████████████████████████████████████████████████████████████████████████████████████████████████████████████████████████████████████████████████████████████████████████████████████████████████████████████████████████████████████████████████████████████████████████████████████████████████████████████████████████████████████▌                                                                                                                                                                                                                                                                              | 87/150 [1:23:04<57:48, 55.06s/it, test/blurry_pixcorr=0, test/loss=8.56, test/loss_clip_total=0.741, test/loss_prior=0.261, test/num_steps=87, test/recon_cossim=0, test/recon_mse=0, test/test_bwd_pct_correct=0.76, test/test_fwd_pct_correct=0.897, train/blurry_pixcorr=0, train/bwd_pct_correct=0.993, train/fwd_pct_correct=0.993, train/loss=7.28, train/loss_blurry_cont_total=0, train/loss_blurry_total=0, train/loss_clip_total=0.00989, train/loss_prior=0.242, train/lr=0.000116, train/num_steps=8091, train/recon_cossim=0.827, train/recon_mse=0.242]"
     ]
    },
    {
     "name": "stdout",
     "output_type": "stream",
     "text": [
      "\n",
      "---saved /root/autodl-tmp/fMRI/train_logs/multisubject_subj2_session1_1916/last ckpt!---\n",
      "\n"
     ]
    },
    {
     "name": "stderr",
     "output_type": "stream",
     "text": [
      " 58%|█████████████████████████████████████████████████████████████████████████████████████████████████████████████████████████████████████████████████████████████████████████████████████████████████████████████████████████████████████████████████████████████████████████████████████████████████████████████████████████████████████████████████████████████████████████████████████▌                                                                                                                                                                                                                                                                              | 87/150 [1:23:44<57:48, 55.06s/it, test/blurry_pixcorr=0, test/loss=13.9, test/loss_clip_total=0.757, test/loss_prior=0.438, test/num_steps=88, test/recon_cossim=0, test/recon_mse=0, test/test_bwd_pct_correct=0.75, test/test_fwd_pct_correct=0.893, train/blurry_pixcorr=0, train/bwd_pct_correct=0.995, train/fwd_pct_correct=0.995, train/loss=7.03, train/loss_blurry_cont_total=0, train/loss_blurry_total=0, train/loss_clip_total=0.00774, train/loss_prior=0.234, train/lr=0.000112, train/num_steps=8184, train/recon_cossim=0.832, train/recon_mse=0.234]"
     ]
    },
    {
     "name": "stdout",
     "output_type": "stream",
     "text": [
      "---\n",
      "\n",
      "---saved /root/autodl-tmp/fMRI/train_logs/multisubject_subj2_session1_1916/last ckpt!---\n",
      "\n"
     ]
    },
    {
     "name": "stderr",
     "output_type": "stream",
     "text": [
      " 59%|█████████████████████████████████████████████████████████████████████████████████████████████████████████████████████████████████████████████████████████████████████████████████████████████████████████████████████████████████████████████████████████████████████████████████████████████████████████████████████████████████████████████████████████████████████████████████████████▊                                                                                                                                                                                                                                                                          | 88/150 [1:24:38<56:43, 54.89s/it, test/blurry_pixcorr=0, test/loss=12.2, test/loss_clip_total=0.733, test/loss_prior=0.383, test/num_steps=89, test/recon_cossim=0, test/recon_mse=0, test/test_bwd_pct_correct=0.76, test/test_fwd_pct_correct=0.913, train/blurry_pixcorr=0, train/bwd_pct_correct=0.993, train/fwd_pct_correct=0.993, train/loss=7.17, train/loss_blurry_cont_total=0, train/loss_blurry_total=0, train/loss_clip_total=0.00943, train/loss_prior=0.239, train/lr=0.000109, train/num_steps=8277, train/recon_cossim=0.828, train/recon_mse=0.239]"
     ]
    },
    {
     "name": "stdout",
     "output_type": "stream",
     "text": [
      "---\n"
     ]
    },
    {
     "name": "stderr",
     "output_type": "stream",
     "text": [
      " 59%|██████████████████████████████████████████████████████████████████████████████████████████████████████████████████████████████████████████████████████████████████████████████████████████████████████████████████████████████████████████████████████████████████████████████████████████████████████████████████████████████████████████████████████████████████████████████████████████████                                                                                                                                                                                                                                                                      | 89/150 [1:24:53<55:34, 54.67s/it, test/blurry_pixcorr=0, test/loss=12.2, test/loss_clip_total=0.733, test/loss_prior=0.383, test/num_steps=89, test/recon_cossim=0, test/recon_mse=0, test/test_bwd_pct_correct=0.76, test/test_fwd_pct_correct=0.913, train/blurry_pixcorr=0, train/bwd_pct_correct=0.993, train/fwd_pct_correct=0.993, train/loss=7.17, train/loss_blurry_cont_total=0, train/loss_blurry_total=0, train/loss_clip_total=0.00943, train/loss_prior=0.239, train/lr=0.000109, train/num_steps=8277, train/recon_cossim=0.828, train/recon_mse=0.239]"
     ]
    },
    {
     "name": "stdout",
     "output_type": "stream",
     "text": [
      "\n",
      "---saved /root/autodl-tmp/fMRI/train_logs/multisubject_subj2_session1_1916/last ckpt!---\n",
      "\n"
     ]
    },
    {
     "name": "stderr",
     "output_type": "stream",
     "text": [
      " 59%|███████████████████████████████████████████████████████████████████████████████████████████████████████████████████████████████████████████████████████████████████████████████████████████████████████████████████████████████████████████████████████████████████████████████████████████████████████████████████████████████████████████████████████████████████████████████████████████████▎                                                                                                                                                                                                                                                                      | 89/150 [1:25:33<55:34, 54.67s/it, test/blurry_pixcorr=0, test/loss=13, test/loss_clip_total=0.724, test/loss_prior=0.411, test/num_steps=90, test/recon_cossim=0, test/recon_mse=0, test/test_bwd_pct_correct=0.757, test/test_fwd_pct_correct=0.903, train/blurry_pixcorr=0, train/bwd_pct_correct=0.989, train/fwd_pct_correct=0.989, train/loss=6.84, train/loss_blurry_cont_total=0, train/loss_blurry_total=0, train/loss_clip_total=0.0154, train/loss_prior=0.228, train/lr=0.000106, train/num_steps=8370, train/recon_cossim=0.837, train/recon_mse=0.228]"
     ]
    },
    {
     "name": "stdout",
     "output_type": "stream",
     "text": [
      "---\n"
     ]
    },
    {
     "name": "stderr",
     "output_type": "stream",
     "text": [
      " 60%|███████████████████████████████████████████████████████████████████████████████████████████████████████████████████████████████████████████████████████████████████████████████████████████████████████████████████████████████████████████████████████████████████████████████████████████████████████████████████████████████████████████████████████████████████████████████████████████████████▌                                                                                                                                                                                                                                                                  | 90/150 [1:25:50<55:28, 55.48s/it, test/blurry_pixcorr=0, test/loss=13, test/loss_clip_total=0.724, test/loss_prior=0.411, test/num_steps=90, test/recon_cossim=0, test/recon_mse=0, test/test_bwd_pct_correct=0.757, test/test_fwd_pct_correct=0.903, train/blurry_pixcorr=0, train/bwd_pct_correct=0.989, train/fwd_pct_correct=0.989, train/loss=6.84, train/loss_blurry_cont_total=0, train/loss_blurry_total=0, train/loss_clip_total=0.0154, train/loss_prior=0.228, train/lr=0.000106, train/num_steps=8370, train/recon_cossim=0.837, train/recon_mse=0.228]"
     ]
    },
    {
     "name": "stdout",
     "output_type": "stream",
     "text": [
      "\n",
      "---saved /root/autodl-tmp/fMRI/train_logs/multisubject_subj2_session1_1916/last ckpt!---\n",
      "\n"
     ]
    },
    {
     "name": "stderr",
     "output_type": "stream",
     "text": [
      " 60%|███████████████████████████████████████████████████████████████████████████████████████████████████████████████████████████████████████████████████████████████████████████████████████████████████████████████████████████████████████████████████████████████████████████████████████████████████████████████████████████████████████████████████████████████████████████████████████████████████                                                                                                                                                                                                                                                                  | 90/150 [1:26:30<55:28, 55.48s/it, test/blurry_pixcorr=0, test/loss=10.8, test/loss_clip_total=0.74, test/loss_prior=0.335, test/num_steps=91, test/recon_cossim=0, test/recon_mse=0, test/test_bwd_pct_correct=0.757, test/test_fwd_pct_correct=0.897, train/blurry_pixcorr=0, train/bwd_pct_correct=0.989, train/fwd_pct_correct=0.989, train/loss=6.39, train/loss_blurry_cont_total=0, train/loss_blurry_total=0, train/loss_clip_total=0.0153, train/loss_prior=0.213, train/lr=0.000103, train/num_steps=8463, train/recon_cossim=0.847, train/recon_mse=0.213]"
     ]
    },
    {
     "name": "stdout",
     "output_type": "stream",
     "text": [
      "---\n",
      "\n",
      "---saved /root/autodl-tmp/fMRI/train_logs/multisubject_subj2_session1_1916/last ckpt!---\n",
      "\n"
     ]
    },
    {
     "name": "stderr",
     "output_type": "stream",
     "text": [
      " 61%|███████████████████████████████████████████████████████████████████████████████████████████████████████████████████████████████████████████████████████████████████████████████████████████████████████████████████████████████████████████████████████████████████████████████████████████████████████████████████████████████████████████████████████████████████████████████████████████████████████▎                                                                                                                                                                                                                                                             | 91/150 [1:27:24<54:09, 55.08s/it, test/blurry_pixcorr=0, test/loss=15.4, test/loss_clip_total=0.734, test/loss_prior=0.488, test/num_steps=92, test/recon_cossim=0, test/recon_mse=0, test/test_bwd_pct_correct=0.753, test/test_fwd_pct_correct=0.907, train/blurry_pixcorr=0, train/bwd_pct_correct=0.997, train/fwd_pct_correct=0.997, train/loss=6.39, train/loss_blurry_cont_total=0, train/loss_blurry_total=0, train/loss_clip_total=0.00398, train/loss_prior=0.213, train/lr=0.0001, train/num_steps=8556, train/recon_cossim=0.847, train/recon_mse=0.213]"
     ]
    },
    {
     "name": "stdout",
     "output_type": "stream",
     "text": [
      "---\n",
      "\n",
      "---saved /root/autodl-tmp/fMRI/train_logs/multisubject_subj2_session1_1916/last ckpt!---\n",
      "\n"
     ]
    },
    {
     "name": "stderr",
     "output_type": "stream",
     "text": [
      " 61%|████████████████████████████████████████████████████████████████████████████████████████████████████████████████████████████████████████████████████████████████████████████████████████████████████████████████████████████████████████████████████████████████████████████████████████████████████████████████████████████████████████████████████████████████████████████████████████████████████████████▊                                                                                                                                                                                                                                                          | 92/150 [1:28:18<52:59, 54.83s/it, test/blurry_pixcorr=0, test/loss=12.8, test/loss_clip_total=0.739, test/loss_prior=0.404, test/num_steps=93, test/recon_cossim=0, test/recon_mse=0, test/test_bwd_pct_correct=0.743, test/test_fwd_pct_correct=0.9, train/blurry_pixcorr=0, train/bwd_pct_correct=0.997, train/fwd_pct_correct=0.997, train/loss=6.62, train/loss_blurry_cont_total=0, train/loss_blurry_total=0, train/loss_clip_total=0.00407, train/loss_prior=0.221, train/lr=9.73e-5, train/num_steps=8649, train/recon_cossim=0.84, train/recon_mse=0.221]"
     ]
    },
    {
     "name": "stdout",
     "output_type": "stream",
     "text": [
      "---\n"
     ]
    },
    {
     "name": "stderr",
     "output_type": "stream",
     "text": [
      " 62%|█████████████████████████████████████████████████████████████████████████████████████████████████████████████████████████████████████████████████████████████████████████████████████████████████████████████████████████████████████████████████████████████████████████████████████████████████████████████████████████████████████████████████████████████████████████████████████████████████████████████████▏                                                                                                                                                                                                                                                     | 93/150 [1:28:34<52:08, 54.88s/it, test/blurry_pixcorr=0, test/loss=12.8, test/loss_clip_total=0.739, test/loss_prior=0.404, test/num_steps=93, test/recon_cossim=0, test/recon_mse=0, test/test_bwd_pct_correct=0.743, test/test_fwd_pct_correct=0.9, train/blurry_pixcorr=0, train/bwd_pct_correct=0.997, train/fwd_pct_correct=0.997, train/loss=6.62, train/loss_blurry_cont_total=0, train/loss_blurry_total=0, train/loss_clip_total=0.00407, train/loss_prior=0.221, train/lr=9.73e-5, train/num_steps=8649, train/recon_cossim=0.84, train/recon_mse=0.221]"
     ]
    },
    {
     "name": "stdout",
     "output_type": "stream",
     "text": [
      "\n",
      "---saved /root/autodl-tmp/fMRI/train_logs/multisubject_subj2_session1_1916/last ckpt!---\n",
      "\n"
     ]
    },
    {
     "name": "stderr",
     "output_type": "stream",
     "text": [
      " 62%|███████████████████████████████████████████████████████████████████████████████████████████████████████████████████████████████████████████████████████████████████████████████████████████████████████████████████████████████████████████████████████████████████████████████████████████████████████████████████████████████████████████████████████████████████████████████████████████████████████████████▎                                                                                                                                                                                                                                                    | 93/150 [1:29:13<52:08, 54.88s/it, test/blurry_pixcorr=0, test/loss=13.8, test/loss_clip_total=0.733, test/loss_prior=0.435, test/num_steps=94, test/recon_cossim=0, test/recon_mse=0, test/test_bwd_pct_correct=0.753, test/test_fwd_pct_correct=0.903, train/blurry_pixcorr=0, train/bwd_pct_correct=0.993, train/fwd_pct_correct=0.993, train/loss=6.46, train/loss_blurry_cont_total=0, train/loss_blurry_total=0, train/loss_clip_total=0.00986, train/loss_prior=0.215, train/lr=9.43e-5, train/num_steps=8742, train/recon_cossim=0.844, train/recon_mse=0.215]"
     ]
    },
    {
     "name": "stdout",
     "output_type": "stream",
     "text": [
      "---\n"
     ]
    },
    {
     "name": "stderr",
     "output_type": "stream",
     "text": [
      " 63%|███████████████████████████████████████████████████████████████████████████████████████████████████████████████████████████████████████████████████████████████████████████████████████████████████████████████████████████████████████████████████████████████████████████████████████████████████████████████████████████████████████████████████████████████████████████████████████████████████████████████████▌                                                                                                                                                                                                                                                | 94/150 [1:29:28<51:04, 54.73s/it, test/blurry_pixcorr=0, test/loss=13.8, test/loss_clip_total=0.733, test/loss_prior=0.435, test/num_steps=94, test/recon_cossim=0, test/recon_mse=0, test/test_bwd_pct_correct=0.753, test/test_fwd_pct_correct=0.903, train/blurry_pixcorr=0, train/bwd_pct_correct=0.993, train/fwd_pct_correct=0.993, train/loss=6.46, train/loss_blurry_cont_total=0, train/loss_blurry_total=0, train/loss_clip_total=0.00986, train/loss_prior=0.215, train/lr=9.43e-5, train/num_steps=8742, train/recon_cossim=0.844, train/recon_mse=0.215]"
     ]
    },
    {
     "name": "stdout",
     "output_type": "stream",
     "text": [
      "\n",
      "---saved /root/autodl-tmp/fMRI/train_logs/multisubject_subj2_session1_1916/last ckpt!---\n",
      "\n"
     ]
    },
    {
     "name": "stderr",
     "output_type": "stream",
     "text": [
      " 63%|████████████████████████████████████████████████████████████████████████████████████████████████████████████████████████████████████████████████████████████████████████████████████████████████████████████████████████████████████████████████████████████████████████████████████████████████████████████████████████████████████████████████████████████████████████████████████████████████████████████████████▏                                                                                                                                                                                                                                                | 94/150 [1:30:07<51:04, 54.73s/it, test/blurry_pixcorr=0, test/loss=16.2, test/loss_clip_total=0.713, test/loss_prior=0.518, test/num_steps=95, test/recon_cossim=0, test/recon_mse=0, test/test_bwd_pct_correct=0.753, test/test_fwd_pct_correct=0.903, train/blurry_pixcorr=0, train/bwd_pct_correct=0.995, train/fwd_pct_correct=0.995, train/loss=6.28, train/loss_blurry_cont_total=0, train/loss_blurry_total=0, train/loss_clip_total=0.0081, train/loss_prior=0.209, train/lr=9.14e-5, train/num_steps=8835, train/recon_cossim=0.849, train/recon_mse=0.209]"
     ]
    },
    {
     "name": "stdout",
     "output_type": "stream",
     "text": [
      "---\n"
     ]
    },
    {
     "name": "stderr",
     "output_type": "stream",
     "text": [
      " 63%|████████████████████████████████████████████████████████████████████████████████████████████████████████████████████████████████████████████████████████████████████████████████████████████████████████████████████████████████████████████████████████████████████████████████████████████████████████████████████████████████████████████████████████████████████████████████████████████████████████████████████████▌                                                                                                                                                                                                                                            | 95/150 [1:30:22<49:59, 54.53s/it, test/blurry_pixcorr=0, test/loss=16.2, test/loss_clip_total=0.713, test/loss_prior=0.518, test/num_steps=95, test/recon_cossim=0, test/recon_mse=0, test/test_bwd_pct_correct=0.753, test/test_fwd_pct_correct=0.903, train/blurry_pixcorr=0, train/bwd_pct_correct=0.995, train/fwd_pct_correct=0.995, train/loss=6.28, train/loss_blurry_cont_total=0, train/loss_blurry_total=0, train/loss_clip_total=0.0081, train/loss_prior=0.209, train/lr=9.14e-5, train/num_steps=8835, train/recon_cossim=0.849, train/recon_mse=0.209]"
     ]
    },
    {
     "name": "stdout",
     "output_type": "stream",
     "text": [
      "\n",
      "---saved /root/autodl-tmp/fMRI/train_logs/multisubject_subj2_session1_1916/last ckpt!---\n",
      "\n"
     ]
    },
    {
     "name": "stderr",
     "output_type": "stream",
     "text": [
      " 63%|█████████████████████████████████████████████████████████████████████████████████████████████████████████████████████████████████████████████████████████████████████████████████████████████████████████████████████████████████████████████████████████████████████████████████████████████████████████████████████████████████████████████████████████████████████████████████████████████████████████████████████████▊                                                                                                                                                                                                                                             | 95/150 [1:31:02<49:59, 54.53s/it, test/blurry_pixcorr=0, test/loss=14.8, test/loss_clip_total=0.729, test/loss_prior=0.47, test/num_steps=96, test/recon_cossim=0, test/recon_mse=0, test/test_bwd_pct_correct=0.747, test/test_fwd_pct_correct=0.907, train/blurry_pixcorr=0, train/bwd_pct_correct=0.997, train/fwd_pct_correct=0.997, train/loss=7.06, train/loss_blurry_cont_total=0, train/loss_blurry_total=0, train/loss_clip_total=0.0041, train/loss_prior=0.235, train/lr=8.84e-5, train/num_steps=8928, train/recon_cossim=0.83, train/recon_mse=0.235]"
     ]
    },
    {
     "name": "stdout",
     "output_type": "stream",
     "text": [
      "---\n"
     ]
    },
    {
     "name": "stderr",
     "output_type": "stream",
     "text": [
      " 64%|██████████████████████████████████████████████████████████████████████████████████████████████████████████████████████████████████████████████████████████████████████████████████████████████████████████████████████████████████████████████████████████████████████████████████████████████████████████████████████████████████████████████████████████████████████████████████████████████████████████████████████████████                                                                                                                                                                                                                                         | 96/150 [1:31:16<48:50, 54.27s/it, test/blurry_pixcorr=0, test/loss=14.8, test/loss_clip_total=0.729, test/loss_prior=0.47, test/num_steps=96, test/recon_cossim=0, test/recon_mse=0, test/test_bwd_pct_correct=0.747, test/test_fwd_pct_correct=0.907, train/blurry_pixcorr=0, train/bwd_pct_correct=0.997, train/fwd_pct_correct=0.997, train/loss=7.06, train/loss_blurry_cont_total=0, train/loss_blurry_total=0, train/loss_clip_total=0.0041, train/loss_prior=0.235, train/lr=8.84e-5, train/num_steps=8928, train/recon_cossim=0.83, train/recon_mse=0.235]"
     ]
    },
    {
     "name": "stdout",
     "output_type": "stream",
     "text": [
      "\n",
      "---saved /root/autodl-tmp/fMRI/train_logs/multisubject_subj2_session1_1916/last ckpt!---\n",
      "\n"
     ]
    },
    {
     "name": "stderr",
     "output_type": "stream",
     "text": [
      " 64%|█████████████████████████████████████████████████████████████████████████████████████████████████████████████████████████████████████████████████████████████████████████████████████████████████████████████████████████████████████████████████████████████████████████████████████████████████████████████████████████████████████████████████████████████████████████████████████████████████████████████████████████████▍                                                                                                                                                                                                                                        | 96/150 [1:31:55<48:50, 54.27s/it, test/blurry_pixcorr=0, test/loss=16.3, test/loss_clip_total=0.725, test/loss_prior=0.52, test/num_steps=97, test/recon_cossim=0, test/recon_mse=0, test/test_bwd_pct_correct=0.747, test/test_fwd_pct_correct=0.917, train/blurry_pixcorr=0, train/bwd_pct_correct=0.989, train/fwd_pct_correct=0.989, train/loss=6.59, train/loss_blurry_cont_total=0, train/loss_blurry_total=0, train/loss_clip_total=0.0152, train/loss_prior=0.219, train/lr=8.56e-5, train/num_steps=9021, train/recon_cossim=0.841, train/recon_mse=0.219]"
     ]
    },
    {
     "name": "stdout",
     "output_type": "stream",
     "text": [
      "---\n"
     ]
    },
    {
     "name": "stderr",
     "output_type": "stream",
     "text": [
      " 65%|█████████████████████████████████████████████████████████████████████████████████████████████████████████████████████████████████████████████████████████████████████████████████████████████████████████████████████████████████████████████████████████████████████████████████████████████████████████████████████████████████████████████████████████████████████████████████████████████████████████████████████████████████▋                                                                                                                                                                                                                                    | 97/150 [1:32:10<48:00, 54.35s/it, test/blurry_pixcorr=0, test/loss=16.3, test/loss_clip_total=0.725, test/loss_prior=0.52, test/num_steps=97, test/recon_cossim=0, test/recon_mse=0, test/test_bwd_pct_correct=0.747, test/test_fwd_pct_correct=0.917, train/blurry_pixcorr=0, train/bwd_pct_correct=0.989, train/fwd_pct_correct=0.989, train/loss=6.59, train/loss_blurry_cont_total=0, train/loss_blurry_total=0, train/loss_clip_total=0.0152, train/loss_prior=0.219, train/lr=8.56e-5, train/num_steps=9021, train/recon_cossim=0.841, train/recon_mse=0.219]"
     ]
    },
    {
     "name": "stdout",
     "output_type": "stream",
     "text": [
      "\n",
      "---saved /root/autodl-tmp/fMRI/train_logs/multisubject_subj2_session1_1916/last ckpt!---\n",
      "\n"
     ]
    },
    {
     "name": "stderr",
     "output_type": "stream",
     "text": [
      " 65%|████████████████████████████████████████████████████████████████████████████████████████████████████████████████████████████████████████████████████████████████████████████████████████████████████████████████████████████████████████████████████████████████████████████████████████████████████████████████████████████████████████████████████████████████████████████████████████████████████████████████████████████████▍                                                                                                                                                                                                                                   | 97/150 [1:32:50<48:00, 54.35s/it, test/blurry_pixcorr=0, test/loss=15.5, test/loss_clip_total=0.714, test/loss_prior=0.492, test/num_steps=98, test/recon_cossim=0, test/recon_mse=0, test/test_bwd_pct_correct=0.747, test/test_fwd_pct_correct=0.907, train/blurry_pixcorr=0, train/bwd_pct_correct=0.997, train/fwd_pct_correct=0.997, train/loss=6.43, train/loss_blurry_cont_total=0, train/loss_blurry_total=0, train/loss_clip_total=0.00409, train/loss_prior=0.214, train/lr=8.27e-5, train/num_steps=9114, train/recon_cossim=0.845, train/recon_mse=0.214]"
     ]
    },
    {
     "name": "stdout",
     "output_type": "stream",
     "text": [
      "---\n"
     ]
    },
    {
     "name": "stderr",
     "output_type": "stream",
     "text": [
      " 65%|████████████████████████████████████████████████████████████████████████████████████████████████████████████████████████████████████████████████████████████████████████████████████████████████████████████████████████████████████████████████████████████████████████████████████████████████████████████████████████████████████████████████████████████████████████████████████████████████████████████████████████████████████▋                                                                                                                                                                                                                               | 98/150 [1:33:04<46:56, 54.16s/it, test/blurry_pixcorr=0, test/loss=15.5, test/loss_clip_total=0.714, test/loss_prior=0.492, test/num_steps=98, test/recon_cossim=0, test/recon_mse=0, test/test_bwd_pct_correct=0.747, test/test_fwd_pct_correct=0.907, train/blurry_pixcorr=0, train/bwd_pct_correct=0.997, train/fwd_pct_correct=0.997, train/loss=6.43, train/loss_blurry_cont_total=0, train/loss_blurry_total=0, train/loss_clip_total=0.00409, train/loss_prior=0.214, train/lr=8.27e-5, train/num_steps=9114, train/recon_cossim=0.845, train/recon_mse=0.214]"
     ]
    },
    {
     "name": "stdout",
     "output_type": "stream",
     "text": [
      "\n",
      "---saved /root/autodl-tmp/fMRI/train_logs/multisubject_subj2_session1_1916/last ckpt!---\n",
      "\n"
     ]
    },
    {
     "name": "stderr",
     "output_type": "stream",
     "text": [
      " 65%|█████████████████████████████████████████████████████████████████████████████████████████████████████████████████████████████████████████████████████████████████████████████████████████████████████████████████████████████████████████████████████████████████████████████████████████████████████████████████████████████████████████████████████████████████████████████████████████████████████████████████████████████████████▍                                                                                                                                                                                                                               | 98/150 [1:33:44<46:56, 54.16s/it, test/blurry_pixcorr=0, test/loss=16.5, test/loss_clip_total=0.718, test/loss_prior=0.525, test/num_steps=99, test/recon_cossim=0, test/recon_mse=0, test/test_bwd_pct_correct=0.753, test/test_fwd_pct_correct=0.903, train/blurry_pixcorr=0, train/bwd_pct_correct=0.996, train/fwd_pct_correct=0.996, train/loss=6.05, train/loss_blurry_cont_total=0, train/loss_blurry_total=0, train/loss_clip_total=0.0059, train/loss_prior=0.201, train/lr=7.99e-5, train/num_steps=9207, train/recon_cossim=0.853, train/recon_mse=0.201]"
     ]
    },
    {
     "name": "stdout",
     "output_type": "stream",
     "text": [
      "---\n",
      "\n",
      "---saved /root/autodl-tmp/fMRI/train_logs/multisubject_subj2_session1_1916/last ckpt!---\n",
      "\n"
     ]
    },
    {
     "name": "stderr",
     "output_type": "stream",
     "text": [
      " 66%|███████████████████████████████████████████████████████████████████████████████████████████████████████████████████████████████████████████████████████████████████████████████████████████████████████████████████████████████████████████████████████████████████████████████████████████████████████████████████████████████████████████████████████████████████████████████████████████████████████████████████████████████████████████                                                                                                                                                                                                                            | 99/150 [1:34:38<46:07, 54.27s/it, test/blurry_pixcorr=0, test/loss=17, test/loss_clip_total=0.72, test/loss_prior=0.541, test/num_steps=100, test/recon_cossim=0, test/recon_mse=0, test/test_bwd_pct_correct=0.757, test/test_fwd_pct_correct=0.903, train/blurry_pixcorr=0, train/bwd_pct_correct=0.997, train/fwd_pct_correct=0.997, train/loss=6.22, train/loss_blurry_cont_total=0, train/loss_blurry_total=0, train/loss_clip_total=0.00393, train/loss_prior=0.207, train/lr=7.71e-5, train/num_steps=9300, train/recon_cossim=0.85, train/recon_mse=0.207]"
     ]
    },
    {
     "name": "stdout",
     "output_type": "stream",
     "text": [
      "---\n"
     ]
    },
    {
     "name": "stderr",
     "output_type": "stream",
     "text": [
      " 67%|██████████████████████████████████████████████████████████████████████████████████████████████████████████████████████████████████████████████████████████████████████████████████████████████████████████████████████████████████████████████████████████████████████████████████████████████████████████████████████████████████████████████████████████████████████████████████████████████████████████████████████████████████████████████▋                                                                                                                                                                                                                       | 100/150 [1:34:54<45:25, 54.52s/it, test/blurry_pixcorr=0, test/loss=17, test/loss_clip_total=0.72, test/loss_prior=0.541, test/num_steps=100, test/recon_cossim=0, test/recon_mse=0, test/test_bwd_pct_correct=0.757, test/test_fwd_pct_correct=0.903, train/blurry_pixcorr=0, train/bwd_pct_correct=0.997, train/fwd_pct_correct=0.997, train/loss=6.22, train/loss_blurry_cont_total=0, train/loss_blurry_total=0, train/loss_clip_total=0.00393, train/loss_prior=0.207, train/lr=7.71e-5, train/num_steps=9300, train/recon_cossim=0.85, train/recon_mse=0.207]"
     ]
    },
    {
     "name": "stdout",
     "output_type": "stream",
     "text": [
      "\n",
      "---saved /root/autodl-tmp/fMRI/train_logs/multisubject_subj2_session1_1916/last ckpt!---\n",
      "\n"
     ]
    },
    {
     "name": "stderr",
     "output_type": "stream",
     "text": [
      " 67%|████████████████████████████████████████████████████████████████████████████████████████████████████████████████████████████████████████████████████████████████████████████████████████████████████████████████████████████████████████████████████████████████████████████████████████████████████████████████████████████████████████████████████████████████████████████████████████████████████████████████████████████████████████████▋                                                                                                                                                                                                                      | 100/150 [1:35:33<45:25, 54.52s/it, test/blurry_pixcorr=0, test/loss=13.7, test/loss_clip_total=0.727, test/loss_prior=0.433, test/num_steps=101, test/recon_cossim=0, test/recon_mse=0, test/test_bwd_pct_correct=0.757, test/test_fwd_pct_correct=0.91, train/blurry_pixcorr=0, train/bwd_pct_correct=0.993, train/fwd_pct_correct=0.993, train/loss=6.04, train/loss_blurry_cont_total=0, train/loss_blurry_total=0, train/loss_clip_total=0.00973, train/loss_prior=0.201, train/lr=7.43e-5, train/num_steps=9393, train/recon_cossim=0.854, train/recon_mse=0.201]"
     ]
    },
    {
     "name": "stdout",
     "output_type": "stream",
     "text": [
      "---\n"
     ]
    },
    {
     "name": "stderr",
     "output_type": "stream",
     "text": [
      " 67%|████████████████████████████████████████████████████████████████████████████████████████████████████████████████████████████████████████████████████████████████████████████████████████████████████████████████████████████████████████████████████████████████████████████████████████████████████████████████████████████████████████████████████████████████████████████████████████████████████████████████████████████████████████████████▉                                                                                                                                                                                                                  | 101/150 [1:35:49<44:37, 54.65s/it, test/blurry_pixcorr=0, test/loss=13.7, test/loss_clip_total=0.727, test/loss_prior=0.433, test/num_steps=101, test/recon_cossim=0, test/recon_mse=0, test/test_bwd_pct_correct=0.757, test/test_fwd_pct_correct=0.91, train/blurry_pixcorr=0, train/bwd_pct_correct=0.993, train/fwd_pct_correct=0.993, train/loss=6.04, train/loss_blurry_cont_total=0, train/loss_blurry_total=0, train/loss_clip_total=0.00973, train/loss_prior=0.201, train/lr=7.43e-5, train/num_steps=9393, train/recon_cossim=0.854, train/recon_mse=0.201]"
     ]
    },
    {
     "name": "stdout",
     "output_type": "stream",
     "text": [
      "\n",
      "---saved /root/autodl-tmp/fMRI/train_logs/multisubject_subj2_session1_1916/last ckpt!---\n",
      "\n"
     ]
    },
    {
     "name": "stderr",
     "output_type": "stream",
     "text": [
      " 67%|████████████████████████████████████████████████████████████████████████████████████████████████████████████████████████████████████████████████████████████████████████████████████████████████████████████████████████████████████████████████████████████████████████████████████████████████████████████████████████████████████████████████████████████████████████████████████████████████████████████████████████████████████████████████▉                                                                                                                                                                                                                  | 101/150 [1:36:28<44:37, 54.65s/it, test/blurry_pixcorr=0, test/loss=14.2, test/loss_clip_total=0.723, test/loss_prior=0.449, test/num_steps=102, test/recon_cossim=0, test/recon_mse=0, test/test_bwd_pct_correct=0.753, test/test_fwd_pct_correct=0.91, train/blurry_pixcorr=0, train/bwd_pct_correct=0.996, train/fwd_pct_correct=0.996, train/loss=6.18, train/loss_blurry_cont_total=0, train/loss_blurry_total=0, train/loss_clip_total=0.00603, train/loss_prior=0.206, train/lr=7.16e-5, train/num_steps=9486, train/recon_cossim=0.851, train/recon_mse=0.206]"
     ]
    },
    {
     "name": "stdout",
     "output_type": "stream",
     "text": [
      "---\n"
     ]
    },
    {
     "name": "stderr",
     "output_type": "stream",
     "text": [
      " 68%|█████████████████████████████████████████████████████████████████████████████████████████████████████████████████████████████████████████████████████████████████████████████████████████████████████████████████████████████████████████████████████████████████████████████████████████████████████████████████████████████████████████████████████████████████████████████████████████████████████████████████████████████████████████████████████▏                                                                                                                                                                                                             | 102/150 [1:36:42<43:27, 54.33s/it, test/blurry_pixcorr=0, test/loss=14.2, test/loss_clip_total=0.723, test/loss_prior=0.449, test/num_steps=102, test/recon_cossim=0, test/recon_mse=0, test/test_bwd_pct_correct=0.753, test/test_fwd_pct_correct=0.91, train/blurry_pixcorr=0, train/bwd_pct_correct=0.996, train/fwd_pct_correct=0.996, train/loss=6.18, train/loss_blurry_cont_total=0, train/loss_blurry_total=0, train/loss_clip_total=0.00603, train/loss_prior=0.206, train/lr=7.16e-5, train/num_steps=9486, train/recon_cossim=0.851, train/recon_mse=0.206]"
     ]
    },
    {
     "name": "stdout",
     "output_type": "stream",
     "text": [
      "\n",
      "---saved /root/autodl-tmp/fMRI/train_logs/multisubject_subj2_session1_1916/last ckpt!---\n",
      "\n"
     ]
    },
    {
     "name": "stderr",
     "output_type": "stream",
     "text": [
      " 68%|████████████████████████████████████████████████████████████████████████████████████████████████████████████████████████████████████████████████████████████████████████████████████████████████████████████████████████████████████████████████████████████████████████████████████████████████████████████████████████████████████████████████████████████████████████████████████████████████████████████████████████████████████████████████████▌                                                                                                                                                                                                             | 102/150 [1:37:22<43:27, 54.33s/it, test/blurry_pixcorr=0, test/loss=9.82, test/loss_clip_total=0.714, test/loss_prior=0.303, test/num_steps=103, test/recon_cossim=0, test/recon_mse=0, test/test_bwd_pct_correct=0.757, test/test_fwd_pct_correct=0.907, train/blurry_pixcorr=0, train/bwd_pct_correct=0.999, train/fwd_pct_correct=0.999, train/loss=6.46, train/loss_blurry_cont_total=0, train/loss_blurry_total=0, train/loss_clip_total=0.00213, train/loss_prior=0.215, train/lr=6.89e-5, train/num_steps=9579, train/recon_cossim=0.844, train/recon_mse=0.215]"
     ]
    },
    {
     "name": "stdout",
     "output_type": "stream",
     "text": [
      "---\n"
     ]
    },
    {
     "name": "stderr",
     "output_type": "stream",
     "text": [
      " 69%|████████████████████████████████████████████████████████████████████████████████████████████████████████████████████████████████████████████████████████████████████████████████████████████████████████████████████████████████████████████████████████████████████████████████████████████████████████████████████████████████████████████████████████████████████████████████████████████████████████████████████████████████████████████████████████▊                                                                                                                                                                                                         | 103/150 [1:37:36<42:23, 54.12s/it, test/blurry_pixcorr=0, test/loss=9.82, test/loss_clip_total=0.714, test/loss_prior=0.303, test/num_steps=103, test/recon_cossim=0, test/recon_mse=0, test/test_bwd_pct_correct=0.757, test/test_fwd_pct_correct=0.907, train/blurry_pixcorr=0, train/bwd_pct_correct=0.999, train/fwd_pct_correct=0.999, train/loss=6.46, train/loss_blurry_cont_total=0, train/loss_blurry_total=0, train/loss_clip_total=0.00213, train/loss_prior=0.215, train/lr=6.89e-5, train/num_steps=9579, train/recon_cossim=0.844, train/recon_mse=0.215]"
     ]
    },
    {
     "name": "stdout",
     "output_type": "stream",
     "text": [
      "\n",
      "---saved /root/autodl-tmp/fMRI/train_logs/multisubject_subj2_session1_1916/last ckpt!---\n",
      "\n"
     ]
    },
    {
     "name": "stderr",
     "output_type": "stream",
     "text": [
      " 69%|█████████████████████████████████████████████████████████████████████████████████████████████████████████████████████████████████████████████████████████████████████████████████████████████████████████████████████████████████████████████████████████████████████████████████████████████████████████████████████████████████████████████████████████████████████████████████████████████████████████████████████████████████████████████████████████▌                                                                                                                                                                                                         | 103/150 [1:38:15<42:23, 54.12s/it, test/blurry_pixcorr=0, test/loss=13.5, test/loss_clip_total=0.726, test/loss_prior=0.426, test/num_steps=104, test/recon_cossim=0, test/recon_mse=0, test/test_bwd_pct_correct=0.767, test/test_fwd_pct_correct=0.903, train/blurry_pixcorr=0, train/bwd_pct_correct=0.989, train/fwd_pct_correct=0.989, train/loss=6.48, train/loss_blurry_cont_total=0, train/loss_blurry_total=0, train/loss_clip_total=0.0153, train/loss_prior=0.216, train/lr=6.62e-5, train/num_steps=9672, train/recon_cossim=0.844, train/recon_mse=0.216]"
     ]
    },
    {
     "name": "stdout",
     "output_type": "stream",
     "text": [
      "---\n"
     ]
    },
    {
     "name": "stderr",
     "output_type": "stream",
     "text": [
      " 69%|█████████████████████████████████████████████████████████████████████████████████████████████████████████████████████████████████████████████████████████████████████████████████████████████████████████████████████████████████████████████████████████████████████████████████████████████████████████████████████████████████████████████████████████████████████████████████████████████████████████████████████████████████████████████████████████████▊                                                                                                                                                                                                     | 104/150 [1:38:31<41:38, 54.32s/it, test/blurry_pixcorr=0, test/loss=13.5, test/loss_clip_total=0.726, test/loss_prior=0.426, test/num_steps=104, test/recon_cossim=0, test/recon_mse=0, test/test_bwd_pct_correct=0.767, test/test_fwd_pct_correct=0.903, train/blurry_pixcorr=0, train/bwd_pct_correct=0.989, train/fwd_pct_correct=0.989, train/loss=6.48, train/loss_blurry_cont_total=0, train/loss_blurry_total=0, train/loss_clip_total=0.0153, train/loss_prior=0.216, train/lr=6.62e-5, train/num_steps=9672, train/recon_cossim=0.844, train/recon_mse=0.216]"
     ]
    },
    {
     "name": "stdout",
     "output_type": "stream",
     "text": [
      "\n",
      "---saved /root/autodl-tmp/fMRI/train_logs/multisubject_subj2_session1_1916/last ckpt!---\n",
      "\n"
     ]
    },
    {
     "name": "stderr",
     "output_type": "stream",
     "text": [
      " 69%|████████████████████████████████████████████████████████████████████████████████████████████████████████████████████████████████████████████████████████████████████████████████████████████████████████████████████████████████████████████████████████████████████████████████████████████████████████████████████████████████████████████████████████████████████████████████████████████████████████████████████████████████████████████████████████████████▌                                                                                                                                                                                                      | 104/150 [1:39:10<41:38, 54.32s/it, test/blurry_pixcorr=0, test/loss=16, test/loss_clip_total=0.718, test/loss_prior=0.508, test/num_steps=105, test/recon_cossim=0, test/recon_mse=0, test/test_bwd_pct_correct=0.75, test/test_fwd_pct_correct=0.917, train/blurry_pixcorr=0, train/bwd_pct_correct=0.993, train/fwd_pct_correct=0.993, train/loss=6.61, train/loss_blurry_cont_total=0, train/loss_blurry_total=0, train/loss_clip_total=0.00975, train/loss_prior=0.22, train/lr=6.36e-5, train/num_steps=9765, train/recon_cossim=0.839, train/recon_mse=0.22]"
     ]
    },
    {
     "name": "stdout",
     "output_type": "stream",
     "text": [
      "---\n"
     ]
    },
    {
     "name": "stderr",
     "output_type": "stream",
     "text": [
      " 70%|████████████████████████████████████████████████████████████████████████████████████████████████████████████████████████████████████████████████████████████████████████████████████████████████████████████████████████████████████████████████████████████████████████████████████████████████████████████████████████████████████████████████████████████████████████████████████████████████████████████████████████████████████████████████████████████████████▉                                                                                                                                                                                                  | 105/150 [1:39:25<40:47, 54.40s/it, test/blurry_pixcorr=0, test/loss=16, test/loss_clip_total=0.718, test/loss_prior=0.508, test/num_steps=105, test/recon_cossim=0, test/recon_mse=0, test/test_bwd_pct_correct=0.75, test/test_fwd_pct_correct=0.917, train/blurry_pixcorr=0, train/bwd_pct_correct=0.993, train/fwd_pct_correct=0.993, train/loss=6.61, train/loss_blurry_cont_total=0, train/loss_blurry_total=0, train/loss_clip_total=0.00975, train/loss_prior=0.22, train/lr=6.36e-5, train/num_steps=9765, train/recon_cossim=0.839, train/recon_mse=0.22]"
     ]
    },
    {
     "name": "stdout",
     "output_type": "stream",
     "text": [
      "\n",
      "---saved /root/autodl-tmp/fMRI/train_logs/multisubject_subj2_session1_1916/last ckpt!---\n",
      "\n"
     ]
    },
    {
     "name": "stderr",
     "output_type": "stream",
     "text": [
      " 70%|██████████████████████████████████████████████████████████████████████████████████████████████████████████████████████████████████████████████████████████████████████████████████████████████████████████████████████████████████████████████████████████████████████████████████████████████████████████████████████████████████████████████████████████████████████████████████████████████████████████████████████████████████████████████████████████████████▊                                                                                                                                                                                                 | 105/150 [1:40:05<40:47, 54.40s/it, test/blurry_pixcorr=0, test/loss=15.2, test/loss_clip_total=0.71, test/loss_prior=0.483, test/num_steps=106, test/recon_cossim=0, test/recon_mse=0, test/test_bwd_pct_correct=0.753, test/test_fwd_pct_correct=0.917, train/blurry_pixcorr=0, train/bwd_pct_correct=0.997, train/fwd_pct_correct=0.997, train/loss=6.18, train/loss_blurry_cont_total=0, train/loss_blurry_total=0, train/loss_clip_total=0.00399, train/loss_prior=0.206, train/lr=6.1e-5, train/num_steps=9858, train/recon_cossim=0.851, train/recon_mse=0.206]"
     ]
    },
    {
     "name": "stdout",
     "output_type": "stream",
     "text": [
      "---\n",
      "\n",
      "---saved /root/autodl-tmp/fMRI/train_logs/multisubject_subj2_session1_1916/last ckpt!---\n",
      "\n"
     ]
    },
    {
     "name": "stderr",
     "output_type": "stream",
     "text": [
      " 71%|███████████████████████████████████████████████████████████████████████████████████████████████████████████████████████████████████████████████████████████████████████████████████████████████████████████████████████████████████████████████████████████████████████████████████████████████████████████████████████████████████████████████████████████████████████████████████████████████████████████████████████████████████████████████████████████████████████▊                                                                                                                                                                                             | 106/150 [1:41:00<39:59, 54.54s/it, test/blurry_pixcorr=0, test/loss=16, test/loss_clip_total=0.721, test/loss_prior=0.511, test/num_steps=107, test/recon_cossim=0, test/recon_mse=0, test/test_bwd_pct_correct=0.75, test/test_fwd_pct_correct=0.903, train/blurry_pixcorr=0, train/bwd_pct_correct=0.999, train/fwd_pct_correct=0.999, train/loss=5.81, train/loss_blurry_cont_total=0, train/loss_blurry_total=0, train/loss_clip_total=0.00217, train/loss_prior=0.194, train/lr=5.85e-5, train/num_steps=9951, train/recon_cossim=0.859, train/recon_mse=0.194]"
     ]
    },
    {
     "name": "stdout",
     "output_type": "stream",
     "text": [
      "---\n"
     ]
    },
    {
     "name": "stderr",
     "output_type": "stream",
     "text": [
      " 71%|████████████████████████████████████████████████████████████████████████████████████████████████████████████████████████████████████████████████████████████████████████████████████████████████████████████████████████████████████████████████████████████████████████████████████████████████████████████████████████████████████████████████████████████████████████████████████████████████████████████████████████████████████████████████████████████████████████████                                                                                                                                                                                         | 107/150 [1:41:15<39:10, 54.66s/it, test/blurry_pixcorr=0, test/loss=16, test/loss_clip_total=0.721, test/loss_prior=0.511, test/num_steps=107, test/recon_cossim=0, test/recon_mse=0, test/test_bwd_pct_correct=0.75, test/test_fwd_pct_correct=0.903, train/blurry_pixcorr=0, train/bwd_pct_correct=0.999, train/fwd_pct_correct=0.999, train/loss=5.81, train/loss_blurry_cont_total=0, train/loss_blurry_total=0, train/loss_clip_total=0.00217, train/loss_prior=0.194, train/lr=5.85e-5, train/num_steps=9951, train/recon_cossim=0.859, train/recon_mse=0.194]"
     ]
    },
    {
     "name": "stdout",
     "output_type": "stream",
     "text": [
      "\n",
      "---saved /root/autodl-tmp/fMRI/train_logs/multisubject_subj2_session1_1916/last ckpt!---\n",
      "\n"
     ]
    },
    {
     "name": "stderr",
     "output_type": "stream",
     "text": [
      " 71%|████████████████████████████████████████████████████████████████████████████████████████████████████████████████████████████████████████████████████████████████████████████████████████████████████████████████████████████████████████████████████████████████████████████████████████████████████████████████████████████████████████████████████████████████████████████████████████████████████████████████████████████████████████████████████████████████████████████                                                                                                                                                                                         | 107/150 [1:41:55<39:10, 54.66s/it, test/blurry_pixcorr=0, test/loss=12.3, test/loss_clip_total=0.724, test/loss_prior=0.386, test/num_steps=108, test/recon_cossim=0, test/recon_mse=0, test/test_bwd_pct_correct=0.75, test/test_fwd_pct_correct=0.91, train/blurry_pixcorr=0, train/bwd_pct_correct=0.996, train/fwd_pct_correct=0.996, train/loss=6.21, train/loss_blurry_cont_total=0, train/loss_blurry_total=0, train/loss_clip_total=0.00602, train/loss_prior=0.207, train/lr=5.6e-5, train/num_steps=1e+4, train/recon_cossim=0.849, train/recon_mse=0.207]"
     ]
    },
    {
     "name": "stdout",
     "output_type": "stream",
     "text": [
      "---\n"
     ]
    },
    {
     "name": "stderr",
     "output_type": "stream",
     "text": [
      " 72%|████████████████████████████████████████████████████████████████████████████████████████████████████████████████████████████████████████████████████████████████████████████████████████████████████████████████████████████████████████████████████████████████████████████████████████████████████████████████████████████████████████████████████████████████████████████████████████████████████████████████████████████████████████████████████████████████████████████████▍                                                                                                                                                                                    | 108/150 [1:42:10<38:12, 54.59s/it, test/blurry_pixcorr=0, test/loss=12.3, test/loss_clip_total=0.724, test/loss_prior=0.386, test/num_steps=108, test/recon_cossim=0, test/recon_mse=0, test/test_bwd_pct_correct=0.75, test/test_fwd_pct_correct=0.91, train/blurry_pixcorr=0, train/bwd_pct_correct=0.996, train/fwd_pct_correct=0.996, train/loss=6.21, train/loss_blurry_cont_total=0, train/loss_blurry_total=0, train/loss_clip_total=0.00602, train/loss_prior=0.207, train/lr=5.6e-5, train/num_steps=1e+4, train/recon_cossim=0.849, train/recon_mse=0.207]"
     ]
    },
    {
     "name": "stdout",
     "output_type": "stream",
     "text": [
      "\n",
      "---saved /root/autodl-tmp/fMRI/train_logs/multisubject_subj2_session1_1916/last ckpt!---\n",
      "\n"
     ]
    },
    {
     "name": "stderr",
     "output_type": "stream",
     "text": [
      " 72%|██████████████████████████████████████████████████████████████████████████████████████████████████████████████████████████████████████████████████████████████████████████████████████████████████████████████████████████████████████████████████████████████████████████████████████████████████████████████████████████████████████████████████████████████████████████████████████████████████████████████████████████████████████████████████████████████████████████████▏                                                                                                                                                                                   | 108/150 [1:42:49<38:12, 54.59s/it, test/blurry_pixcorr=0, test/loss=12.5, test/loss_clip_total=0.729, test/loss_prior=0.394, test/num_steps=109, test/recon_cossim=0, test/recon_mse=0, test/test_bwd_pct_correct=0.737, test/test_fwd_pct_correct=0.917, train/blurry_pixcorr=0, train/bwd_pct_correct=0.993, train/fwd_pct_correct=0.993, train/loss=6.42, train/loss_blurry_cont_total=0, train/loss_blurry_total=0, train/loss_clip_total=0.0098, train/loss_prior=0.214, train/lr=5.35e-5, train/num_steps=10137, train/recon_cossim=0.844, train/recon_mse=0.214]"
     ]
    },
    {
     "name": "stdout",
     "output_type": "stream",
     "text": [
      "---\n"
     ]
    },
    {
     "name": "stderr",
     "output_type": "stream",
     "text": [
      " 73%|██████████████████████████████████████████████████████████████████████████████████████████████████████████████████████████████████████████████████████████████████████████████████████████████████████████████████████████████████████████████████████████████████████████████████████████████████████████████████████████████████████████████████████████████████████████████████████████████████████████████████████████████████████████████████████████████████████████████████▌                                                                                                                                                                               | 109/150 [1:43:04<37:19, 54.63s/it, test/blurry_pixcorr=0, test/loss=12.5, test/loss_clip_total=0.729, test/loss_prior=0.394, test/num_steps=109, test/recon_cossim=0, test/recon_mse=0, test/test_bwd_pct_correct=0.737, test/test_fwd_pct_correct=0.917, train/blurry_pixcorr=0, train/bwd_pct_correct=0.993, train/fwd_pct_correct=0.993, train/loss=6.42, train/loss_blurry_cont_total=0, train/loss_blurry_total=0, train/loss_clip_total=0.0098, train/loss_prior=0.214, train/lr=5.35e-5, train/num_steps=10137, train/recon_cossim=0.844, train/recon_mse=0.214]"
     ]
    },
    {
     "name": "stdout",
     "output_type": "stream",
     "text": [
      "\n",
      "---saved /root/autodl-tmp/fMRI/train_logs/multisubject_subj2_session1_1916/last ckpt!---\n",
      "\n"
     ]
    },
    {
     "name": "stderr",
     "output_type": "stream",
     "text": [
      " 73%|██████████████████████████████████████████████████████████████████████████████████████████████████████████████████████████████████████████████████████████████████████████████████████████████████████████████████████████████████████████████████████████████████████████████████████████████████████████████████████████████████████████████████████████████████████████████████████████████████████████████████████████████████████████████████████████████████████████████████▌                                                                                                                                                                               | 109/150 [1:43:44<37:19, 54.63s/it, test/blurry_pixcorr=0, test/loss=18.1, test/loss_clip_total=0.727, test/loss_prior=0.579, test/num_steps=110, test/recon_cossim=0, test/recon_mse=0, test/test_bwd_pct_correct=0.74, test/test_fwd_pct_correct=0.907, train/blurry_pixcorr=0, train/bwd_pct_correct=0.996, train/fwd_pct_correct=0.996, train/loss=6.11, train/loss_blurry_cont_total=0, train/loss_blurry_total=0, train/loss_clip_total=0.00595, train/loss_prior=0.203, train/lr=5.11e-5, train/num_steps=10230, train/recon_cossim=0.852, train/recon_mse=0.203]"
     ]
    },
    {
     "name": "stdout",
     "output_type": "stream",
     "text": [
      "---\n",
      "\n",
      "---saved /root/autodl-tmp/fMRI/train_logs/multisubject_subj2_session1_1916/last ckpt!---\n",
      "\n"
     ]
    },
    {
     "name": "stderr",
     "output_type": "stream",
     "text": [
      " 73%|██████████████████████████████████████████████████████████████████████████████████████████████████████████████████████████████████████████████████████████████████████████████████████████████████████████████████████████████████████████████████████████████████████████████████████████████████████████████████████████████████████████████████████████████████████████████████████████████████████████████████████████████████████████████████████████████████████████████████████▊                                                                                                                                                                           | 110/150 [1:44:38<36:25, 54.64s/it, test/blurry_pixcorr=0, test/loss=12.1, test/loss_clip_total=0.719, test/loss_prior=0.38, test/num_steps=111, test/recon_cossim=0, test/recon_mse=0, test/test_bwd_pct_correct=0.747, test/test_fwd_pct_correct=0.913, train/blurry_pixcorr=0, train/bwd_pct_correct=0.997, train/fwd_pct_correct=0.997, train/loss=5.88, train/loss_blurry_cont_total=0, train/loss_blurry_total=0, train/loss_clip_total=0.00419, train/loss_prior=0.196, train/lr=4.87e-5, train/num_steps=10323, train/recon_cossim=0.857, train/recon_mse=0.196]"
     ]
    },
    {
     "name": "stdout",
     "output_type": "stream",
     "text": [
      "---\n",
      "\n",
      "---saved /root/autodl-tmp/fMRI/train_logs/multisubject_subj2_session1_1916/last ckpt!---\n",
      "\n"
     ]
    },
    {
     "name": "stderr",
     "output_type": "stream",
     "text": [
      " 74%|███████████████████████████████████████████████████████████████████████████████████████████████████████████████████████████████████████████████████████████████████████████████████████████████████████████████████████████████████████████████████████████████████████████████████████████████████████████████████████████████████████████████████████████████████████████████████████████████████████████████████████████████████████████████████████████████████████████████████████████▊                                                                                                                                                                       | 111/150 [1:45:33<35:29, 54.59s/it, test/blurry_pixcorr=0, test/loss=15.5, test/loss_clip_total=0.73, test/loss_prior=0.491, test/num_steps=112, test/recon_cossim=0, test/recon_mse=0, test/test_bwd_pct_correct=0.75, test/test_fwd_pct_correct=0.913, train/blurry_pixcorr=0, train/bwd_pct_correct=0.997, train/fwd_pct_correct=0.997, train/loss=5.84, train/loss_blurry_cont_total=0, train/loss_blurry_total=0, train/loss_clip_total=0.00414, train/loss_prior=0.195, train/lr=4.64e-5, train/num_steps=10416, train/recon_cossim=0.858, train/recon_mse=0.195]"
     ]
    },
    {
     "name": "stdout",
     "output_type": "stream",
     "text": [
      "---\n"
     ]
    },
    {
     "name": "stderr",
     "output_type": "stream",
     "text": [
      " 75%|████████████████████████████████████████████████████████████████████████████████████████████████████████████████████████████████████████████████████████████████████████████████████████████████████████████████████████████████████████████████████████████████████████████████████████████████████████████████████████████████████████████████████████████████████████████████████████████████████████████████████████████████████████████████████████████████████████████████████████████████                                                                                                                                                                   | 112/150 [1:45:48<34:38, 54.71s/it, test/blurry_pixcorr=0, test/loss=15.5, test/loss_clip_total=0.73, test/loss_prior=0.491, test/num_steps=112, test/recon_cossim=0, test/recon_mse=0, test/test_bwd_pct_correct=0.75, test/test_fwd_pct_correct=0.913, train/blurry_pixcorr=0, train/bwd_pct_correct=0.997, train/fwd_pct_correct=0.997, train/loss=5.84, train/loss_blurry_cont_total=0, train/loss_blurry_total=0, train/loss_clip_total=0.00414, train/loss_prior=0.195, train/lr=4.64e-5, train/num_steps=10416, train/recon_cossim=0.858, train/recon_mse=0.195]"
     ]
    },
    {
     "name": "stdout",
     "output_type": "stream",
     "text": [
      "\n",
      "---saved /root/autodl-tmp/fMRI/train_logs/multisubject_subj2_session1_1916/last ckpt!---\n",
      "\n"
     ]
    },
    {
     "name": "stderr",
     "output_type": "stream",
     "text": [
      " 75%|█████████████████████████████████████████████████████████████████████████████████████████████████████████████████████████████████████████████████████████████████████████████████████████████████████████████████████████████████████████████████████████████████████████████████████████████████████████████████████████████████████████████████████████████████████████████████████████████████████████████████████████████████████████████████████████████████████████████████████████████████▌                                                                                                                                                                   | 112/150 [1:46:28<34:38, 54.71s/it, test/blurry_pixcorr=0, test/loss=16.4, test/loss_clip_total=0.732, test/loss_prior=0.523, test/num_steps=113, test/recon_cossim=0, test/recon_mse=0, test/test_bwd_pct_correct=0.743, test/test_fwd_pct_correct=0.913, train/blurry_pixcorr=0, train/bwd_pct_correct=0.995, train/fwd_pct_correct=0.995, train/loss=6.02, train/loss_blurry_cont_total=0, train/loss_blurry_total=0, train/loss_clip_total=0.00792, train/loss_prior=0.2, train/lr=4.41e-5, train/num_steps=10509, train/recon_cossim=0.853, train/recon_mse=0.2]"
     ]
    },
    {
     "name": "stdout",
     "output_type": "stream",
     "text": [
      "---\n"
     ]
    },
    {
     "name": "stderr",
     "output_type": "stream",
     "text": [
      " 75%|█████████████████████████████████████████████████████████████████████████████████████████████████████████████████████████████████████████████████████████████████████████████████████████████████████████████████████████████████████████████████████████████████████████████████████████████████████████████████████████████████████████████████████████████████████████████████████████████████████████████████████████████████████████████████████████████████████████████████████████████████████▉                                                                                                                                                               | 113/150 [1:46:44<33:50, 54.89s/it, test/blurry_pixcorr=0, test/loss=16.4, test/loss_clip_total=0.732, test/loss_prior=0.523, test/num_steps=113, test/recon_cossim=0, test/recon_mse=0, test/test_bwd_pct_correct=0.743, test/test_fwd_pct_correct=0.913, train/blurry_pixcorr=0, train/bwd_pct_correct=0.995, train/fwd_pct_correct=0.995, train/loss=6.02, train/loss_blurry_cont_total=0, train/loss_blurry_total=0, train/loss_clip_total=0.00792, train/loss_prior=0.2, train/lr=4.41e-5, train/num_steps=10509, train/recon_cossim=0.853, train/recon_mse=0.2]"
     ]
    },
    {
     "name": "stdout",
     "output_type": "stream",
     "text": [
      "\n",
      "---saved /root/autodl-tmp/fMRI/train_logs/multisubject_subj2_session1_1916/last ckpt!---\n",
      "\n"
     ]
    },
    {
     "name": "stderr",
     "output_type": "stream",
     "text": [
      " 75%|█████████████████████████████████████████████████████████████████████████████████████████████████████████████████████████████████████████████████████████████████████████████████████████████████████████████████████████████████████████████████████████████████████████████████████████████████████████████████████████████████████████████████████████████████████████████████████████████████████████████████████████████████████████████████████████████████████████████████████████████████████▉                                                                                                                                                               | 113/150 [1:47:23<33:50, 54.89s/it, test/blurry_pixcorr=0, test/loss=15.5, test/loss_clip_total=0.724, test/loss_prior=0.492, test/num_steps=114, test/recon_cossim=0, test/recon_mse=0, test/test_bwd_pct_correct=0.747, test/test_fwd_pct_correct=0.907, train/blurry_pixcorr=0, train/bwd_pct_correct=0.995, train/fwd_pct_correct=0.995, train/loss=6.01, train/loss_blurry_cont_total=0, train/loss_blurry_total=0, train/loss_clip_total=0.00816, train/loss_prior=0.2, train/lr=4.19e-5, train/num_steps=10602, train/recon_cossim=0.854, train/recon_mse=0.2]"
     ]
    },
    {
     "name": "stdout",
     "output_type": "stream",
     "text": [
      "---\n"
     ]
    },
    {
     "name": "stderr",
     "output_type": "stream",
     "text": [
      " 76%|██████████████████████████████████████████████████████████████████████████████████████████████████████████████████████████████████████████████████████████████████████████████████████████████████████████████████████████████████████████████████████████████████████████████████████████████████████████████████████████████████████████████████████████████████████████████████████████████████████████████████████████████████████████████████████████████████████████████████████████████████████████▏                                                                                                                                                          | 114/150 [1:47:42<33:33, 55.93s/it, test/blurry_pixcorr=0, test/loss=15.5, test/loss_clip_total=0.724, test/loss_prior=0.492, test/num_steps=114, test/recon_cossim=0, test/recon_mse=0, test/test_bwd_pct_correct=0.747, test/test_fwd_pct_correct=0.907, train/blurry_pixcorr=0, train/bwd_pct_correct=0.995, train/fwd_pct_correct=0.995, train/loss=6.01, train/loss_blurry_cont_total=0, train/loss_blurry_total=0, train/loss_clip_total=0.00816, train/loss_prior=0.2, train/lr=4.19e-5, train/num_steps=10602, train/recon_cossim=0.854, train/recon_mse=0.2]"
     ]
    },
    {
     "name": "stdout",
     "output_type": "stream",
     "text": [
      "\n",
      "---saved /root/autodl-tmp/fMRI/train_logs/multisubject_subj2_session1_1916/last ckpt!---\n",
      "\n"
     ]
    },
    {
     "name": "stderr",
     "output_type": "stream",
     "text": [
      " 76%|█████████████████████████████████████████████████████████████████████████████████████████████████████████████████████████████████████████████████████████████████████████████████████████████████████████████████████████████████████████████████████████████████████████████████████████████████████████████████████████████████████████████████████████████████████████████████████████████████████████████████████████████████████████████████████████████████████████████████████████████████████████▍                                                                                                                                                          | 114/150 [1:48:21<33:33, 55.93s/it, test/blurry_pixcorr=0, test/loss=13.2, test/loss_clip_total=0.724, test/loss_prior=0.417, test/num_steps=115, test/recon_cossim=0, test/recon_mse=0, test/test_bwd_pct_correct=0.74, test/test_fwd_pct_correct=0.91, train/blurry_pixcorr=0, train/bwd_pct_correct=0.997, train/fwd_pct_correct=0.997, train/loss=5.54, train/loss_blurry_cont_total=0, train/loss_blurry_total=0, train/loss_clip_total=0.0043, train/loss_prior=0.184, train/lr=3.97e-5, train/num_steps=10695, train/recon_cossim=0.866, train/recon_mse=0.184]"
     ]
    },
    {
     "name": "stdout",
     "output_type": "stream",
     "text": [
      "---\n",
      "\n",
      "---saved /root/autodl-tmp/fMRI/train_logs/multisubject_subj2_session1_1916/last ckpt!---\n",
      "\n"
     ]
    },
    {
     "name": "stderr",
     "output_type": "stream",
     "text": [
      " 77%|████████████████████████████████████████████████████████████████████████████████████████████████████████████████████████████████████████████████████████████████████████████████████████████████████████████████████████████████████████████████████████████████████████████████████████████████████████████████████████████████████████████████████████████████████████████████████████████████████████████████████████████████████████████████████████████████████████████████████████████████████████████▏                                                                                                                                                     | 115/150 [1:49:20<33:00, 56.59s/it, test/blurry_pixcorr=0, test/loss=15.5, test/loss_clip_total=0.723, test/loss_prior=0.492, test/num_steps=116, test/recon_cossim=0, test/recon_mse=0, test/test_bwd_pct_correct=0.743, test/test_fwd_pct_correct=0.913, train/blurry_pixcorr=0, train/bwd_pct_correct=0.993, train/fwd_pct_correct=0.993, train/loss=5.79, train/loss_blurry_cont_total=0, train/loss_blurry_total=0, train/loss_clip_total=0.00987, train/loss_prior=0.193, train/lr=3.76e-5, train/num_steps=10788, train/recon_cossim=0.86, train/recon_mse=0.193]"
     ]
    },
    {
     "name": "stdout",
     "output_type": "stream",
     "text": [
      "---\n"
     ]
    },
    {
     "name": "stderr",
     "output_type": "stream",
     "text": [
      " 77%|████████████████████████████████████████████████████████████████████████████████████████████████████████████████████████████████████████████████████████████████████████████████████████████████████████████████████████████████████████████████████████████████████████████████████████████████████████████████████████████████████████████████████████████████████████████████████████████████████████████████████████████████████████████████████████████████████████████████████████████████████████████████▍                                                                                                                                                 | 116/150 [1:49:35<31:46, 56.06s/it, test/blurry_pixcorr=0, test/loss=15.5, test/loss_clip_total=0.723, test/loss_prior=0.492, test/num_steps=116, test/recon_cossim=0, test/recon_mse=0, test/test_bwd_pct_correct=0.743, test/test_fwd_pct_correct=0.913, train/blurry_pixcorr=0, train/bwd_pct_correct=0.993, train/fwd_pct_correct=0.993, train/loss=5.79, train/loss_blurry_cont_total=0, train/loss_blurry_total=0, train/loss_clip_total=0.00987, train/loss_prior=0.193, train/lr=3.76e-5, train/num_steps=10788, train/recon_cossim=0.86, train/recon_mse=0.193]"
     ]
    },
    {
     "name": "stdout",
     "output_type": "stream",
     "text": [
      "\n",
      "---saved /root/autodl-tmp/fMRI/train_logs/multisubject_subj2_session1_1916/last ckpt!---\n",
      "\n"
     ]
    },
    {
     "name": "stderr",
     "output_type": "stream",
     "text": [
      " 77%|███████████████████████████████████████████████████████████████████████████████████████████████████████████████████████████████████████████████████████████████████████████████████████████████████████████████████████████████████████████████████████████████████████████████████████████████████████████████████████████████████████████████████████████████████████████████████████████████████████████████████████████████████████████████████████████████████████████████████████████████████████████████████▌                                                                                                                                                  | 116/150 [1:50:14<31:46, 56.06s/it, test/blurry_pixcorr=0, test/loss=14.4, test/loss_clip_total=0.725, test/loss_prior=0.456, test/num_steps=117, test/recon_cossim=0, test/recon_mse=0, test/test_bwd_pct_correct=0.74, test/test_fwd_pct_correct=0.917, train/blurry_pixcorr=0, train/bwd_pct_correct=0.997, train/fwd_pct_correct=0.997, train/loss=6.02, train/loss_blurry_cont_total=0, train/loss_blurry_total=0, train/loss_clip_total=0.00411, train/loss_prior=0.2, train/lr=3.55e-5, train/num_steps=10881, train/recon_cossim=0.853, train/recon_mse=0.2]"
     ]
    },
    {
     "name": "stdout",
     "output_type": "stream",
     "text": [
      "---\n"
     ]
    },
    {
     "name": "stderr",
     "output_type": "stream",
     "text": [
      " 78%|███████████████████████████████████████████████████████████████████████████████████████████████████████████████████████████████████████████████████████████████████████████████████████████████████████████████████████████████████████████████████████████████████████████████████████████████████████████████████████████████████████████████████████████████████████████████████████████████████████████████████████████████████████████████████████████████████████████████████████████████████████████████████████▉                                                                                                                                              | 117/150 [1:50:31<30:50, 56.08s/it, test/blurry_pixcorr=0, test/loss=14.4, test/loss_clip_total=0.725, test/loss_prior=0.456, test/num_steps=117, test/recon_cossim=0, test/recon_mse=0, test/test_bwd_pct_correct=0.74, test/test_fwd_pct_correct=0.917, train/blurry_pixcorr=0, train/bwd_pct_correct=0.997, train/fwd_pct_correct=0.997, train/loss=6.02, train/loss_blurry_cont_total=0, train/loss_blurry_total=0, train/loss_clip_total=0.00411, train/loss_prior=0.2, train/lr=3.55e-5, train/num_steps=10881, train/recon_cossim=0.853, train/recon_mse=0.2]"
     ]
    },
    {
     "name": "stdout",
     "output_type": "stream",
     "text": [
      "\n",
      "---saved /root/autodl-tmp/fMRI/train_logs/multisubject_subj2_session1_1916/last ckpt!---\n",
      "\n"
     ]
    },
    {
     "name": "stderr",
     "output_type": "stream",
     "text": [
      " 78%|████████████████████████████████████████████████████████████████████████████████████████████████████████████████████████████████████████████████████████████████████████████████████████████████████████████████████████████████████████████████████████████████████████████████████████████████████████████████████████████████████████████████████████████████████████████████████████████████████████████████████████████████████████████████████████████████████████████████████████████████████████████████████▊                                                                                                                                             | 117/150 [1:51:10<30:50, 56.08s/it, test/blurry_pixcorr=0, test/loss=14.5, test/loss_clip_total=0.723, test/loss_prior=0.46, test/num_steps=118, test/recon_cossim=0, test/recon_mse=0, test/test_bwd_pct_correct=0.743, test/test_fwd_pct_correct=0.913, train/blurry_pixcorr=0, train/bwd_pct_correct=0.993, train/fwd_pct_correct=0.993, train/loss=5.46, train/loss_blurry_cont_total=0, train/loss_blurry_total=0, train/loss_clip_total=0.00999, train/loss_prior=0.182, train/lr=3.35e-5, train/num_steps=10974, train/recon_cossim=0.867, train/recon_mse=0.182]"
     ]
    },
    {
     "name": "stdout",
     "output_type": "stream",
     "text": [
      "---\n",
      "\n",
      "---saved /root/autodl-tmp/fMRI/train_logs/multisubject_subj2_session1_1916/last ckpt!---\n",
      "\n"
     ]
    },
    {
     "name": "stderr",
     "output_type": "stream",
     "text": [
      " 79%|█████████████████████████████████████████████████████████████████████████████████████████████████████████████████████████████████████████████████████████████████████████████████████████████████████████████████████████████████████████████████████████████████████████████████████████████████████████████████████████████████████████████████████████████████████████████████████████████████████████████████████████████████████████████████████████████████████████████████████████████████████████████████████████                                                                                                                                         | 118/150 [1:52:36<34:36, 64.89s/it, test/blurry_pixcorr=0, test/loss=15.8, test/loss_clip_total=0.727, test/loss_prior=0.503, test/num_steps=119, test/recon_cossim=0, test/recon_mse=0, test/test_bwd_pct_correct=0.747, test/test_fwd_pct_correct=0.913, train/blurry_pixcorr=0, train/bwd_pct_correct=0.999, train/fwd_pct_correct=0.999, train/loss=5.5, train/loss_blurry_cont_total=0, train/loss_blurry_total=0, train/loss_clip_total=0.00259, train/loss_prior=0.183, train/lr=3.15e-5, train/num_steps=11067, train/recon_cossim=0.865, train/recon_mse=0.183]"
     ]
    },
    {
     "name": "stdout",
     "output_type": "stream",
     "text": [
      "---\n"
     ]
    },
    {
     "name": "stderr",
     "output_type": "stream",
     "text": [
      " 79%|█████████████████████████████████████████████████████████████████████████████████████████████████████████████████████████████████████████████████████████████████████████████████████████████████████████████████████████████████████████████████████████████████████████████████████████████████████████████████████████████████████████████████████████████████████████████████████████████████████████████████████████████████████████████████████████████████████████████████████████████████████████████████████████████▎                                                                                                                                    | 119/150 [1:52:54<32:24, 62.73s/it, test/blurry_pixcorr=0, test/loss=15.8, test/loss_clip_total=0.727, test/loss_prior=0.503, test/num_steps=119, test/recon_cossim=0, test/recon_mse=0, test/test_bwd_pct_correct=0.747, test/test_fwd_pct_correct=0.913, train/blurry_pixcorr=0, train/bwd_pct_correct=0.999, train/fwd_pct_correct=0.999, train/loss=5.5, train/loss_blurry_cont_total=0, train/loss_blurry_total=0, train/loss_clip_total=0.00259, train/loss_prior=0.183, train/lr=3.15e-5, train/num_steps=11067, train/recon_cossim=0.865, train/recon_mse=0.183]"
     ]
    },
    {
     "name": "stdout",
     "output_type": "stream",
     "text": [
      "\n",
      "---saved /root/autodl-tmp/fMRI/train_logs/multisubject_subj2_session1_1916/last ckpt!---\n",
      "\n"
     ]
    },
    {
     "name": "stderr",
     "output_type": "stream",
     "text": [
      " 79%|██████████████████████████████████████████████████████████████████████████████████████████████████████████████████████████████████████████████████████████████████████████████████████████████████████████████████████████████████████████████████████████████████████████████████████████████████████████████████████████████████████████████████████████████████████████████████████████████████████████████████████████████████████████████████████████████████████████████████████████████████████████████████████████████                                                                                                                                     | 119/150 [1:53:34<32:24, 62.73s/it, test/blurry_pixcorr=0, test/loss=13.6, test/loss_clip_total=0.73, test/loss_prior=0.429, test/num_steps=120, test/recon_cossim=0, test/recon_mse=0, test/test_bwd_pct_correct=0.743, test/test_fwd_pct_correct=0.913, train/blurry_pixcorr=0, train/bwd_pct_correct=0.991, train/fwd_pct_correct=0.991, train/loss=6.03, train/loss_blurry_cont_total=0, train/loss_blurry_total=0, train/loss_clip_total=0.0143, train/loss_prior=0.201, train/lr=2.96e-5, train/num_steps=11160, train/recon_cossim=0.852, train/recon_mse=0.201]"
     ]
    },
    {
     "name": "stdout",
     "output_type": "stream",
     "text": [
      "---\n",
      "\n",
      "---saved /root/autodl-tmp/fMRI/train_logs/multisubject_subj2_session1_1916/last ckpt!---\n",
      "\n"
     ]
    },
    {
     "name": "stderr",
     "output_type": "stream",
     "text": [
      " 80%|█████████████████████████████████████████████████████████████████████████████████████████████████████████████████████████████████████████████████████████████████████████████████████████████████████████████████████████████████████████████████████████████████████████████████████████████████████████████████████████████████████████████████████████████████████████████████████████████████████████████████████████████████████████████████████████████████████████████████████████████████████████████████████████████████▌                                                                                                                                | 120/150 [1:54:58<34:39, 69.31s/it, test/blurry_pixcorr=0, test/loss=10.4, test/loss_clip_total=0.727, test/loss_prior=0.322, test/num_steps=121, test/recon_cossim=0, test/recon_mse=0, test/test_bwd_pct_correct=0.743, test/test_fwd_pct_correct=0.913, train/blurry_pixcorr=0, train/bwd_pct_correct=0.996, train/fwd_pct_correct=0.996, train/loss=5.6, train/loss_blurry_cont_total=0, train/loss_blurry_total=0, train/loss_clip_total=0.00639, train/loss_prior=0.186, train/lr=2.77e-5, train/num_steps=11253, train/recon_cossim=0.863, train/recon_mse=0.186]"
     ]
    },
    {
     "name": "stdout",
     "output_type": "stream",
     "text": [
      "---\n"
     ]
    },
    {
     "name": "stderr",
     "output_type": "stream",
     "text": [
      " 81%|█████████████████████████████████████████████████████████████████████████████████████████████████████████████████████████████████████████████████████████████████████████████████████████████████████████████████████████████████████████████████████████████████████████████████████████████████████████████████████████████████████████████████████████████████████████████████████████████████████████████████████████████████████████████████████████████████████████████████████████████████████████████████████████████████████▉                                                                                                                            | 121/150 [1:55:26<33:13, 68.76s/it, test/blurry_pixcorr=0, test/loss=10.4, test/loss_clip_total=0.727, test/loss_prior=0.322, test/num_steps=121, test/recon_cossim=0, test/recon_mse=0, test/test_bwd_pct_correct=0.743, test/test_fwd_pct_correct=0.913, train/blurry_pixcorr=0, train/bwd_pct_correct=0.996, train/fwd_pct_correct=0.996, train/loss=5.6, train/loss_blurry_cont_total=0, train/loss_blurry_total=0, train/loss_clip_total=0.00639, train/loss_prior=0.186, train/lr=2.77e-5, train/num_steps=11253, train/recon_cossim=0.863, train/recon_mse=0.186]"
     ]
    },
    {
     "name": "stdout",
     "output_type": "stream",
     "text": [
      "\n",
      "---saved /root/autodl-tmp/fMRI/train_logs/multisubject_subj2_session1_1916/last ckpt!---\n",
      "\n"
     ]
    },
    {
     "name": "stderr",
     "output_type": "stream",
     "text": [
      " 81%|█████████████████████████████████████████████████████████████████████████████████████████████████████████████████████████████████████████████████████████████████████████████████████████████████████████████████████████████████████████████████████████████████████████████████████████████████████████████████████████████████████████████████████████████████████████████████████████████████████████████████████████████████████████████████████████████████████████████████████████████████████████████████████████████████████████████▏                                                                                                                             | 121/150 [1:56:06<33:13, 68.76s/it, test/blurry_pixcorr=0, test/loss=14, test/loss_clip_total=0.732, test/loss_prior=0.441, test/num_steps=122, test/recon_cossim=0, test/recon_mse=0, test/test_bwd_pct_correct=0.74, test/test_fwd_pct_correct=0.907, train/blurry_pixcorr=0, train/bwd_pct_correct=0.995, train/fwd_pct_correct=0.995, train/loss=6, train/loss_blurry_cont_total=0, train/loss_blurry_total=0, train/loss_clip_total=0.00814, train/loss_prior=0.2, train/lr=2.59e-5, train/num_steps=11346, train/recon_cossim=0.854, train/recon_mse=0.2]"
     ]
    },
    {
     "name": "stdout",
     "output_type": "stream",
     "text": [
      "---\n"
     ]
    },
    {
     "name": "stderr",
     "output_type": "stream",
     "text": [
      " 81%|█████████████████████████████████████████████████████████████████████████████████████████████████████████████████████████████████████████████████████████████████████████████████████████████████████████████████████████████████████████████████████████████████████████████████████████████████████████████████████████████████████████████████████████████████████████████████████████████████████████████████████████████████████████████████████████████████████████████████████████████████████████████████████████████████████████████████▍                                                                                                                         | 122/150 [1:56:23<30:26, 65.24s/it, test/blurry_pixcorr=0, test/loss=14, test/loss_clip_total=0.732, test/loss_prior=0.441, test/num_steps=122, test/recon_cossim=0, test/recon_mse=0, test/test_bwd_pct_correct=0.74, test/test_fwd_pct_correct=0.907, train/blurry_pixcorr=0, train/bwd_pct_correct=0.995, train/fwd_pct_correct=0.995, train/loss=6, train/loss_blurry_cont_total=0, train/loss_blurry_total=0, train/loss_clip_total=0.00814, train/loss_prior=0.2, train/lr=2.59e-5, train/num_steps=11346, train/recon_cossim=0.854, train/recon_mse=0.2]"
     ]
    },
    {
     "name": "stdout",
     "output_type": "stream",
     "text": [
      "\n",
      "---saved /root/autodl-tmp/fMRI/train_logs/multisubject_subj2_session1_1916/last ckpt!---\n",
      "\n"
     ]
    },
    {
     "name": "stderr",
     "output_type": "stream",
     "text": [
      " 81%|██████████████████████████████████████████████████████████████████████████████████████████████████████████████████████████████████████████████████████████████████████████████████████████████████████████████████████████████████████████████████████████████████████████████████████████████████████████████████████████████████████████████████████████████████████████████████████████████████████████████████████████████████████████████████████████████████████████████████████████████████████████████████████████████████████████▏                                                                                                                       | 122/150 [1:57:03<30:26, 65.24s/it, test/blurry_pixcorr=0, test/loss=12.3, test/loss_clip_total=0.728, test/loss_prior=0.384, test/num_steps=123, test/recon_cossim=0, test/recon_mse=0, test/test_bwd_pct_correct=0.75, test/test_fwd_pct_correct=0.907, train/blurry_pixcorr=0, train/bwd_pct_correct=0.999, train/fwd_pct_correct=0.999, train/loss=5.55, train/loss_blurry_cont_total=0, train/loss_blurry_total=0, train/loss_clip_total=0.00294, train/loss_prior=0.185, train/lr=2.41e-5, train/num_steps=11439, train/recon_cossim=0.865, train/recon_mse=0.185]"
     ]
    },
    {
     "name": "stdout",
     "output_type": "stream",
     "text": [
      "---\n"
     ]
    },
    {
     "name": "stderr",
     "output_type": "stream",
     "text": [
      " 82%|██████████████████████████████████████████████████████████████████████████████████████████████████████████████████████████████████████████████████████████████████████████████████████████████████████████████████████████████████████████████████████████████████████████████████████████████████████████████████████████████████████████████████████████████████████████████████████████████████████████████████████████████████████████████████████████████████████████████████████████████████████████████████████████████████████████████▍                                                                                                                   | 123/150 [1:57:20<28:09, 62.58s/it, test/blurry_pixcorr=0, test/loss=12.3, test/loss_clip_total=0.728, test/loss_prior=0.384, test/num_steps=123, test/recon_cossim=0, test/recon_mse=0, test/test_bwd_pct_correct=0.75, test/test_fwd_pct_correct=0.907, train/blurry_pixcorr=0, train/bwd_pct_correct=0.999, train/fwd_pct_correct=0.999, train/loss=5.55, train/loss_blurry_cont_total=0, train/loss_blurry_total=0, train/loss_clip_total=0.00294, train/loss_prior=0.185, train/lr=2.41e-5, train/num_steps=11439, train/recon_cossim=0.865, train/recon_mse=0.185]"
     ]
    },
    {
     "name": "stdout",
     "output_type": "stream",
     "text": [
      "\n",
      "---saved /root/autodl-tmp/fMRI/train_logs/multisubject_subj2_session1_1916/last ckpt!---\n",
      "\n"
     ]
    },
    {
     "name": "stderr",
     "output_type": "stream",
     "text": [
      " 82%|███████████████████████████████████████████████████████████████████████████████████████████████████████████████████████████████████████████████████████████████████████████████████████████████████████████████████████████████████████████████████████████████████████████████████████████████████████████████████████████████████████████████████████████████████████████████████████████████████████████████████████████████████████████████████████████████████████████████████████████████████████████████████████████████████████████████▎                                                                                                                   | 123/150 [1:57:59<28:09, 62.58s/it, test/blurry_pixcorr=0, test/loss=14.3, test/loss_clip_total=0.722, test/loss_prior=0.453, test/num_steps=124, test/recon_cossim=0, test/recon_mse=0, test/test_bwd_pct_correct=0.747, test/test_fwd_pct_correct=0.91, train/blurry_pixcorr=0, train/bwd_pct_correct=0.997, train/fwd_pct_correct=0.997, train/loss=6.2, train/loss_blurry_cont_total=0, train/loss_blurry_total=0, train/loss_clip_total=0.00432, train/loss_prior=0.206, train/lr=2.24e-5, train/num_steps=11532, train/recon_cossim=0.848, train/recon_mse=0.206]"
     ]
    },
    {
     "name": "stdout",
     "output_type": "stream",
     "text": [
      "---\n"
     ]
    },
    {
     "name": "stderr",
     "output_type": "stream",
     "text": [
      " 83%|███████████████████████████████████████████████████████████████████████████████████████████████████████████████████████████████████████████████████████████████████████████████████████████████████████████████████████████████████████████████████████████████████████████████████████████████████████████████████████████████████████████████████████████████████████████████████████████████████████████████████████████████████████████████████████████████████████████████████████████████████████████████████████████████████████████████████▌                                                                                                               | 124/150 [1:58:17<26:21, 60.83s/it, test/blurry_pixcorr=0, test/loss=14.3, test/loss_clip_total=0.722, test/loss_prior=0.453, test/num_steps=124, test/recon_cossim=0, test/recon_mse=0, test/test_bwd_pct_correct=0.747, test/test_fwd_pct_correct=0.91, train/blurry_pixcorr=0, train/bwd_pct_correct=0.997, train/fwd_pct_correct=0.997, train/loss=6.2, train/loss_blurry_cont_total=0, train/loss_blurry_total=0, train/loss_clip_total=0.00432, train/loss_prior=0.206, train/lr=2.24e-5, train/num_steps=11532, train/recon_cossim=0.848, train/recon_mse=0.206]"
     ]
    },
    {
     "name": "stdout",
     "output_type": "stream",
     "text": [
      "\n",
      "---saved /root/autodl-tmp/fMRI/train_logs/multisubject_subj2_session1_1916/last ckpt!---\n",
      "\n"
     ]
    },
    {
     "name": "stderr",
     "output_type": "stream",
     "text": [
      " 83%|██████████████████████████████████████████████████████████████████████████████████████████████████████████████████████████████████████████████████████████████████████████████████████████████████████████████████████████████████████████████████████████████████████████████████████████████████████████████████████████████████████████████████████████████████████████████████████████████████████████████████████████████████████████████████████████████████████████████████████████████████████████████████████████████████████████████████▋                                                                                                               | 124/150 [1:58:56<26:21, 60.83s/it, test/blurry_pixcorr=0, test/loss=12.5, test/loss_clip_total=0.722, test/loss_prior=0.394, test/num_steps=125, test/recon_cossim=0, test/recon_mse=0, test/test_bwd_pct_correct=0.75, test/test_fwd_pct_correct=0.913, train/blurry_pixcorr=0, train/bwd_pct_correct=0.997, train/fwd_pct_correct=0.997, train/loss=5.55, train/loss_blurry_cont_total=0, train/loss_blurry_total=0, train/loss_clip_total=0.00441, train/loss_prior=0.185, train/lr=2.08e-5, train/num_steps=11625, train/recon_cossim=0.864, train/recon_mse=0.185]"
     ]
    },
    {
     "name": "stdout",
     "output_type": "stream",
     "text": [
      "---\n",
      "\n",
      "---saved /root/autodl-tmp/fMRI/train_logs/multisubject_subj2_session1_1916/last ckpt!---\n",
      "\n"
     ]
    },
    {
     "name": "stderr",
     "output_type": "stream",
     "text": [
      " 83%|██████████████████████████████████████████████████████████████████████████████████████████████████████████████████████████████████████████████████████████████████████████████████████████████████████████████████████████████████████████████████████████████████████████████████████████████████████████████████████████████████████████████████████████████████████████████████████████████████████████████████████████████████████████████████████████████████████████████████████████████████████████████████████████████████████████████████████████▎                                                                                                           | 125/150 [1:59:53<24:50, 59.62s/it, test/blurry_pixcorr=0, test/loss=14.1, test/loss_clip_total=0.727, test/loss_prior=0.447, test/num_steps=126, test/recon_cossim=0, test/recon_mse=0, test/test_bwd_pct_correct=0.75, test/test_fwd_pct_correct=0.91, train/blurry_pixcorr=0, train/bwd_pct_correct=0.991, train/fwd_pct_correct=0.991, train/loss=5.72, train/loss_blurry_cont_total=0, train/loss_blurry_total=0, train/loss_clip_total=0.0144, train/loss_prior=0.19, train/lr=1.92e-5, train/num_steps=11718, train/recon_cossim=0.861, train/recon_mse=0.19]"
     ]
    },
    {
     "name": "stdout",
     "output_type": "stream",
     "text": [
      "---\n"
     ]
    },
    {
     "name": "stderr",
     "output_type": "stream",
     "text": [
      " 84%|██████████████████████████████████████████████████████████████████████████████████████████████████████████████████████████████████████████████████████████████████████████████████████████████████████████████████████████████████████████████████████████████████████████████████████████████████████████████████████████████████████████████████████████████████████████████████████████████████████████████████████████████████████████████████████████████████████████████████████████████████████████████████████████████████████████████████████████████▋                                                                                                       | 126/150 [2:00:10<23:31, 58.83s/it, test/blurry_pixcorr=0, test/loss=14.1, test/loss_clip_total=0.727, test/loss_prior=0.447, test/num_steps=126, test/recon_cossim=0, test/recon_mse=0, test/test_bwd_pct_correct=0.75, test/test_fwd_pct_correct=0.91, train/blurry_pixcorr=0, train/bwd_pct_correct=0.991, train/fwd_pct_correct=0.991, train/loss=5.72, train/loss_blurry_cont_total=0, train/loss_blurry_total=0, train/loss_clip_total=0.0144, train/loss_prior=0.19, train/lr=1.92e-5, train/num_steps=11718, train/recon_cossim=0.861, train/recon_mse=0.19]"
     ]
    },
    {
     "name": "stdout",
     "output_type": "stream",
     "text": [
      "\n",
      "---saved /root/autodl-tmp/fMRI/train_logs/multisubject_subj2_session1_1916/last ckpt!---\n",
      "\n"
     ]
    },
    {
     "name": "stderr",
     "output_type": "stream",
     "text": [
      " 84%|████████████████████████████████████████████████████████████████████████████████████████████████████████████████████████████████████████████████████████████████████████████████████████████████████████████████████████████████████████████████████████████████████████████████████████████████████████████████████████████████████████████████████████████████████████████████████████████████████████████████████████████████████████████████████████████████████████████████████████████████████████████████████████████████████████████████████████████▉                                                                                                       | 126/150 [2:00:50<23:31, 58.83s/it, test/blurry_pixcorr=0, test/loss=17.4, test/loss_clip_total=0.727, test/loss_prior=0.555, test/num_steps=127, test/recon_cossim=0, test/recon_mse=0, test/test_bwd_pct_correct=0.75, test/test_fwd_pct_correct=0.91, train/blurry_pixcorr=0, train/bwd_pct_correct=0.992, train/fwd_pct_correct=0.992, train/loss=5.37, train/loss_blurry_cont_total=0, train/loss_blurry_total=0, train/loss_clip_total=0.0119, train/loss_prior=0.179, train/lr=1.77e-5, train/num_steps=11811, train/recon_cossim=0.868, train/recon_mse=0.179]"
     ]
    },
    {
     "name": "stdout",
     "output_type": "stream",
     "text": [
      "---\n"
     ]
    },
    {
     "name": "stderr",
     "output_type": "stream",
     "text": [
      " 85%|█████████████████████████████████████████████████████████████████████████████████████████████████████████████████████████████████████████████████████████████████████████████████████████████████████████████████████████████████████████████████████████████████████████████████████████████████████████████████████████████████████████████████████████████████████████████████████████████████████████████████████████████████████████████████████████████████████████████████████████████████████████████████████████████████████████████████████████████████▎                                                                                                  | 127/150 [2:01:07<22:16, 58.10s/it, test/blurry_pixcorr=0, test/loss=17.4, test/loss_clip_total=0.727, test/loss_prior=0.555, test/num_steps=127, test/recon_cossim=0, test/recon_mse=0, test/test_bwd_pct_correct=0.75, test/test_fwd_pct_correct=0.91, train/blurry_pixcorr=0, train/bwd_pct_correct=0.992, train/fwd_pct_correct=0.992, train/loss=5.37, train/loss_blurry_cont_total=0, train/loss_blurry_total=0, train/loss_clip_total=0.0119, train/loss_prior=0.179, train/lr=1.77e-5, train/num_steps=11811, train/recon_cossim=0.868, train/recon_mse=0.179]"
     ]
    },
    {
     "name": "stdout",
     "output_type": "stream",
     "text": [
      "\n",
      "---saved /root/autodl-tmp/fMRI/train_logs/multisubject_subj2_session1_1916/last ckpt!---\n",
      "\n"
     ]
    },
    {
     "name": "stderr",
     "output_type": "stream",
     "text": [
      " 85%|██████████████████████████████████████████████████████████████████████████████████████████████████████████████████████████████████████████████████████████████████████████████████████████████████████████████████████████████████████████████████████████████████████████████████████████████████████████████████████████████████████████████████████████████████████████████████████████████████████████████████████████████████████████████████████████████████████████████████████████████████████████████████████████████████████████████████████████████████                                                                                                   | 127/150 [2:01:46<22:16, 58.10s/it, test/blurry_pixcorr=0, test/loss=9.86, test/loss_clip_total=0.728, test/loss_prior=0.304, test/num_steps=128, test/recon_cossim=0, test/recon_mse=0, test/test_bwd_pct_correct=0.75, test/test_fwd_pct_correct=0.907, train/blurry_pixcorr=0, train/bwd_pct_correct=0.991, train/fwd_pct_correct=0.991, train/loss=5.73, train/loss_blurry_cont_total=0, train/loss_blurry_total=0, train/loss_clip_total=0.0143, train/loss_prior=0.19, train/lr=1.62e-5, train/num_steps=11904, train/recon_cossim=0.861, train/recon_mse=0.19]"
     ]
    },
    {
     "name": "stdout",
     "output_type": "stream",
     "text": [
      "---\n",
      "\n",
      "---saved /root/autodl-tmp/fMRI/train_logs/multisubject_subj2_session1_1916/last ckpt!---\n",
      "\n"
     ]
    },
    {
     "name": "stderr",
     "output_type": "stream",
     "text": [
      " 85%|████████████████████████████████████████████████████████████████████████████████████████████████████████████████████████████████████████████████████████████████████████████████████████████████████████████████████████████████████████████████████████████████████████████████████████████████████████████████████████████████████████████████████████████████████████████████████████████████████████████████████████████████████████████████████████████████████████████████████████████████████████████████████████████████████████████████████████████████████▋                                                                                              | 128/150 [2:02:42<21:06, 57.59s/it, test/blurry_pixcorr=0, test/loss=14.6, test/loss_clip_total=0.731, test/loss_prior=0.462, test/num_steps=129, test/recon_cossim=0, test/recon_mse=0, test/test_bwd_pct_correct=0.747, test/test_fwd_pct_correct=0.91, train/blurry_pixcorr=0, train/bwd_pct_correct=0.996, train/fwd_pct_correct=0.996, train/loss=5.67, train/loss_blurry_cont_total=0, train/loss_blurry_total=0, train/loss_clip_total=0.00639, train/loss_prior=0.189, train/lr=1.48e-5, train/num_steps=11997, train/recon_cossim=0.86, train/recon_mse=0.189]"
     ]
    },
    {
     "name": "stdout",
     "output_type": "stream",
     "text": [
      "---\n"
     ]
    },
    {
     "name": "stderr",
     "output_type": "stream",
     "text": [
      " 86%|████████████████████████████████████████████████████████████████████████████████████████████████████████████████████████████████████████████████████████████████████████████████████████████████████████████████████████████████████████████████████████████████████████████████████████████████████████████████████████████████████████████████████████████████████████████████████████████████████████████████████████████████████████████████████████████████████████████████████████████████████████████████████████████████████████████████████████████████████████▉                                                                                          | 129/150 [2:02:59<19:58, 57.09s/it, test/blurry_pixcorr=0, test/loss=14.6, test/loss_clip_total=0.731, test/loss_prior=0.462, test/num_steps=129, test/recon_cossim=0, test/recon_mse=0, test/test_bwd_pct_correct=0.747, test/test_fwd_pct_correct=0.91, train/blurry_pixcorr=0, train/bwd_pct_correct=0.996, train/fwd_pct_correct=0.996, train/loss=5.67, train/loss_blurry_cont_total=0, train/loss_blurry_total=0, train/loss_clip_total=0.00639, train/loss_prior=0.189, train/lr=1.48e-5, train/num_steps=11997, train/recon_cossim=0.86, train/recon_mse=0.189]"
     ]
    },
    {
     "name": "stdout",
     "output_type": "stream",
     "text": [
      "\n",
      "---saved /root/autodl-tmp/fMRI/train_logs/multisubject_subj2_session1_1916/last ckpt!---\n",
      "\n"
     ]
    },
    {
     "name": "stderr",
     "output_type": "stream",
     "text": [
      " 86%|████████████████████████████████████████████████████████████████████████████████████████████████████████████████████████████████████████████████████████████████████████████████████████████████████████████████████████████████████████████████████████████████████████████████████████████████████████████████████████████████████████████████████████████████████████████████████████████████████████████████████████████████████████████████████████████████████████████████████████████████████████████████████████████████████████████████████████████████████████▉                                                                                          | 129/150 [2:03:38<19:58, 57.09s/it, test/blurry_pixcorr=0, test/loss=18.7, test/loss_clip_total=0.73, test/loss_prior=0.601, test/num_steps=130, test/recon_cossim=0, test/recon_mse=0, test/test_bwd_pct_correct=0.743, test/test_fwd_pct_correct=0.91, train/blurry_pixcorr=0, train/bwd_pct_correct=0.995, train/fwd_pct_correct=0.995, train/loss=5.57, train/loss_blurry_cont_total=0, train/loss_blurry_total=0, train/loss_clip_total=0.00825, train/loss_prior=0.186, train/lr=1.34e-5, train/num_steps=12090, train/recon_cossim=0.864, train/recon_mse=0.186]"
     ]
    },
    {
     "name": "stdout",
     "output_type": "stream",
     "text": [
      "---\n",
      "\n",
      "---saved /root/autodl-tmp/fMRI/train_logs/multisubject_subj2_session1_1916/last ckpt!---\n",
      "\n"
     ]
    },
    {
     "name": "stderr",
     "output_type": "stream",
     "text": [
      " 87%|███████████████████████████████████████████████████████████████████████████████████████████████████████████████████████████████████████████████████████████████████████████████████████████████████████████████████████████████████████████████████████████████████████████████████████████████████████████████████████████████████████████████████████████████████████████████████████████████████████████████████████████████████████████████████████████████████████████████████████████████████████████████████████████████████████████████████████████████████████████████▊                                                                                      | 130/150 [2:04:34<18:52, 56.65s/it, test/blurry_pixcorr=0, test/loss=13.9, test/loss_clip_total=0.73, test/loss_prior=0.439, test/num_steps=131, test/recon_cossim=0, test/recon_mse=0, test/test_bwd_pct_correct=0.737, test/test_fwd_pct_correct=0.91, train/blurry_pixcorr=0, train/bwd_pct_correct=0.996, train/fwd_pct_correct=0.996, train/loss=5.1, train/loss_blurry_cont_total=0, train/loss_blurry_total=0, train/loss_clip_total=0.00655, train/loss_prior=0.17, train/lr=1.22e-5, train/num_steps=12183, train/recon_cossim=0.875, train/recon_mse=0.17]"
     ]
    },
    {
     "name": "stdout",
     "output_type": "stream",
     "text": [
      "---\n",
      "\n",
      "---saved /root/autodl-tmp/fMRI/train_logs/multisubject_subj2_session1_1916/last ckpt!---\n",
      "\n"
     ]
    },
    {
     "name": "stderr",
     "output_type": "stream",
     "text": [
      " 87%|█████████████████████████████████████████████████████████████████████████████████████████████████████████████████████████████████████████████████████████████████████████████████████████████████████████████████████████████████████████████████████████████████████████████████████████████████████████████████████████████████████████████████████████████████████████████████████████████████████████████████████████████████████████████████████████████████████████████████████████████████████████████████████████████████████████████████████████████████████████████████▌                                                                                 | 131/150 [2:05:30<17:50, 56.37s/it, test/blurry_pixcorr=0, test/loss=16.4, test/loss_clip_total=0.727, test/loss_prior=0.524, test/num_steps=132, test/recon_cossim=0, test/recon_mse=0, test/test_bwd_pct_correct=0.74, test/test_fwd_pct_correct=0.91, train/blurry_pixcorr=0, train/bwd_pct_correct=0.999, train/fwd_pct_correct=0.999, train/loss=5.52, train/loss_blurry_cont_total=0, train/loss_blurry_total=0, train/loss_clip_total=0.00267, train/loss_prior=0.184, train/lr=1.09e-5, train/num_steps=12276, train/recon_cossim=0.864, train/recon_mse=0.184]"
     ]
    },
    {
     "name": "stdout",
     "output_type": "stream",
     "text": [
      "---\n",
      "\n",
      "---saved /root/autodl-tmp/fMRI/train_logs/multisubject_subj2_session1_1916/last ckpt!---\n",
      "\n"
     ]
    },
    {
     "name": "stderr",
     "output_type": "stream",
     "text": [
      " 88%|█████████████████████████████████████████████████████████████████████████████████████████████████████████████████████████████████████████████████████████████████████████████████████████████████████████████████████████████████████████████████████████████████████████████████████████████████████████████████████████████████████████████████████████████████████████████████████████████████████████████████████████████████████████████████████████████████████████████████████████████████████████████████████████████████████████████████████████████████████████████████████▊                                                                             | 132/150 [2:06:26<16:51, 56.22s/it, test/blurry_pixcorr=0, test/loss=17.4, test/loss_clip_total=0.728, test/loss_prior=0.555, test/num_steps=133, test/recon_cossim=0, test/recon_mse=0, test/test_bwd_pct_correct=0.743, test/test_fwd_pct_correct=0.91, train/blurry_pixcorr=0, train/bwd_pct_correct=0.993, train/fwd_pct_correct=0.993, train/loss=5.89, train/loss_blurry_cont_total=0, train/loss_blurry_total=0, train/loss_clip_total=0.0101, train/loss_prior=0.196, train/lr=9.77e-6, train/num_steps=12369, train/recon_cossim=0.856, train/recon_mse=0.196]"
     ]
    },
    {
     "name": "stdout",
     "output_type": "stream",
     "text": [
      "---\n"
     ]
    },
    {
     "name": "stderr",
     "output_type": "stream",
     "text": [
      " 89%|██████████████████████████████████████████████████████████████████████████████████████████████████████████████████████████████████████████████████████████████████████████████████████████████████████████████████████████████████████████████████████████████████████████████████████████████████████████████████████████████████████████████████████████████████████████████████████████████████████████████████████████████████████████████████████████████████████████████████████████████████████████████████████████████████████████████████████████████████████████████████████████▏                                                                        | 133/150 [2:07:16<18:48, 66.37s/it, test/blurry_pixcorr=0, test/loss=17.4, test/loss_clip_total=0.728, test/loss_prior=0.555, test/num_steps=133, test/recon_cossim=0, test/recon_mse=0, test/test_bwd_pct_correct=0.743, test/test_fwd_pct_correct=0.91, train/blurry_pixcorr=0, train/bwd_pct_correct=0.993, train/fwd_pct_correct=0.993, train/loss=5.89, train/loss_blurry_cont_total=0, train/loss_blurry_total=0, train/loss_clip_total=0.0101, train/loss_prior=0.196, train/lr=9.77e-6, train/num_steps=12369, train/recon_cossim=0.856, train/recon_mse=0.196]"
     ]
    },
    {
     "name": "stdout",
     "output_type": "stream",
     "text": [
      "\n",
      "---saved /root/autodl-tmp/fMRI/train_logs/multisubject_subj2_session1_1916/last ckpt!---\n",
      "\n"
     ]
    },
    {
     "name": "stderr",
     "output_type": "stream",
     "text": [
      " 89%|████████████████████████████████████████████████████████████████████████████████████████████████████████████████████████████████████████████████████████████████████████████████████████████████████████████████████████████████████████████████████████████████████████████████████████████████████████████████████████████████████████████████████████████████████████████████████████████████████████████████████████████████████████████████████████████████████████████████████████████████████████████████████████████████████████████████████████████████████████████████████████████▊                                                                         | 133/150 [2:07:56<18:48, 66.37s/it, test/blurry_pixcorr=0, test/loss=16.8, test/loss_clip_total=0.73, test/loss_prior=0.536, test/num_steps=134, test/recon_cossim=0, test/recon_mse=0, test/test_bwd_pct_correct=0.74, test/test_fwd_pct_correct=0.913, train/blurry_pixcorr=0, train/bwd_pct_correct=0.996, train/fwd_pct_correct=0.996, train/loss=5.4, train/loss_blurry_cont_total=0, train/loss_blurry_total=0, train/loss_clip_total=0.00656, train/loss_prior=0.18, train/lr=8.67e-6, train/num_steps=12462, train/recon_cossim=0.868, train/recon_mse=0.18]"
     ]
    },
    {
     "name": "stdout",
     "output_type": "stream",
     "text": [
      "---\n"
     ]
    },
    {
     "name": "stderr",
     "output_type": "stream",
     "text": [
      " 89%|█████████████████████████████████████████████████████████████████████████████████████████████████████████████████████████████████████████████████████████████████████████████████████████████████████████████████████████████████████████████████████████████████████████████████████████████████████████████████████████████████████████████████████████████████████████████████████████████████████████████████████████████████████████████████████████████████████████████████████████████████████████████████████████████████████████████████████████████████████████████████████████████████                                                                     | 134/150 [2:08:21<17:33, 65.82s/it, test/blurry_pixcorr=0, test/loss=16.8, test/loss_clip_total=0.73, test/loss_prior=0.536, test/num_steps=134, test/recon_cossim=0, test/recon_mse=0, test/test_bwd_pct_correct=0.74, test/test_fwd_pct_correct=0.913, train/blurry_pixcorr=0, train/bwd_pct_correct=0.996, train/fwd_pct_correct=0.996, train/loss=5.4, train/loss_blurry_cont_total=0, train/loss_blurry_total=0, train/loss_clip_total=0.00656, train/loss_prior=0.18, train/lr=8.67e-6, train/num_steps=12462, train/recon_cossim=0.868, train/recon_mse=0.18]"
     ]
    },
    {
     "name": "stdout",
     "output_type": "stream",
     "text": [
      "\n",
      "---saved /root/autodl-tmp/fMRI/train_logs/multisubject_subj2_session1_1916/last ckpt!---\n",
      "\n"
     ]
    },
    {
     "name": "stderr",
     "output_type": "stream",
     "text": [
      " 89%|██████████████████████████████████████████████████████████████████████████████████████████████████████████████████████████████████████████████████████████████████████████████████████████████████████████████████████████████████████████████████████████████████████████████████████████████████████████████████████████████████████████████████████████████████████████████████████████████████████████████████████████████████████████████████████████████████████████████████████████████████████████████████████████████████████████████████████████████████████████████████████████████▍                                                                    | 134/150 [2:09:00<17:33, 65.82s/it, test/blurry_pixcorr=0, test/loss=18.4, test/loss_clip_total=0.731, test/loss_prior=0.589, test/num_steps=135, test/recon_cossim=0, test/recon_mse=0, test/test_bwd_pct_correct=0.74, test/test_fwd_pct_correct=0.91, train/blurry_pixcorr=0, train/bwd_pct_correct=0.996, train/fwd_pct_correct=0.996, train/loss=5.63, train/loss_blurry_cont_total=0, train/loss_blurry_total=0, train/loss_clip_total=0.00639, train/loss_prior=0.187, train/lr=7.64e-6, train/num_steps=12555, train/recon_cossim=0.861, train/recon_mse=0.187]"
     ]
    },
    {
     "name": "stdout",
     "output_type": "stream",
     "text": [
      "---\n",
      "\n",
      "---saved /root/autodl-tmp/fMRI/train_logs/multisubject_subj2_session1_1916/last ckpt!---\n",
      "\n"
     ]
    },
    {
     "name": "stderr",
     "output_type": "stream",
     "text": [
      " 90%|████████████████████████████████████████████████████████████████████████████████████████████████████████████████████████████████████████████████████████████████████████████████████████████████████████████████████████████████████████████████████████████████████████████████████████████████████████████████████████████████████████████████████████████████████████████████████████████████████████████████████████████████████████████████████████████████████████████████████████████████████████████████████████████████████████████████████████████████████████████████████████████████▉                                                                | 135/150 [2:10:04<16:20, 65.39s/it, test/blurry_pixcorr=0, test/loss=18.9, test/loss_clip_total=0.728, test/loss_prior=0.607, test/num_steps=136, test/recon_cossim=0, test/recon_mse=0, test/test_bwd_pct_correct=0.743, test/test_fwd_pct_correct=0.913, train/blurry_pixcorr=0, train/bwd_pct_correct=0.997, train/fwd_pct_correct=0.997, train/loss=5.87, train/loss_blurry_cont_total=0, train/loss_blurry_total=0, train/loss_clip_total=0.00518, train/loss_prior=0.196, train/lr=6.67e-6, train/num_steps=12648, train/recon_cossim=0.856, train/recon_mse=0.196]"
     ]
    },
    {
     "name": "stdout",
     "output_type": "stream",
     "text": [
      "---\n",
      "\n",
      "---saved /root/autodl-tmp/fMRI/train_logs/multisubject_subj2_session1_1916/last ckpt!---\n",
      "\n"
     ]
    },
    {
     "name": "stderr",
     "output_type": "stream",
     "text": [
      " 91%|███████████████████████████████████████████████████████████████████████████████████████████████████████████████████████████████████████████████████████████████████████████████████████████████████████████████████████████████████████████████████████████████████████████████████████████████████████████████████████████████████████████████████████████████████████████████████████████████████████████████████████████████████████████████████████████████████████████████████████████████████████████████████████████████████████████████████████████████████████████████████████████████████████▉                                                            | 136/150 [2:11:02<14:41, 62.96s/it, test/blurry_pixcorr=0, test/loss=14.9, test/loss_clip_total=0.726, test/loss_prior=0.471, test/num_steps=137, test/recon_cossim=0, test/recon_mse=0, test/test_bwd_pct_correct=0.747, test/test_fwd_pct_correct=0.913, train/blurry_pixcorr=0, train/bwd_pct_correct=0.989, train/fwd_pct_correct=0.989, train/loss=5.32, train/loss_blurry_cont_total=0, train/loss_blurry_total=0, train/loss_clip_total=0.016, train/loss_prior=0.177, train/lr=5.76e-6, train/num_steps=12741, train/recon_cossim=0.87, train/recon_mse=0.177]"
     ]
    },
    {
     "name": "stdout",
     "output_type": "stream",
     "text": [
      "---\n"
     ]
    },
    {
     "name": "stderr",
     "output_type": "stream",
     "text": [
      " 91%|████████████████████████████████████████████████████████████████████████████████████████████████████████████████████████████████████████████████████████████████████████████████████████████████████████████████████████████████████████████████████████████████████████████████████████████████████████████████████████████████████████████████████████████████████████████████████████████████████████████████████████████████████████████████████████████████████████████████████████████████████████████████████████████████████████████████████████████████████████████████████████████████████████████▏                                                       | 137/150 [2:11:21<13:19, 61.53s/it, test/blurry_pixcorr=0, test/loss=14.9, test/loss_clip_total=0.726, test/loss_prior=0.471, test/num_steps=137, test/recon_cossim=0, test/recon_mse=0, test/test_bwd_pct_correct=0.747, test/test_fwd_pct_correct=0.913, train/blurry_pixcorr=0, train/bwd_pct_correct=0.989, train/fwd_pct_correct=0.989, train/loss=5.32, train/loss_blurry_cont_total=0, train/loss_blurry_total=0, train/loss_clip_total=0.016, train/loss_prior=0.177, train/lr=5.76e-6, train/num_steps=12741, train/recon_cossim=0.87, train/recon_mse=0.177]"
     ]
    },
    {
     "name": "stdout",
     "output_type": "stream",
     "text": [
      "\n",
      "---saved /root/autodl-tmp/fMRI/train_logs/multisubject_subj2_session1_1916/last ckpt!---\n",
      "\n"
     ]
    },
    {
     "name": "stderr",
     "output_type": "stream",
     "text": [
      " 91%|██████████████████████████████████████████████████████████████████████████████████████████████████████████████████████████████████████████████████████████████████████████████████████████████████████████████████████████████████████████████████████████████████████████████████████████████████████████████████████████████████████████████████████████████████████████████████████████████████████████████████████████████████████████████████████████████████████████████████████████████████████████████████████████████████████████████████████████████████████████████████████████████████████████▎                                                       | 137/150 [2:12:00<13:19, 61.53s/it, test/blurry_pixcorr=0, test/loss=16.2, test/loss_clip_total=0.727, test/loss_prior=0.515, test/num_steps=138, test/recon_cossim=0, test/recon_mse=0, test/test_bwd_pct_correct=0.743, test/test_fwd_pct_correct=0.913, train/blurry_pixcorr=0, train/bwd_pct_correct=0.993, train/fwd_pct_correct=0.993, train/loss=5.64, train/loss_blurry_cont_total=0, train/loss_blurry_total=0, train/loss_clip_total=0.0104, train/loss_prior=0.188, train/lr=4.92e-6, train/num_steps=12834, train/recon_cossim=0.862, train/recon_mse=0.188]"
     ]
    },
    {
     "name": "stdout",
     "output_type": "stream",
     "text": [
      "---\n",
      "\n",
      "---saved /root/autodl-tmp/fMRI/train_logs/multisubject_subj2_session1_1916/last ckpt!---\n",
      "\n"
     ]
    },
    {
     "name": "stderr",
     "output_type": "stream",
     "text": [
      " 92%|█████████████████████████████████████████████████████████████████████████████████████████████████████████████████████████████████████████████████████████████████████████████████████████████████████████████████████████████████████████████████████████████████████████████████████████████████████████████████████████████████████████████████████████████████████████████████████████████████████████████████████████████████████████████████████████████████████████████████████████████████████████████████████████████████████████████████████████████████████████████████████████████████████████████▋                                                   | 138/150 [2:12:58<12:03, 60.32s/it, test/blurry_pixcorr=0, test/loss=17.8, test/loss_clip_total=0.727, test/loss_prior=0.569, test/num_steps=139, test/recon_cossim=0, test/recon_mse=0, test/test_bwd_pct_correct=0.737, test/test_fwd_pct_correct=0.913, train/blurry_pixcorr=0, train/bwd_pct_correct=0.996, train/fwd_pct_correct=0.996, train/loss=5.51, train/loss_blurry_cont_total=0, train/loss_blurry_total=0, train/loss_clip_total=0.00644, train/loss_prior=0.183, train/lr=4.15e-6, train/num_steps=12927, train/recon_cossim=0.864, train/recon_mse=0.183]"
     ]
    },
    {
     "name": "stdout",
     "output_type": "stream",
     "text": [
      "---\n"
     ]
    },
    {
     "name": "stderr",
     "output_type": "stream",
     "text": [
      " 93%|█████████████████████████████████████████████████████████████████████████████████████████████████████████████████████████████████████████████████████████████████████████████████████████████████████████████████████████████████████████████████████████████████████████████████████████████████████████████████████████████████████████████████████████████████████████████████████████████████████████████████████████████████████████████████████████████████████████████████████████████████████████████████████████████████████████████████████████████████████████████████████████████████████████████████▉                                               | 139/150 [2:13:14<10:46, 58.81s/it, test/blurry_pixcorr=0, test/loss=17.8, test/loss_clip_total=0.727, test/loss_prior=0.569, test/num_steps=139, test/recon_cossim=0, test/recon_mse=0, test/test_bwd_pct_correct=0.737, test/test_fwd_pct_correct=0.913, train/blurry_pixcorr=0, train/bwd_pct_correct=0.996, train/fwd_pct_correct=0.996, train/loss=5.51, train/loss_blurry_cont_total=0, train/loss_blurry_total=0, train/loss_clip_total=0.00644, train/loss_prior=0.183, train/lr=4.15e-6, train/num_steps=12927, train/recon_cossim=0.864, train/recon_mse=0.183]"
     ]
    },
    {
     "name": "stdout",
     "output_type": "stream",
     "text": [
      "\n",
      "---saved /root/autodl-tmp/fMRI/train_logs/multisubject_subj2_session1_1916/last ckpt!---\n",
      "\n"
     ]
    },
    {
     "name": "stderr",
     "output_type": "stream",
     "text": [
      " 93%|████████████████████████████████████████████████████████████████████████████████████████████████████████████████████████████████████████████████████████████████████████████████████████████████████████████████████████████████████████████████████████████████████████████████████████████████████████████████████████████████████████████████████████████████████████████████████████████████████████████████████████████████████████████████████████████████████████████████████████████████████████████████████████████████████████████████████████████████████████████████████████████████████████████████████▊                                               | 139/150 [2:13:53<10:46, 58.81s/it, test/blurry_pixcorr=0, test/loss=16.7, test/loss_clip_total=0.727, test/loss_prior=0.532, test/num_steps=140, test/recon_cossim=0, test/recon_mse=0, test/test_bwd_pct_correct=0.74, test/test_fwd_pct_correct=0.913, train/blurry_pixcorr=0, train/bwd_pct_correct=0.995, train/fwd_pct_correct=0.995, train/loss=5.42, train/loss_blurry_cont_total=0, train/loss_blurry_total=0, train/loss_clip_total=0.00927, train/loss_prior=0.18, train/lr=3.44e-6, train/num_steps=13020, train/recon_cossim=0.866, train/recon_mse=0.18]"
     ]
    },
    {
     "name": "stdout",
     "output_type": "stream",
     "text": [
      "---\n"
     ]
    },
    {
     "name": "stderr",
     "output_type": "stream",
     "text": [
      " 93%|█████████████████████████████████████████████████████████████████████████████████████████████████████████████████████████████████████████████████████████████████████████████████████████████████████████████████████████████████████████████████████████████████████████████████████████████████████████████████████████████████████████████████████████████████████████████████████████████████████████████████████████████████████████████████████████████████████████████████████████████████████████████████████████████████████████████████████████████████████████████████████████████████████████████████████████                                           | 140/150 [2:14:09<09:38, 57.86s/it, test/blurry_pixcorr=0, test/loss=16.7, test/loss_clip_total=0.727, test/loss_prior=0.532, test/num_steps=140, test/recon_cossim=0, test/recon_mse=0, test/test_bwd_pct_correct=0.74, test/test_fwd_pct_correct=0.913, train/blurry_pixcorr=0, train/bwd_pct_correct=0.995, train/fwd_pct_correct=0.995, train/loss=5.42, train/loss_blurry_cont_total=0, train/loss_blurry_total=0, train/loss_clip_total=0.00927, train/loss_prior=0.18, train/lr=3.44e-6, train/num_steps=13020, train/recon_cossim=0.866, train/recon_mse=0.18]"
     ]
    },
    {
     "name": "stdout",
     "output_type": "stream",
     "text": [
      "\n",
      "---saved /root/autodl-tmp/fMRI/train_logs/multisubject_subj2_session1_1916/last ckpt!---\n",
      "\n"
     ]
    },
    {
     "name": "stderr",
     "output_type": "stream",
     "text": [
      " 93%|███████████████████████████████████████████████████████████████████████████████████████████████████████████████████████████████████████████████████████████████████████████████████████████████████████████████████████████████████████████████████████████████████████████████████████████████████████████████████████████████████████████████████████████████████████████████████████████████████████████████████████████████████████████████████████████████████████████████████████████████████████████████████████████████████████████████████████████████████████████████████████████████████████████████████████▏                                          | 140/150 [2:14:49<09:38, 57.86s/it, test/blurry_pixcorr=0, test/loss=16.4, test/loss_clip_total=0.727, test/loss_prior=0.524, test/num_steps=141, test/recon_cossim=0, test/recon_mse=0, test/test_bwd_pct_correct=0.74, test/test_fwd_pct_correct=0.913, train/blurry_pixcorr=0, train/bwd_pct_correct=0.996, train/fwd_pct_correct=0.996, train/loss=5.38, train/loss_blurry_cont_total=0, train/loss_blurry_total=0, train/loss_clip_total=0.00661, train/loss_prior=0.179, train/lr=2.79e-6, train/num_steps=13113, train/recon_cossim=0.868, train/recon_mse=0.179]"
     ]
    },
    {
     "name": "stdout",
     "output_type": "stream",
     "text": [
      "---\n"
     ]
    },
    {
     "name": "stderr",
     "output_type": "stream",
     "text": [
      " 94%|███████████████████████████████████████████████████████████████████████████████████████████████████████████████████████████████████████████████████████████████████████████████████████████████████████████████████████████████████████████████████████████████████████████████████████████████████████████████████████████████████████████████████████████████████████████████████████████████████████████████████████████████████████████████████████████████████████████████████████████████████████████████████████████████████████████████████████████████████████████████████████████████████████████████████████████▍                                      | 141/150 [2:15:06<08:37, 57.45s/it, test/blurry_pixcorr=0, test/loss=16.4, test/loss_clip_total=0.727, test/loss_prior=0.524, test/num_steps=141, test/recon_cossim=0, test/recon_mse=0, test/test_bwd_pct_correct=0.74, test/test_fwd_pct_correct=0.913, train/blurry_pixcorr=0, train/bwd_pct_correct=0.996, train/fwd_pct_correct=0.996, train/loss=5.38, train/loss_blurry_cont_total=0, train/loss_blurry_total=0, train/loss_clip_total=0.00661, train/loss_prior=0.179, train/lr=2.79e-6, train/num_steps=13113, train/recon_cossim=0.868, train/recon_mse=0.179]"
     ]
    },
    {
     "name": "stdout",
     "output_type": "stream",
     "text": [
      "\n",
      "---saved /root/autodl-tmp/fMRI/train_logs/multisubject_subj2_session1_1916/last ckpt!---\n",
      "\n"
     ]
    },
    {
     "name": "stderr",
     "output_type": "stream",
     "text": [
      " 94%|████████████████████████████████████████████████████████████████████████████████████████████████████████████████████████████████████████████████████████████████████████████████████████████████████████████████████████████████████████████████████████████████████████████████████████████████████████████████████████████████████████████████████████████████████████████████████████████████████████████████████████████████████████████████████████████████████████████████████████████████████████████████████████████████████████████████████████████████████████████████████████████████████████████████████████████▍                                      | 141/150 [2:15:45<08:37, 57.45s/it, test/blurry_pixcorr=0, test/loss=14.6, test/loss_clip_total=0.726, test/loss_prior=0.462, test/num_steps=142, test/recon_cossim=0, test/recon_mse=0, test/test_bwd_pct_correct=0.74, test/test_fwd_pct_correct=0.913, train/blurry_pixcorr=0, train/bwd_pct_correct=0.991, train/fwd_pct_correct=0.991, train/loss=5.56, train/loss_blurry_cont_total=0, train/loss_blurry_total=0, train/loss_clip_total=0.0144, train/loss_prior=0.185, train/lr=2.22e-6, train/num_steps=13206, train/recon_cossim=0.863, train/recon_mse=0.185]"
     ]
    },
    {
     "name": "stdout",
     "output_type": "stream",
     "text": [
      "---\n"
     ]
    },
    {
     "name": "stderr",
     "output_type": "stream",
     "text": [
      " 95%|████████████████████████████████████████████████████████████████████████████████████████████████████████████████████████████████████████████████████████████████████████████████████████████████████████████████████████████████████████████████████████████████████████████████████████████████████████████████████████████████████████████████████████████████████████████████████████████████████████████████████████████████████████████████████████████████████████████████████████████████████████████████████████████████████████████████████████████████████████████████████████████████████████████████████████████████▋                                  | 142/150 [2:16:01<07:35, 56.91s/it, test/blurry_pixcorr=0, test/loss=14.6, test/loss_clip_total=0.726, test/loss_prior=0.462, test/num_steps=142, test/recon_cossim=0, test/recon_mse=0, test/test_bwd_pct_correct=0.74, test/test_fwd_pct_correct=0.913, train/blurry_pixcorr=0, train/bwd_pct_correct=0.991, train/fwd_pct_correct=0.991, train/loss=5.56, train/loss_blurry_cont_total=0, train/loss_blurry_total=0, train/loss_clip_total=0.0144, train/loss_prior=0.185, train/lr=2.22e-6, train/num_steps=13206, train/recon_cossim=0.863, train/recon_mse=0.185]"
     ]
    },
    {
     "name": "stdout",
     "output_type": "stream",
     "text": [
      "\n",
      "---saved /root/autodl-tmp/fMRI/train_logs/multisubject_subj2_session1_1916/last ckpt!---\n",
      "\n"
     ]
    },
    {
     "name": "stderr",
     "output_type": "stream",
     "text": [
      " 95%|███████████████████████████████████████████████████████████████████████████████████████████████████████████████████████████████████████████████████████████████████████████████████████████████████████████████████████████████████████████████████████████████████████████████████████████████████████████████████████████████████████████████████████████████████████████████████████████████████████████████████████████████████████████████████████████████████████████████████████████████████████████████████████████████████████████████████████████████████████████████████████████████████████████████████████████████▊                                  | 142/150 [2:16:41<07:35, 56.91s/it, test/blurry_pixcorr=0, test/loss=14.4, test/loss_clip_total=0.726, test/loss_prior=0.455, test/num_steps=143, test/recon_cossim=0, test/recon_mse=0, test/test_bwd_pct_correct=0.74, test/test_fwd_pct_correct=0.913, train/blurry_pixcorr=0, train/bwd_pct_correct=0.995, train/fwd_pct_correct=0.995, train/loss=5.36, train/loss_blurry_cont_total=0, train/loss_blurry_total=0, train/loss_clip_total=0.00834, train/loss_prior=0.178, train/lr=1.71e-6, train/num_steps=13299, train/recon_cossim=0.869, train/recon_mse=0.178]"
     ]
    },
    {
     "name": "stdout",
     "output_type": "stream",
     "text": [
      "---\n"
     ]
    },
    {
     "name": "stderr",
     "output_type": "stream",
     "text": [
      " 95%|████████████████████████████████████████████████████████████████████████████████████████████████████████████████████████████████████████████████████████████████████████████████████████████████████████████████████████████████████████████████████████████████████████████████████████████████████████████████████████████████████████████████████████████████████████████████████████████████████████████████████████████████████████████████████████████████████████████████████████████████████████████████████████████████████████████████████████████████████████████████████████████████████████████████████████████████████                              | 143/150 [2:16:57<06:36, 56.64s/it, test/blurry_pixcorr=0, test/loss=14.4, test/loss_clip_total=0.726, test/loss_prior=0.455, test/num_steps=143, test/recon_cossim=0, test/recon_mse=0, test/test_bwd_pct_correct=0.74, test/test_fwd_pct_correct=0.913, train/blurry_pixcorr=0, train/bwd_pct_correct=0.995, train/fwd_pct_correct=0.995, train/loss=5.36, train/loss_blurry_cont_total=0, train/loss_blurry_total=0, train/loss_clip_total=0.00834, train/loss_prior=0.178, train/lr=1.71e-6, train/num_steps=13299, train/recon_cossim=0.869, train/recon_mse=0.178]"
     ]
    },
    {
     "name": "stdout",
     "output_type": "stream",
     "text": [
      "\n",
      "---saved /root/autodl-tmp/fMRI/train_logs/multisubject_subj2_session1_1916/last ckpt!---\n",
      "\n"
     ]
    },
    {
     "name": "stderr",
     "output_type": "stream",
     "text": [
      " 95%|████████████████████████████████████████████████████████████████████████████████████████████████████████████████████████████████████████████████████████████████████████████████████████████████████████████████████████████████████████████████████████████████████████████████████████████████████████████████████████████████████████████████████████████████████████████████████████████████████████████████████████████████████████████████████████████████████████████████████████████████████████████████████████████████████████████████████████████████████████████████████████████████████████████████████████████████████                              | 143/150 [2:17:37<06:36, 56.64s/it, test/blurry_pixcorr=0, test/loss=19.2, test/loss_clip_total=0.726, test/loss_prior=0.617, test/num_steps=144, test/recon_cossim=0, test/recon_mse=0, test/test_bwd_pct_correct=0.74, test/test_fwd_pct_correct=0.913, train/blurry_pixcorr=0, train/bwd_pct_correct=0.996, train/fwd_pct_correct=0.996, train/loss=5.76, train/loss_blurry_cont_total=0, train/loss_blurry_total=0, train/loss_clip_total=0.00671, train/loss_prior=0.192, train/lr=1.27e-6, train/num_steps=13392, train/recon_cossim=0.858, train/recon_mse=0.192]"
     ]
    },
    {
     "name": "stdout",
     "output_type": "stream",
     "text": [
      "---\n",
      "\n",
      "---saved /root/autodl-tmp/fMRI/train_logs/multisubject_subj2_session1_1916/last ckpt!---\n",
      "\n"
     ]
    },
    {
     "name": "stderr",
     "output_type": "stream",
     "text": [
      " 96%|██████████████████████████████████████████████████████████████████████████████████████████████████████████████████████████████████████████████████████████████████████████████████████████████████████████████████████████████████████████████████████████████████████████████████████████████████████████████████████████████████████████████████████████████████████████████████████████████████████████████████████████████████████████████████████████████████████████████████████████████████████████████████████████████████████████████████████████████████████████████████████████████████████████████████████████████████████████▏                         | 144/150 [2:18:31<05:35, 55.90s/it, test/blurry_pixcorr=0, test/loss=14.6, test/loss_clip_total=0.727, test/loss_prior=0.464, test/num_steps=145, test/recon_cossim=0, test/recon_mse=0, test/test_bwd_pct_correct=0.743, test/test_fwd_pct_correct=0.913, train/blurry_pixcorr=0, train/bwd_pct_correct=0.995, train/fwd_pct_correct=0.995, train/loss=5.4, train/loss_blurry_cont_total=0, train/loss_blurry_total=0, train/loss_clip_total=0.00854, train/loss_prior=0.18, train/lr=8.89e-7, train/num_steps=13485, train/recon_cossim=0.867, train/recon_mse=0.18]"
     ]
    },
    {
     "name": "stdout",
     "output_type": "stream",
     "text": [
      "---\n"
     ]
    },
    {
     "name": "stderr",
     "output_type": "stream",
     "text": [
      " 97%|██████████████████████████████████████████████████████████████████████████████████████████████████████████████████████████████████████████████████████████████████████████████████████████████████████████████████████████████████████████████████████████████████████████████████████████████████████████████████████████████████████████████████████████████████████████████████████████████████████████████████████████████████████████████████████████████████████████████████████████████████████████████████████████████████████████████████████████████████████████████████████████████████████████████████████████████████████████████▌                     | 145/150 [2:18:45<04:36, 55.31s/it, test/blurry_pixcorr=0, test/loss=14.6, test/loss_clip_total=0.727, test/loss_prior=0.464, test/num_steps=145, test/recon_cossim=0, test/recon_mse=0, test/test_bwd_pct_correct=0.743, test/test_fwd_pct_correct=0.913, train/blurry_pixcorr=0, train/bwd_pct_correct=0.995, train/fwd_pct_correct=0.995, train/loss=5.4, train/loss_blurry_cont_total=0, train/loss_blurry_total=0, train/loss_clip_total=0.00854, train/loss_prior=0.18, train/lr=8.89e-7, train/num_steps=13485, train/recon_cossim=0.867, train/recon_mse=0.18]"
     ]
    },
    {
     "name": "stdout",
     "output_type": "stream",
     "text": [
      "\n",
      "---saved /root/autodl-tmp/fMRI/train_logs/multisubject_subj2_session1_1916/last ckpt!---\n",
      "\n"
     ]
    },
    {
     "name": "stderr",
     "output_type": "stream",
     "text": [
      " 97%|█████████████████████████████████████████████████████████████████████████████████████████████████████████████████████████████████████████████████████████████████████████████████████████████████████████████████████████████████████████████████████████████████████████████████████████████████████████████████████████████████████████████████████████████████████████████████████████████████████████████████████████████████████████████████████████████████████████████████████████████████████████████████████████████████████████████████████████████████████████████████████████████████████████████████████████████████████████████▌                     | 145/150 [2:19:25<04:36, 55.31s/it, test/blurry_pixcorr=0, test/loss=20.3, test/loss_clip_total=0.727, test/loss_prior=0.651, test/num_steps=146, test/recon_cossim=0, test/recon_mse=0, test/test_bwd_pct_correct=0.743, test/test_fwd_pct_correct=0.913, train/blurry_pixcorr=0, train/bwd_pct_correct=0.996, train/fwd_pct_correct=0.996, train/loss=5.39, train/loss_blurry_cont_total=0, train/loss_blurry_total=0, train/loss_clip_total=0.00661, train/loss_prior=0.18, train/lr=5.79e-7, train/num_steps=13578, train/recon_cossim=0.868, train/recon_mse=0.18]"
     ]
    },
    {
     "name": "stdout",
     "output_type": "stream",
     "text": [
      "---\n",
      "\n",
      "---saved /root/autodl-tmp/fMRI/train_logs/multisubject_subj2_session1_1916/last ckpt!---\n",
      "\n"
     ]
    },
    {
     "name": "stderr",
     "output_type": "stream",
     "text": [
      " 97%|█████████████████████████████████████████████████████████████████████████████████████████████████████████████████████████████████████████████████████████████████████████████████████████████████████████████████████████████████████████████████████████████████████████████████████████████████████████████████████████████████████████████████████████████████████████████████████████████████████████████████████████████████████████████████████████████████████████████████████████████████████████████████████████████████████████████████████████████████████████████████████████████████████████████████████████████████████████████████▊                 | 146/150 [2:20:19<03:40, 55.06s/it, test/blurry_pixcorr=0, test/loss=15.2, test/loss_clip_total=0.727, test/loss_prior=0.481, test/num_steps=147, test/recon_cossim=0, test/recon_mse=0, test/test_bwd_pct_correct=0.743, test/test_fwd_pct_correct=0.913, train/blurry_pixcorr=0, train/bwd_pct_correct=0.991, train/fwd_pct_correct=0.991, train/loss=5.56, train/loss_blurry_cont_total=0, train/loss_blurry_total=0, train/loss_clip_total=0.014, train/loss_prior=0.185, train/lr=3.36e-7, train/num_steps=13671, train/recon_cossim=0.863, train/recon_mse=0.185]"
     ]
    },
    {
     "name": "stdout",
     "output_type": "stream",
     "text": [
      "---\n"
     ]
    },
    {
     "name": "stderr",
     "output_type": "stream",
     "text": [
      " 98%|██████████████████████████████████████████████████████████████████████████████████████████████████████████████████████████████████████████████████████████████████████████████████████████████████████████████████████████████████████████████████████████████████████████████████████████████████████████████████████████████████████████████████████████████████████████████████████████████████████████████████████████████████████████████████████████████████████████████████████████████████████████████████████████████████████████████████████████████████████████████████████████████████████████████████████████████████████████████████████▏            | 147/150 [2:20:35<02:45, 55.13s/it, test/blurry_pixcorr=0, test/loss=15.2, test/loss_clip_total=0.727, test/loss_prior=0.481, test/num_steps=147, test/recon_cossim=0, test/recon_mse=0, test/test_bwd_pct_correct=0.743, test/test_fwd_pct_correct=0.913, train/blurry_pixcorr=0, train/bwd_pct_correct=0.991, train/fwd_pct_correct=0.991, train/loss=5.56, train/loss_blurry_cont_total=0, train/loss_blurry_total=0, train/loss_clip_total=0.014, train/loss_prior=0.185, train/lr=3.36e-7, train/num_steps=13671, train/recon_cossim=0.863, train/recon_mse=0.185]"
     ]
    },
    {
     "name": "stdout",
     "output_type": "stream",
     "text": [
      "\n",
      "---saved /root/autodl-tmp/fMRI/train_logs/multisubject_subj2_session1_1916/last ckpt!---\n",
      "\n"
     ]
    },
    {
     "name": "stderr",
     "output_type": "stream",
     "text": [
      " 98%|████████████████████████████████████████████████████████████████████████████████████████████████████████████████████████████████████████████████████████████████████████████████████████████████████████████████████████████████████████████████████████████████████████████████████████████████████████████████████████████████████████████████████████████████████████████████████████████████████████████████████████████████████████████████████████████████████████████████████████████████████████████████████████████████████████████████████████████████████████████████████████████████████████████████████████████████████████████████████▏            | 147/150 [2:21:14<02:45, 55.13s/it, test/blurry_pixcorr=0, test/loss=13.9, test/loss_clip_total=0.727, test/loss_prior=0.438, test/num_steps=148, test/recon_cossim=0, test/recon_mse=0, test/test_bwd_pct_correct=0.743, test/test_fwd_pct_correct=0.913, train/blurry_pixcorr=0, train/bwd_pct_correct=0.996, train/fwd_pct_correct=0.996, train/loss=5.43, train/loss_blurry_cont_total=0, train/loss_blurry_total=0, train/loss_clip_total=0.00657, train/loss_prior=0.181, train/lr=1.61e-7, train/num_steps=13764, train/recon_cossim=0.867, train/recon_mse=0.181]"
     ]
    },
    {
     "name": "stdout",
     "output_type": "stream",
     "text": [
      "---\n"
     ]
    },
    {
     "name": "stderr",
     "output_type": "stream",
     "text": [
      " 99%|████████████████████████████████████████████████████████████████████████████████████████████████████████████████████████████████████████████████████████████████████████████████████████████████████████████████████████████████████████████████████████████████████████████████████████████████████████████████████████████████████████████████████████████████████████████████████████████████████████████████████████████████████████████████████████████████████████████████████████████████████████████████████████████████████████████████████████████████████████████████████████████████████████████████████████████████████████████████████████▍        | 148/150 [2:21:31<01:50, 55.24s/it, test/blurry_pixcorr=0, test/loss=13.9, test/loss_clip_total=0.727, test/loss_prior=0.438, test/num_steps=148, test/recon_cossim=0, test/recon_mse=0, test/test_bwd_pct_correct=0.743, test/test_fwd_pct_correct=0.913, train/blurry_pixcorr=0, train/bwd_pct_correct=0.996, train/fwd_pct_correct=0.996, train/loss=5.43, train/loss_blurry_cont_total=0, train/loss_blurry_total=0, train/loss_clip_total=0.00657, train/loss_prior=0.181, train/lr=1.61e-7, train/num_steps=13764, train/recon_cossim=0.867, train/recon_mse=0.181]"
     ]
    },
    {
     "name": "stdout",
     "output_type": "stream",
     "text": [
      "\n",
      "---saved /root/autodl-tmp/fMRI/train_logs/multisubject_subj2_session1_1916/last ckpt!---\n",
      "\n"
     ]
    },
    {
     "name": "stderr",
     "output_type": "stream",
     "text": [
      " 99%|████████████████████████████████████████████████████████████████████████████████████████████████████████████████████████████████████████████████████████████████████████████████████████████████████████████████████████████████████████████████████████████████████████████████████████████████████████████████████████████████████████████████████████████████████████████████████████████████████████████████████████████████████████████████████████████████████████████████████████████████████████████████████████████████████████████████████████████████████████████████████████████████████████████████████████████████████████████████████████▍        | 148/150 [2:22:11<01:50, 55.24s/it, test/blurry_pixcorr=0, test/loss=14.5, test/loss_clip_total=0.727, test/loss_prior=0.459, test/num_steps=149, test/recon_cossim=0, test/recon_mse=0, test/test_bwd_pct_correct=0.743, test/test_fwd_pct_correct=0.913, train/blurry_pixcorr=0, train/bwd_pct_correct=0.999, train/fwd_pct_correct=0.999, train/loss=5.36, train/loss_blurry_cont_total=0, train/loss_blurry_total=0, train/loss_clip_total=0.00294, train/loss_prior=0.179, train/lr=5.26e-8, train/num_steps=13857, train/recon_cossim=0.869, train/recon_mse=0.179]"
     ]
    },
    {
     "name": "stdout",
     "output_type": "stream",
     "text": [
      "---\n",
      "\n",
      "---saved /root/autodl-tmp/fMRI/train_logs/multisubject_subj2_session1_1916/last ckpt!---\n",
      "\n"
     ]
    },
    {
     "name": "stderr",
     "output_type": "stream",
     "text": [
      " 99%|████████████████████████████████████████████████████████████████████████████████████████████████████████████████████████████████████████████████████████████████████████████████████████████████████████████████████████████████████████████████████████████████████████████████████████████████████████████████████████████████████████████████████████████████████████████████████████████████████████████████████████████████████████████████████████████████████████████████████████████████████████████████████████████████████████████████████████████████████████████████████████████████████████████████████████████████████████████████████████████▋    | 149/150 [2:23:07<00:55, 55.71s/it, test/blurry_pixcorr=0, test/loss=16.9, test/loss_clip_total=0.727, test/loss_prior=0.537, test/num_steps=150, test/recon_cossim=0, test/recon_mse=0, test/test_bwd_pct_correct=0.743, test/test_fwd_pct_correct=0.913, train/blurry_pixcorr=0, train/bwd_pct_correct=0.997, train/fwd_pct_correct=0.997, train/loss=5.48, train/loss_blurry_cont_total=0, train/loss_blurry_total=0, train/loss_clip_total=0.00483, train/loss_prior=0.182, train/lr=1.23e-8, train/num_steps=13950, train/recon_cossim=0.865, train/recon_mse=0.182]"
     ]
    },
    {
     "name": "stdout",
     "output_type": "stream",
     "text": [
      "---\n",
      "\n",
      "---saved /root/autodl-tmp/fMRI/train_logs/multisubject_subj2_session1_1916/last ckpt!---\n",
      "\n"
     ]
    },
    {
     "name": "stderr",
     "output_type": "stream",
     "text": [
      "100%|█████████████████████████████████████████████████████████████████████████████████████████████████████████████████████████████████████████████████████████████████████████████████████████████████████████████████████████████████████████████████████████████████████████████████████████████████████████████████████████████████████████████████████████████████████████████████████████████████████████████████████████████████████████████████████████████████████████████████████████████████████████████████████████████████████████████████████████████████████████████████████████████████████████████████████████████████████████████████████████████████| 150/150 [2:23:21<00:00, 57.34s/it, test/blurry_pixcorr=0, test/loss=16.9, test/loss_clip_total=0.727, test/loss_prior=0.537, test/num_steps=150, test/recon_cossim=0, test/recon_mse=0, test/test_bwd_pct_correct=0.743, test/test_fwd_pct_correct=0.913, train/blurry_pixcorr=0, train/bwd_pct_correct=0.997, train/fwd_pct_correct=0.997, train/loss=5.48, train/loss_blurry_cont_total=0, train/loss_blurry_total=0, train/loss_clip_total=0.00483, train/loss_prior=0.182, train/lr=1.23e-8, train/num_steps=13950, train/recon_cossim=0.865, train/recon_mse=0.182]\n"
     ]
    },
    {
     "name": "stdout",
     "output_type": "stream",
     "text": [
      "\n",
      "===Finished!===\n",
      "\n",
      "\n",
      "---saved /root/autodl-tmp/fMRI/train_logs/multisubject_subj2_session1_1916/last ckpt!---\n",
      "\n"
     ]
    }
   ],
   "source": [
    "for epoch in progress_bar:\n",
    "    model.train()\n",
    "\n",
    "    fwd_percent_correct = 0.\n",
    "    bwd_percent_correct = 0.\n",
    "    test_fwd_percent_correct = 0.\n",
    "    test_bwd_percent_correct = 0.\n",
    "    \n",
    "    recon_cossim = 0.\n",
    "    test_recon_cossim = 0.\n",
    "    recon_mse = 0.\n",
    "    test_recon_mse = 0.\n",
    "\n",
    "    loss_clip_total = 0.\n",
    "    loss_blurry_total = 0.\n",
    "    loss_blurry_cont_total = 0.\n",
    "    test_loss_clip_total = 0.\n",
    "    \n",
    "    loss_prior_total = 0.\n",
    "    test_loss_prior_total = 0.\n",
    "\n",
    "    blurry_pixcorr = 0.\n",
    "    test_blurry_pixcorr = 0. # needs >.456 to beat low-level subj01 results in mindeye v1\n",
    "\n",
    "    # pre-load all batches for this epoch (it's MUCH faster to pre-load in bulk than to separate loading per batch)\n",
    "    voxel_iters = {} # empty dict because diff subjects have differing # of voxels\n",
    "    image_iters = torch.zeros(num_iterations_per_epoch, batch_size*len(subj_list), 3, 224, 224).float()\n",
    "    annot_iters = {}\n",
    "    perm_iters, betas_iters, select_iters = {}, {}, {}\n",
    "    for s, train_dl in enumerate(train_dls):\n",
    "        with torch.cuda.amp.autocast(dtype=data_type):\n",
    "            for iter, (behav0, past_behav0, future_behav0, old_behav0) in enumerate(train_dl):    \n",
    "                image0 = images[behav0[:,0,0].cpu().long()].float()\n",
    "\n",
    "                image_iters[iter,s*batch_size:s*batch_size+batch_size] = image0\n",
    "                \n",
    "                voxel0 = voxels[f'subj0{subj_list[s]}'][behav0[:,0,5].cpu().long()]\n",
    "                voxel0 = torch.Tensor(voxel0)\n",
    "                \n",
    "                if seq_len==1:\n",
    "                    voxel0 = voxel0.unsqueeze(1)\n",
    "                else:\n",
    "                    if seq_past>0:\n",
    "                        past_behavior = past_behav0[:,:(seq_past),5].cpu().long()\n",
    "                        past_voxel0 = voxels[f'subj0{subj_list[s]}'][past_behavior]\n",
    "                        past_voxel0[past_behavior==-1] = voxel0[torch.where(past_behavior==-1)[0]] # replace invalid past voxels \n",
    "                        past_voxel0 = torch.Tensor(past_voxel0)\n",
    "\n",
    "                        # if shared1000, then you need to mask it out \n",
    "                        for p in range(seq_past):\n",
    "                            mask = (past_behav0[:,p,-1] == 1) # [16,] bool\n",
    "                            index = torch.nonzero(mask.cpu()).squeeze()\n",
    "                            past_voxel0[index,p,:] = torch.zeros_like(past_voxel0[index,p,:])\n",
    "\n",
    "                    if seq_future>0:\n",
    "                        future_behavior = future_behav0[:,:(seq_future),5].cpu().long()\n",
    "                        future_voxel0 = voxels[f'subj0{subj_list[s]}'][future_behavior]\n",
    "                        future_voxel0[future_behavior==-1] = voxel0[torch.where(future_behavior==-1)[0]] # replace invalid past voxels \n",
    "                        future_voxel0 = torch.Tensor(future_voxel0)\n",
    "\n",
    "                        # if shared1000, then you need to mask it out \n",
    "                        for p in range(seq_future):\n",
    "                            mask = (future_behav0[:,p,-1] == 1) # [16,] bool\n",
    "                            index = torch.nonzero(mask.cpu()).squeeze()\n",
    "                            future_voxel0[index,p,:] = torch.zeros_like(future_voxel0[index,p,:])\n",
    "\n",
    "                    # concatenate current timepoint with past/future\n",
    "                    if seq_past > 0 and seq_future > 0:\n",
    "                        voxel0 = torch.cat((voxel0.unsqueeze(1), past_voxel0), axis=1)\n",
    "                        voxel0 = torch.cat((voxel0, future_voxel0), axis=1)\n",
    "                    elif seq_past > 0:\n",
    "                        voxel0 = torch.cat((voxel0.unsqueeze(1), past_voxel0), axis=1)\n",
    "                    else:\n",
    "                        voxel0 = torch.cat((voxel0.unsqueeze(1), future_voxel0), axis=1)\n",
    "\n",
    "                # if epoch < int(mixup_pct * num_epochs):\n",
    "                #     voxel0, perm, betas, select = utils.mixco(voxel0)\n",
    "                #     perm_iters[f\"subj0{subj_list[s]}_iter{iter}\"] = perm\n",
    "                #     betas_iters[f\"subj0{subj_list[s]}_iter{iter}\"] = betas\n",
    "                #     select_iters[f\"subj0{subj_list[s]}_iter{iter}\"] = select\n",
    "\n",
    "                voxel_iters[f\"subj0{subj_list[s]}_iter{iter}\"] = voxel0\n",
    "\n",
    "                if iter >= num_iterations_per_epoch-1:\n",
    "                    break\n",
    "\n",
    "    # you now have voxel_iters and image_iters with num_iterations_per_epoch batches each\n",
    "    for train_i in range(num_iterations_per_epoch):\n",
    "        with torch.cuda.amp.autocast(dtype=data_type):\n",
    "            optimizer.zero_grad()\n",
    "            loss=0.\n",
    "\n",
    "            voxel_list = [voxel_iters[f\"subj0{s}_iter{train_i}\"].detach().to(device) for s in subj_list]\n",
    "            image = image_iters[train_i].detach()\n",
    "            image = image.to(device)\n",
    "\n",
    "            if use_image_aug: \n",
    "                image = img_augment(image)\n",
    "\n",
    "            clip_target = clip_img_embedder(image)\n",
    "            assert not torch.any(torch.isnan(clip_target))\n",
    "\n",
    "            # if epoch < int(mixup_pct * num_epochs):\n",
    "            #     perm_list = [perm_iters[f\"subj0{s}_iter{train_i}\"].detach().to(device) for s in subj_list]\n",
    "            #     perm = torch.cat(perm_list, dim=0)\n",
    "            #     betas_list = [betas_iters[f\"subj0{s}_iter{train_i}\"].detach().to(device) for s in subj_list]\n",
    "            #     betas = torch.cat(betas_list, dim=0)\n",
    "            #     select_list = [select_iters[f\"subj0{s}_iter{train_i}\"].detach().to(device) for s in subj_list]\n",
    "            #     select = torch.cat(select_list, dim=0)\n",
    "\n",
    "            voxel_ridge_list = [model.ridge(voxel_list[si],si) for si,s in enumerate(subj_list)]\n",
    "            voxel_ridge = torch.cat(voxel_ridge_list, dim=0)\n",
    "\n",
    "            backbone, clip_voxels, blurry_image_enc_ = model.backbone(voxel_ridge)\n",
    "            if epoch < int(mixup_pct * num_epochs):\n",
    "                    clip_voxels, perm, betas, select = utils.mixco(clip_voxels)\n",
    "                    # perm_iters[f\"subj0{subj_list[s]}_iter{iter}\"] = perm\n",
    "                    # betas_iters[f\"subj0{subj_list[s]}_iter{iter}\"] = betas\n",
    "                    # select_iters[f\"subj0{subj_list[s]}_iter{iter}\"] = select\n",
    "\n",
    "            if clip_scale>0:\n",
    "                clip_voxels_norm = nn.functional.normalize(clip_voxels.flatten(1), dim=-1)\n",
    "                clip_target_norm = nn.functional.normalize(clip_target.flatten(1), dim=-1)\n",
    "\n",
    "            if use_prior:\n",
    "                loss_prior, prior_out = model.diffusion_prior(text_embed=backbone, image_embed=clip_target)\n",
    "                loss_prior_total += loss_prior.item()\n",
    "                loss_prior *= prior_scale\n",
    "                loss += loss_prior\n",
    "\n",
    "                recon_cossim += nn.functional.cosine_similarity(prior_out, clip_target).mean().item()\n",
    "                recon_mse += mse(prior_out, clip_target).item()\n",
    "\n",
    "            if clip_scale>0:\n",
    "                if epoch < int(mixup_pct * num_epochs):                \n",
    "                    loss_clip = utils.mixco_nce(\n",
    "                        clip_voxels_norm,\n",
    "                        clip_target_norm,\n",
    "                        temp=.006,\n",
    "                        perm=perm, betas=betas, select=select)\n",
    "                else:\n",
    "                    epoch_temp = soft_loss_temps[epoch-int(mixup_pct*num_epochs)]\n",
    "                    loss_clip = utils.soft_clip_loss(\n",
    "                        clip_voxels_norm,\n",
    "                        clip_target_norm,\n",
    "                        temp=epoch_temp)\n",
    "\n",
    "                loss_clip_total += loss_clip.item()\n",
    "                loss_clip *= clip_scale\n",
    "                loss += loss_clip\n",
    "\n",
    "            if blurry_recon:     \n",
    "                image_enc_pred, transformer_feats = blurry_image_enc_\n",
    "\n",
    "                image_enc = autoenc.encode(2*image-1).latent_dist.mode() * 0.18215\n",
    "                loss_blurry = l1(image_enc_pred, image_enc)\n",
    "                loss_blurry_total += loss_blurry.item()\n",
    "\n",
    "                if epoch < int(mixup_pct * num_epochs):\n",
    "                    image_enc_shuf = image_enc[perm]\n",
    "                    betas_shape = [-1] + [1]*(len(image_enc.shape)-1)\n",
    "                    image_enc[select] = image_enc[select] * betas[select].reshape(*betas_shape) + \\\n",
    "                        image_enc_shuf[select] * (1 - betas[select]).reshape(*betas_shape)\n",
    "\n",
    "                image_norm = (image - mean)/std\n",
    "                image_aug = (blur_augs(image) - mean)/std\n",
    "                _, cnx_embeds = cnx(image_norm)\n",
    "                _, cnx_aug_embeds = cnx(image_aug)\n",
    "\n",
    "                cont_loss = utils.soft_cont_loss(\n",
    "                    nn.functional.normalize(transformer_feats.reshape(-1, transformer_feats.shape[-1]), dim=-1),\n",
    "                    nn.functional.normalize(cnx_embeds.reshape(-1, cnx_embeds.shape[-1]), dim=-1),\n",
    "                    nn.functional.normalize(cnx_aug_embeds.reshape(-1, cnx_embeds.shape[-1]), dim=-1),\n",
    "                    temp=0.2)\n",
    "                loss_blurry_cont_total += cont_loss.item()\n",
    "\n",
    "                loss += (loss_blurry + 0.1*cont_loss) * blur_scale #/.18215\n",
    "\n",
    "            if clip_scale>0:\n",
    "                # forward and backward top 1 accuracy        \n",
    "                labels = torch.arange(len(clip_voxels_norm)).to(clip_voxels_norm.device) \n",
    "                fwd_percent_correct += utils.topk(utils.batchwise_cosine_similarity(clip_voxels_norm, clip_target_norm), labels, k=1).item()\n",
    "                bwd_percent_correct += utils.topk(utils.batchwise_cosine_similarity(clip_target_norm, clip_voxels_norm), labels, k=1).item()\n",
    "\n",
    "            if blurry_recon:\n",
    "                with torch.no_grad():\n",
    "                    # only doing pixcorr eval on a subset of the samples per batch because its costly & slow to compute autoenc.decode()\n",
    "                    random_samps = np.random.choice(np.arange(len(image)), size=len(image)//5, replace=False)\n",
    "                    blurry_recon_images = (autoenc.decode(image_enc_pred[random_samps]/0.18215).sample/ 2 + 0.5).clamp(0,1)\n",
    "                    pixcorr = utils.pixcorr(image[random_samps], blurry_recon_images)\n",
    "                    blurry_pixcorr += pixcorr.item()\n",
    "\n",
    "            utils.check_loss(loss)\n",
    "            accelerator.backward(loss)\n",
    "            optimizer.step()\n",
    "\n",
    "            losses.append(loss.item())\n",
    "            lrs.append(optimizer.param_groups[0]['lr'])\n",
    "\n",
    "            if lr_scheduler_type is not None:\n",
    "                lr_scheduler.step()\n",
    "    \n",
    "    \n",
    "    del voxel_list,image,clip_target,voxel_ridge,voxel_ridge_list,backbone, clip_voxels, blurry_image_enc_,loss_prior, prior_out\n",
    "    torch.cuda.empty_cache()\n",
    "    gc.collect()\n",
    "    \n",
    "    \n",
    "    model.eval()\n",
    "    if local_rank==0:\n",
    "        with torch.no_grad(), torch.cuda.amp.autocast(dtype=data_type): \n",
    "            for test_i, (behav, past_behav, future_behav, old_behav) in enumerate(test_dl):  \n",
    "                # all test samples should be loaded per batch such that test_i should never exceed 0\n",
    "                assert len(behav) == num_test\n",
    "\n",
    "                ## Average same-image repeats ##\n",
    "                if test_image is None:\n",
    "                    voxel = voxels[f'subj0{subj}'][behav[:,0,5].cpu().long()]\n",
    "                    \n",
    "                    if seq_len==1:\n",
    "                        voxel = voxel.unsqueeze(1)\n",
    "                    else:\n",
    "                        if seq_past>0:\n",
    "                            past_behavior = past_behav[:,:(seq_past),5].cpu().long()\n",
    "                            past_voxels = voxels[f'subj0{subj}'][past_behavior]\n",
    "                            if torch.any(past_behavior==-1).item(): # remove invalid voxels (-1 if there is no timepoint available)\n",
    "                                past_voxels[torch.where(past_behavior==-1)[0]] = 0\n",
    "\n",
    "                        if seq_future>0:\n",
    "                            future_behavior = future_behav[:,:(seq_future),5].cpu().long()\n",
    "                            future_voxels = voxels[f'subj0{subj}'][future_behavior]                    \n",
    "                            if torch.any(future_behavior==-1).item(): # remove invalid voxels (-1 if there is no timepoint available)\n",
    "                                future_voxels[torch.where(future_behavior==-1)[0]] = 0\n",
    "                            \n",
    "                        if seq_past > 0 and seq_future > 0:\n",
    "                            voxel = torch.cat((voxel.unsqueeze(1), past_voxels), axis=1)\n",
    "                            voxel = torch.cat((voxel, future_voxels), axis=1)\n",
    "                        elif seq_past > 0:\n",
    "                            voxel = torch.cat((voxel.unsqueeze(1), past_voxels), axis=1)\n",
    "                        else:\n",
    "                            voxel = torch.cat((voxel.unsqueeze(1), future_voxels), axis=1)\n",
    "\n",
    "                    image = behav[:,0,0].cpu().long()\n",
    "\n",
    "                    unique_image, sort_indices = torch.unique(image, return_inverse=True)\n",
    "                    for im in unique_image:\n",
    "                        locs = torch.where(im == image)[0]\n",
    "                        if len(locs)==1:\n",
    "                            locs = locs.repeat(3)\n",
    "                        elif len(locs)==2:\n",
    "                            locs = locs.repeat(2)[:3]\n",
    "                        assert len(locs)==3\n",
    "                        if test_image is None:\n",
    "                            test_image = images[im][None]\n",
    "                            test_voxel = voxel[locs][None]\n",
    "                        else:\n",
    "                            test_image = torch.vstack((test_image, images[im][None]))\n",
    "                            test_voxel = torch.vstack((test_voxel, voxel[locs][None]))\n",
    "\n",
    "                loss=0.\n",
    "                            \n",
    "                test_indices = torch.arange(len(test_voxel))[:300]\n",
    "                voxel = test_voxel[test_indices].to(device)\n",
    "                image = test_image[test_indices].to(device)\n",
    "                assert len(image) == 300\n",
    "\n",
    "                clip_target = clip_img_embedder(image.float())\n",
    "\n",
    "                for rep in range(3):\n",
    "                    voxel_ridge = model.ridge(voxel[:,rep],0) # 0th index of subj_list\n",
    "                    backbone0, clip_voxels0, blurry_image_enc_ = model.backbone(voxel_ridge)\n",
    "                    if rep==0:\n",
    "                        clip_voxels = clip_voxels0\n",
    "                        backbone = backbone0\n",
    "                    else:\n",
    "                        clip_voxels += clip_voxels0\n",
    "                        backbone += backbone0\n",
    "                clip_voxels /= 3\n",
    "                backbone /= 3\n",
    "\n",
    "                if clip_scale>0:\n",
    "                    clip_voxels_norm = nn.functional.normalize(clip_voxels.flatten(1), dim=-1)\n",
    "                    clip_target_norm = nn.functional.normalize(clip_target.flatten(1), dim=-1)\n",
    "                \n",
    "                # for some evals, only doing a subset of the samples per batch because of computational cost\n",
    "                random_samps = np.random.choice(np.arange(len(image)), size=len(image)//15, replace=False)\n",
    "                \n",
    "                if use_prior:\n",
    "                    loss_prior, contaminated_prior_out = model.diffusion_prior(text_embed=backbone[random_samps], image_embed=clip_target[random_samps])\n",
    "                    test_loss_prior_total += loss_prior.item()\n",
    "                    loss_prior *= prior_scale\n",
    "                    loss += loss_prior\n",
    "                    \n",
    "                    if visualize_prior:\n",
    "                        # now get unCLIP prediction without feeding it the image embed to get uncontaminated reconstruction\n",
    "                        prior_out = model.diffusion_prior.p_sample_loop(backbone[random_samps].shape, \n",
    "                                        text_cond = dict(text_embed = backbone[random_samps]), \n",
    "                                        cond_scale = 1., timesteps = 20)\n",
    "\n",
    "                        test_recon_cossim += nn.functional.cosine_similarity(prior_out, clip_target[random_samps]).mean().item()\n",
    "                        test_recon_mse += mse(prior_out, clip_target[random_samps]).item()\n",
    "                        \n",
    "                if clip_scale>0:\n",
    "                    loss_clip = utils.soft_clip_loss(\n",
    "                        clip_voxels_norm,\n",
    "                        clip_target_norm,\n",
    "                        temp=.006)\n",
    "\n",
    "                    test_loss_clip_total += loss_clip.item()\n",
    "                    loss_clip = loss_clip * clip_scale\n",
    "                    loss += loss_clip\n",
    "\n",
    "                if blurry_recon:\n",
    "                    image_enc_pred, _ = blurry_image_enc_\n",
    "                    blurry_recon_images = (autoenc.decode(image_enc_pred[random_samps]/0.18215).sample / 2 + 0.5).clamp(0,1)\n",
    "                    pixcorr = utils.pixcorr(image[random_samps], blurry_recon_images)\n",
    "                    test_blurry_pixcorr += pixcorr.item()\n",
    "\n",
    "                if clip_scale>0:\n",
    "                    # forward and backward top 1 accuracy        \n",
    "                    labels = torch.arange(len(clip_voxels_norm)).to(clip_voxels_norm.device) \n",
    "                    test_fwd_percent_correct += utils.topk(utils.batchwise_cosine_similarity(clip_voxels_norm, clip_target_norm), labels, k=1).item()\n",
    "                    test_bwd_percent_correct += utils.topk(utils.batchwise_cosine_similarity(clip_target_norm, clip_voxels_norm), labels, k=1).item()\n",
    "                \n",
    "                utils.check_loss(loss)                \n",
    "                test_losses.append(loss.item())\n",
    "\n",
    "            # if utils.is_interactive(): clear_output(wait=True)\n",
    "            print(\"---\")\n",
    "\n",
    "            assert (test_i+1) == 1\n",
    "            logs = {\"train/loss\": np.mean(losses[-(train_i+1):]),\n",
    "                \"test/loss\": np.mean(test_losses[-(test_i+1):]),\n",
    "                \"train/lr\": lrs[-1],\n",
    "                \"train/num_steps\": len(losses),\n",
    "                \"test/num_steps\": len(test_losses),\n",
    "                \"train/fwd_pct_correct\": fwd_percent_correct / (train_i + 1),\n",
    "                \"train/bwd_pct_correct\": bwd_percent_correct / (train_i + 1),\n",
    "                \"test/test_fwd_pct_correct\": test_fwd_percent_correct / (test_i + 1),\n",
    "                \"test/test_bwd_pct_correct\": test_bwd_percent_correct / (test_i + 1),\n",
    "                \"train/loss_clip_total\": loss_clip_total / (train_i + 1),\n",
    "                \"train/loss_blurry_total\": loss_blurry_total / (train_i + 1),\n",
    "                \"train/loss_blurry_cont_total\": loss_blurry_cont_total / (train_i + 1),\n",
    "                \"test/loss_clip_total\": test_loss_clip_total / (test_i + 1),\n",
    "                \"train/blurry_pixcorr\": blurry_pixcorr / (train_i + 1),\n",
    "                \"test/blurry_pixcorr\": test_blurry_pixcorr / (test_i + 1),\n",
    "                \"train/recon_cossim\": recon_cossim / (train_i + 1),\n",
    "                \"test/recon_cossim\": test_recon_cossim / (test_i + 1),\n",
    "                \"train/recon_mse\": recon_mse / (train_i + 1),\n",
    "                \"test/recon_mse\": test_recon_mse / (test_i + 1),\n",
    "                \"train/loss_prior\": loss_prior_total / (train_i + 1),\n",
    "                \"test/loss_prior\": test_loss_prior_total / (test_i + 1),\n",
    "                }\n",
    "\n",
    "            # if finished training, save jpg recons if they exist\n",
    "            if (epoch == num_epochs-1) or (epoch % ckpt_interval == 0):\n",
    "                if blurry_recon:    \n",
    "                    image_enc = autoenc.encode(2*image[:4]-1).latent_dist.mode() * 0.18215\n",
    "                    # transform blurry recon latents to images and plot it\n",
    "                    fig, axes = plt.subplots(1, 8, figsize=(10, 4))\n",
    "                    jj=-1\n",
    "                    for j in [0,1,2,3]:\n",
    "                        jj+=1\n",
    "                        axes[jj].imshow(utils.torch_to_Image((autoenc.decode(image_enc[[j]]/0.18215).sample / 2 + 0.5).clamp(0,1)))\n",
    "                        axes[jj].axis('off')\n",
    "                        jj+=1\n",
    "                        axes[jj].imshow(utils.torch_to_Image((autoenc.decode(image_enc_pred[[j]]/0.18215).sample / 2 + 0.5).clamp(0,1)))\n",
    "                        axes[jj].axis('off')\n",
    "\n",
    "                    if wandb_log:\n",
    "                        logs[f\"test/blur_recons\"] = wandb.Image(fig, caption=f\"epoch{epoch:03d}\")\n",
    "                        plt.close()\n",
    "                    else:\n",
    "                        plt.show()\n",
    "                        \n",
    "                if use_prior and visualize_prior: # output recons every ckpt\n",
    "                    idx = np.random.randint(0, 3)\n",
    "                    print(f\"reconstructing... idx={idx}\")\n",
    "                    samples = utils.unclip_recon(prior_out[[idx]],\n",
    "                             diffusion_engine,\n",
    "                             vector_suffix)\n",
    "                    if wandb_log:\n",
    "                        logs[f\"test/orig\"] = wandb.Image(transforms.ToPILImage()(image[idx]),\n",
    "                                                           caption=f\"epoch{epoch:03d}\")\n",
    "                        logs[f\"test/recons\"] = wandb.Image(transforms.ToPILImage()(samples[0]),\n",
    "                                                           caption=f\"epoch{epoch:03d}\")\n",
    "                    if utils.is_interactive():\n",
    "                        plt.figure(figsize=(2,2))\n",
    "                        plt.imshow(transforms.ToPILImage()(image[idx]))\n",
    "                        plt.axis('off')\n",
    "                        plt.show()\n",
    "                        \n",
    "                        plt.figure(figsize=(2,2))\n",
    "                        plt.imshow(transforms.ToPILImage()(samples[0]))\n",
    "                        plt.axis('off')\n",
    "                        plt.show()\n",
    "\n",
    "            progress_bar.set_postfix(**logs)\n",
    "\n",
    "            if wandb_log: wandb.log(logs)\n",
    "            \n",
    "    # Save model checkpoint and reconstruct\n",
    "    if (ckpt_saving) and (epoch % ckpt_interval == 0):\n",
    "        save_ckpt(f'last')\n",
    "\n",
    "    # wait for other GPUs to catch up if needed\n",
    "    accelerator.wait_for_everyone()\n",
    "    torch.cuda.empty_cache()\n",
    "    gc.collect()\n",
    "\n",
    "print(\"\\n===Finished!===\\n\")\n",
    "if ckpt_saving:\n",
    "    save_ckpt(f'last')\n"
   ]
  },
  {
   "cell_type": "code",
   "execution_count": null,
   "id": "3eb136f7-75fb-4c64-8c89-18e77eec9b04",
   "metadata": {},
   "outputs": [],
   "source": []
  },
  {
   "cell_type": "code",
   "execution_count": null,
   "id": "6d08559c-ffc2-4dbd-b5e0-195b26510cbc",
   "metadata": {},
   "outputs": [],
   "source": []
  }
 ],
 "metadata": {
  "kernelspec": {
   "display_name": "Python 3 (ipykernel)",
   "language": "python",
   "name": "python3"
  },
  "language_info": {
   "codemirror_mode": {
    "name": "ipython",
    "version": 3
   },
   "file_extension": ".py",
   "mimetype": "text/x-python",
   "name": "python",
   "nbconvert_exporter": "python",
   "pygments_lexer": "ipython3",
   "version": "3.10.8"
  },
  "toc": {
   "base_numbering": 1,
   "nav_menu": {},
   "number_sections": true,
   "sideBar": true,
   "skip_h1_title": false,
   "title_cell": "Table of Contents",
   "title_sidebar": "Contents",
   "toc_cell": false,
   "toc_position": {
    "height": "calc(100% - 180px)",
    "left": "10px",
    "top": "150px",
    "width": "165px"
   },
   "toc_section_display": true,
   "toc_window_display": true
  },
  "toc-autonumbering": true,
  "vscode": {
   "interpreter": {
    "hash": "62aae01ef0cf7b6af841ab1c8ce59175c4332e693ab3d00bc32ceffb78a35376"
   }
  }
 },
 "nbformat": 4,
 "nbformat_minor": 5
}
