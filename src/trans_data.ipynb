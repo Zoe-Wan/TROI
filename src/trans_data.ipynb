{
 "cells": [
  {
   "cell_type": "code",
   "execution_count": 1,
   "id": "94eaa262-1f33-40d7-968c-9208d37f3a7e",
   "metadata": {
    "tags": []
   },
   "outputs": [],
   "source": [
    "subj_id = 1\n"
   ]
  },
  {
   "cell_type": "code",
   "execution_count": 2,
   "id": "5c092383-d24f-4295-8c46-123dbb7a3e9a",
   "metadata": {
    "tags": []
   },
   "outputs": [],
   "source": [
    "import pandas as pd\n",
    "import numpy as np\n",
    "# 读取原始的 TSV 文件\n",
    "df = pd.read_csv('/root/autodl-tmp/NSD/nsddata_betas/nsd_stim_info_merged.csv', delimiter=',')\n",
    "\n",
    "# data = df[df[f'subject{subj_id}']==1]\n",
    "train_data = df[(df['shared1000']==False) & (df[f'subject{subj_id}']==1)]\n",
    "val_data = df[(df['shared1000']==True) & (df[f'subject{subj_id}']==1)]\n",
    "\n",
    "\n",
    "\n",
    "train_idx = train_data[[f'subject{subj_id}_rep{i}' for i in range(3)]].values\n",
    "val_idx = val_data[[f'subject{subj_id}_rep{i}' for i in range(3)]].values\n",
    "train_image_idx = train_data['nsdId'].values\n",
    "val_image_idx = val_data['nsdId'].values\n",
    "\n",
    "np.save(f'/root/autodl-tmp/NSD/nsddata_betas/ppdata/subj{subj_id:02}/subj{subj_id:02}_train_index.npy',train_idx)\n",
    "np.save(f'/root/autodl-tmp/NSD/nsddata_betas/ppdata/subj{subj_id:02}/subj{subj_id:02}_train_image_index.npy',train_image_idx)\n",
    "np.save(f'/root/autodl-tmp/NSD/nsddata_betas/ppdata/subj{subj_id:02}/subj{subj_id:02}_val_index.npy',val_idx)\n",
    "np.save(f'/root/autodl-tmp/NSD/nsddata_betas/ppdata/subj{subj_id:02}/subj{subj_id:02}_val_image_index.npy',val_image_idx)\n"
   ]
  },
  {
   "cell_type": "code",
   "execution_count": 3,
   "id": "ebc5f7a8-17e2-4a68-8312-2484b2f215ff",
   "metadata": {
    "tags": []
   },
   "outputs": [
    {
     "name": "stdout",
     "output_type": "stream",
     "text": [
      "(9000, 3)\n",
      "(1000, 3)\n"
     ]
    }
   ],
   "source": [
    "print(train_idx.shape)\n",
    "print(val_idx.shape)"
   ]
  },
  {
   "cell_type": "code",
   "execution_count": 4,
   "id": "51c941bd-ee37-4006-a09a-d084df949b9f",
   "metadata": {
    "tags": []
   },
   "outputs": [
    {
     "data": {
      "text/plain": [
       "73000"
      ]
     },
     "execution_count": 4,
     "metadata": {},
     "output_type": "execute_result"
    }
   ],
   "source": [
    "len(df)"
   ]
  },
  {
   "cell_type": "code",
   "execution_count": 9,
   "id": "05830682-6573-45bc-bf55-c374c8b52297",
   "metadata": {
    "tags": []
   },
   "outputs": [
    {
     "name": "stderr",
     "output_type": "stream",
     "text": [
      "100%|██████████| 42/42 [03:32<00:00,  5.06s/it]\n"
     ]
    }
   ],
   "source": [
    "import os\n",
    "from tqdm import tqdm\n",
    "import nibabel as nb\n",
    "import numpy as np\n",
    "\n",
    "def read_nii_files_in_directory(directory):\n",
    "    for filename in tqdm(os.listdir(directory)):\n",
    "        if filename.endswith('.nii.gz'):\n",
    "            file_path = os.path.join(directory, filename)\n",
    "            nii = nb.load(file_path)\n",
    "            img = np.asarray(nii.dataobj)\n",
    "            # 保存数据到.npy文件\n",
    "            output_file = f'/root/autodl-tmp/NSD/nsddata_betas/ppdata/subj{subj_id:02}/numpy/{filename.split(\".\")[0]}.npy'\n",
    "            np.save(output_file, img)\n",
    "\n",
    "            \n",
    "\n",
    "# 指定文件夹路径\n",
    "directory_path = f'/root/autodl-tmp/NSD/nsddata_betas/ppdata/subj{subj_id:02}/func1pt8mm/betas_fithrf_GLMdenoise_RR'\n",
    "read_nii_files_in_directory(directory_path)"
   ]
  },
  {
   "cell_type": "code",
   "execution_count": 6,
   "id": "dea18e2c-8a1f-4a9c-9bc2-7b881de2c6c5",
   "metadata": {
    "tags": []
   },
   "outputs": [
    {
     "name": "stderr",
     "output_type": "stream",
     "text": [
      "  0%|          | 0/40 [00:00<?, ?it/s]/tmp/ipykernel_1065/3916499870.py:12: RuntimeWarning: invalid value encountered in divide\n",
      "  data0 = (data0-mean)/std\n",
      "100%|██████████| 40/40 [16:19<00:00, 24.48s/it]\n"
     ]
    }
   ],
   "source": [
    "import gc\n",
    "from tqdm import tqdm\n",
    "import numpy as np\n",
    "\n",
    "data = np.ndarray(shape = (30000,81,104,83),dtype='float16')\n",
    "start=0\n",
    "for i in tqdm(range(1,41)):\n",
    "    data0 = np.load(f'/root/autodl-tmp/NSD/nsddata_betas/ppdata/subj{subj_id:02}/numpy/betas_session{i:02}.npy')\n",
    "    # data0 [x,y,z,b]\n",
    "    mean = data0.mean(3,keepdims = True)\n",
    "    std = data0.std(3,keepdims = True)\n",
    "    data0 = (data0-mean)/std\n",
    "    data0[np.isnan(data0)]=0\n",
    "    # 不知道为什么要每个Session做标准化，但是这里的问题是没有排除test数据集\n",
    "    l=data0.shape[3] # 750\n",
    "    end = start+l\n",
    "    data[start:end,:,:,:] = data0.transpose((3,0,1,2))\n",
    "    start=end\n",
    "    del data0\n",
    "    gc.collect()\n",
    "\n",
    "np.save(f'/root/autodl-tmp/NSD/nsddata_betas/ppdata/subj{subj_id:02}/subj{subj_id:02}_fmri_ori.npy',data)"
   ]
  },
  {
   "cell_type": "code",
   "execution_count": 4,
   "id": "c45e9e80-62fb-4236-b550-ee635cc3d9a5",
   "metadata": {
    "tags": []
   },
   "outputs": [],
   "source": [
    "# 新版本不用跑下面两个分割"
   ]
  },
  {
   "cell_type": "code",
   "execution_count": 3,
   "id": "cd1328d3-3fa7-497e-9e70-f906e4e271fd",
   "metadata": {
    "tags": []
   },
   "outputs": [
    {
     "data": {
      "text/plain": [
       "0"
      ]
     },
     "execution_count": 3,
     "metadata": {},
     "output_type": "execute_result"
    }
   ],
   "source": [
    "import numpy as np\n",
    "import gc\n",
    "# index = np.arange(10000)\n",
    "# np.random.shuffle(index)\n",
    "# train_idx = index[:9000]\n",
    "# val_idx = index[9000:10000]\n",
    "# fmri_path = f'/root/autodl-tmp/NSD/nsddata_betas/ppdata/subj{subj_id:02}/subj{subj_id:02}_fmri.npy'\n",
    "# fmri = np.load(fmri_path, mmap_mode='r')\n",
    "ori_fmri = np.load(f'/root/autodl-tmp/NSD/nsddata_betas/ppdata/subj{subj_id:02}/subj{subj_id:02}_fmri_ori.npy',mmap_mode='r')\n",
    "\n",
    "train_idx = np.load(f'/root/autodl-tmp/NSD/nsddata_betas/ppdata/subj{subj_id:02}/subj{subj_id:02}_train_index.npy')\n",
    "val_idx = np.load(f'/root/autodl-tmp/NSD/nsddata_betas/ppdata/subj{subj_id:02}/subj{subj_id:02}_val_index.npy')\n",
    "\n",
    "train_fmri = ori_fmri[train_idx-1]\n",
    "np.save(f'/root/autodl-tmp/NSD/nsddata_betas/ppdata/subj{subj_id:02}/new_split/train_fmri.npy',train_fmri)\n",
    "del train_fmri\n",
    "gc.collect()\n",
    "\n",
    "val_fmri = ori_fmri[val_idx-1]\n",
    "np.save(f'/root/autodl-tmp/NSD/nsddata_betas/ppdata/subj{subj_id:02}/new_split/val_fmri.npy',val_fmri)\n",
    "\n",
    "\n",
    "del val_fmri\n",
    "del ori_fmri\n",
    "\n",
    "gc.collect()\n",
    "\n"
   ]
  },
  {
   "cell_type": "code",
   "execution_count": null,
   "id": "e07387f3-924b-4f94-988e-ec0682f4e6b2",
   "metadata": {
    "tags": []
   },
   "outputs": [],
   "source": [
    "# image_path = f'/root/autodl-tmp/NSD/nsddata_betas/ppdata/subj{subj_id:02}/subj{subj_id:02}_images.npy'\n",
    "# images = np.load(image_path, mmap_mode='r')\n",
    "# the image file\n",
    "import h5py\n",
    "import numpy as np\n",
    "import gc\n",
    "with h5py.File('/root/autodl-tmp/NSD/nsd/nsd_stimuli.hdf5') as image_file:\n",
    "    # print(\"Datasets in HDF5 file:\", list(hdf_file.keys())) # ['imgBrick']\n",
    "    images = image_file['imgBrick']\n",
    "\n",
    "    train_image_idx = np.load(f'/root/autodl-tmp/NSD/nsddata_betas/ppdata/subj{subj_id:02}/subj{subj_id:02}_train_image_index.npy')\n",
    "    train_images = images[train_image_idx]\n",
    "    val_image_idx = np.load(f'/root/autodl-tmp/NSD/nsddata_betas/ppdata/subj{subj_id:02}/subj{subj_id:02}_val_image_index.npy')\n",
    "\n",
    "    np.save(f'/root/autodl-tmp/NSD/nsddata_betas/ppdata/subj{subj_id:02}/new_split/train_images.npy',train_images)\n",
    "    del train_images\n",
    "    gc.collect()\n",
    "\n",
    "    val_images = images[val_image_idx]\n",
    "    np.save(f'/root/autodl-tmp/NSD/nsddata_betas/ppdata/subj{subj_id:02}/new_split/val_images.npy',val_images)\n"
   ]
  },
  {
   "cell_type": "code",
   "execution_count": 4,
   "id": "485904de-c561-4329-8b3e-78f2afd8124c",
   "metadata": {
    "tags": []
   },
   "outputs": [
    {
     "data": {
      "text/plain": [
       "array([   13,    27,    71, ..., 72985, 72992, 72999])"
      ]
     },
     "execution_count": 4,
     "metadata": {},
     "output_type": "execute_result"
    }
   ],
   "source": [
    "train_image_idx"
   ]
  },
  {
   "cell_type": "code",
   "execution_count": 5,
   "id": "d25ad8a0-e359-4582-aaee-06f53d616ef0",
   "metadata": {
    "tags": []
   },
   "outputs": [],
   "source": [
    "import numpy as np\n",
    "data = np.load('/root/autodl-tmp/NSD/nsddata_betas/ppdata/subj01/new_split/val_fmri.npy', mmap_mode='r')"
   ]
  },
  {
   "cell_type": "code",
   "execution_count": 6,
   "id": "1a37664c-1aa3-426e-9e07-9bdbd8f8f5ac",
   "metadata": {
    "tags": []
   },
   "outputs": [
    {
     "name": "stdout",
     "output_type": "stream",
     "text": [
      "(1000, 3, 81, 104, 83)\n"
     ]
    }
   ],
   "source": [
    "print(data.shape)"
   ]
  },
  {
   "cell_type": "markdown",
   "id": "995f3e61-3971-4e2d-8984-db5681e5d8f3",
   "metadata": {},
   "source": [
    "# 将ori文件分割后重新保存"
   ]
  },
  {
   "cell_type": "code",
   "execution_count": 1,
   "id": "233f876e-eb37-436d-a5dd-162a8bfb16f0",
   "metadata": {
    "tags": []
   },
   "outputs": [
    {
     "ename": "NameError",
     "evalue": "name 'subj' is not defined",
     "output_type": "error",
     "traceback": [
      "\u001b[0;31m---------------------------------------------------------------------------\u001b[0m",
      "\u001b[0;31mNameError\u001b[0m                                 Traceback (most recent call last)",
      "Cell \u001b[0;32mIn[1], line 2\u001b[0m\n\u001b[1;32m      1\u001b[0m \u001b[38;5;28;01mimport\u001b[39;00m \u001b[38;5;21;01mnumpy\u001b[39;00m \u001b[38;5;28;01mas\u001b[39;00m \u001b[38;5;21;01mnp\u001b[39;00m\n\u001b[0;32m----> 2\u001b[0m oridata \u001b[38;5;241m=\u001b[39m np\u001b[38;5;241m.\u001b[39mload(\u001b[38;5;124mf\u001b[39m\u001b[38;5;124m'\u001b[39m\u001b[38;5;124m/root/autodl-tmp/NSD/nsddata_betas/ppdata/subj\u001b[39m\u001b[38;5;132;01m{\u001b[39;00msubj\u001b[38;5;132;01m:\u001b[39;00m\u001b[38;5;124m02\u001b[39m\u001b[38;5;132;01m}\u001b[39;00m\u001b[38;5;124m/subj\u001b[39m\u001b[38;5;132;01m{\u001b[39;00msubj\u001b[38;5;132;01m:\u001b[39;00m\u001b[38;5;124m02\u001b[39m\u001b[38;5;132;01m}\u001b[39;00m\u001b[38;5;124m_fmri_ori.npy\u001b[39m\u001b[38;5;124m'\u001b[39m,mmap_mode\u001b[38;5;241m=\u001b[39m\u001b[38;5;124m'\u001b[39m\u001b[38;5;124mr\u001b[39m\u001b[38;5;124m'\u001b[39m)\n\u001b[1;32m      4\u001b[0m \u001b[38;5;66;03m# oridata.shape\u001b[39;00m\n\u001b[1;32m      5\u001b[0m data \u001b[38;5;241m=\u001b[39m np\u001b[38;5;241m.\u001b[39mzeros((\u001b[38;5;241m30000\u001b[39m,\u001b[38;5;241m60\u001b[39m,\u001b[38;5;241m40\u001b[39m,\u001b[38;5;241m40\u001b[39m))\u001b[38;5;241m.\u001b[39mastype(\u001b[38;5;124m'\u001b[39m\u001b[38;5;124mfloat16\u001b[39m\u001b[38;5;124m'\u001b[39m)\n",
      "\u001b[0;31mNameError\u001b[0m: name 'subj' is not defined"
     ]
    }
   ],
   "source": [
    "import numpy as np\n",
    "oridata = np.load(f'/root/autodl-tmp/NSD/nsddata_betas/ppdata/subj{subj:02}/subj{subj:02}_fmri_ori.npy',mmap_mode='r')\n",
    "\n",
    "# oridata.shape\n",
    "data = np.zeros((30000,60,40,40)).astype('float16')\n",
    "\n",
    "chunk_size = 3000\n",
    "total = 30000\n",
    "for start_i in range(0,total,chunk_size):\n",
    "    end_i = start_i+chunk_size\n",
    "    chunk =  oridata[start_i:end_i,12:72,:40,20:60]\n",
    "    data[start_i:end_i] = chunk\n",
    "    del chunk\n",
    "np.save(f'/root/autodl-tmp/NSD/nsddata_betas/ppdata/subj{subj_id:02}/subj{subj_id:02}_fmri_resize.npy',data.astype('float16'))"
   ]
  },
  {
   "cell_type": "code",
   "execution_count": null,
   "id": "29cb4dfa-0727-44ac-91fa-9aa36e049b80",
   "metadata": {},
   "outputs": [],
   "source": []
  }
 ],
 "metadata": {
  "kernelspec": {
   "display_name": "Python 3 (ipykernel)",
   "language": "python",
   "name": "python3"
  },
  "language_info": {
   "codemirror_mode": {
    "name": "ipython",
    "version": 3
   },
   "file_extension": ".py",
   "mimetype": "text/x-python",
   "name": "python",
   "nbconvert_exporter": "python",
   "pygments_lexer": "ipython3",
   "version": "3.10.8"
  }
 },
 "nbformat": 4,
 "nbformat_minor": 5
}
